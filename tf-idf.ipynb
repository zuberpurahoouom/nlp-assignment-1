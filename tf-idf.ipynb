{
 "cells": [
  {
   "cell_type": "markdown",
   "id": "cfeccb437bf688f7",
   "metadata": {},
   "source": [
    "## Setup"
   ]
  },
  {
   "cell_type": "markdown",
   "id": "fec17f88d4ab062c",
   "metadata": {},
   "source": [
    "## Import Libraries"
   ]
  },
  {
   "cell_type": "code",
   "execution_count": 103,
   "id": "dfc0e33b37163df",
   "metadata": {
    "ExecuteTime": {
     "end_time": "2025-09-10T19:59:01.702713Z",
     "start_time": "2025-09-10T19:59:01.699028Z"
    }
   },
   "outputs": [],
   "source": [
    "import numpy as np\n",
    "import pandas as pd\n",
    "\n",
    "from typing import List, Dict, Tuple, Optional,  Sequence\n",
    "from tqdm import tqdm\n",
    "from scipy import sparse\n",
    "from sklearn.feature_extraction.text import TfidfVectorizer"
   ]
  },
  {
   "cell_type": "markdown",
   "id": "2acd39e6551553d2",
   "metadata": {},
   "source": [
    "## Preprocessing"
   ]
  },
  {
   "cell_type": "markdown",
   "id": "df72874a2b4dd1f",
   "metadata": {},
   "source": [
    "### Load and Sample the Dataset"
   ]
  },
  {
   "cell_type": "code",
   "execution_count": 104,
   "id": "56a7bcffc1eb9ee9",
   "metadata": {
    "ExecuteTime": {
     "end_time": "2025-09-10T18:59:48.052713Z",
     "start_time": "2025-09-10T18:59:48.046839Z"
    }
   },
   "outputs": [
    {
     "data": {
      "text/html": [
       "<div>\n",
       "<style scoped>\n",
       "    .dataframe tbody tr th:only-of-type {\n",
       "        vertical-align: middle;\n",
       "    }\n",
       "\n",
       "    .dataframe tbody tr th {\n",
       "        vertical-align: top;\n",
       "    }\n",
       "\n",
       "    .dataframe thead th {\n",
       "        text-align: right;\n",
       "    }\n",
       "</style>\n",
       "<table border=\"1\" class=\"dataframe\">\n",
       "  <thead>\n",
       "    <tr style=\"text-align: right;\">\n",
       "      <th></th>\n",
       "      <th>pid</th>\n",
       "      <th>text</th>\n",
       "    </tr>\n",
       "  </thead>\n",
       "  <tbody>\n",
       "    <tr>\n",
       "      <th>0</th>\n",
       "      <td>448</td>\n",
       "      <td>A postal code (also known locally in various E...</td>\n",
       "    </tr>\n",
       "    <tr>\n",
       "      <th>1</th>\n",
       "      <td>466</td>\n",
       "      <td>Therefore, all pathologists must have complete...</td>\n",
       "    </tr>\n",
       "    <tr>\n",
       "      <th>2</th>\n",
       "      <td>646</td>\n",
       "      <td>Obesity is a complex disorder involving an exc...</td>\n",
       "    </tr>\n",
       "    <tr>\n",
       "      <th>3</th>\n",
       "      <td>1212</td>\n",
       "      <td>Which president appointed FBI Director James C...</td>\n",
       "    </tr>\n",
       "    <tr>\n",
       "      <th>4</th>\n",
       "      <td>1213</td>\n",
       "      <td>Comey was confirmed by the Senate on July 29, ...</td>\n",
       "    </tr>\n",
       "    <tr>\n",
       "      <th>5</th>\n",
       "      <td>1816</td>\n",
       "      <td>An aneurysm results from weakness in the tissu...</td>\n",
       "    </tr>\n",
       "    <tr>\n",
       "      <th>6</th>\n",
       "      <td>2147</td>\n",
       "      <td>Broken or bruised ribs. Introduction. Broken (...</td>\n",
       "    </tr>\n",
       "    <tr>\n",
       "      <th>7</th>\n",
       "      <td>3653</td>\n",
       "      <td>United States Office of War Information. The U...</td>\n",
       "    </tr>\n",
       "    <tr>\n",
       "      <th>8</th>\n",
       "      <td>3760</td>\n",
       "      <td>Your best bet is to get the biggest computer m...</td>\n",
       "    </tr>\n",
       "    <tr>\n",
       "      <th>9</th>\n",
       "      <td>3809</td>\n",
       "      <td>An adiabatic process is any process occurring ...</td>\n",
       "    </tr>\n",
       "  </tbody>\n",
       "</table>\n",
       "</div>"
      ],
      "text/plain": [
       "    pid                                               text\n",
       "0   448  A postal code (also known locally in various E...\n",
       "1   466  Therefore, all pathologists must have complete...\n",
       "2   646  Obesity is a complex disorder involving an exc...\n",
       "3  1212  Which president appointed FBI Director James C...\n",
       "4  1213  Comey was confirmed by the Senate on July 29, ...\n",
       "5  1816  An aneurysm results from weakness in the tissu...\n",
       "6  2147  Broken or bruised ribs. Introduction. Broken (...\n",
       "7  3653  United States Office of War Information. The U...\n",
       "8  3760  Your best bet is to get the biggest computer m...\n",
       "9  3809  An adiabatic process is any process occurring ..."
      ]
     },
     "execution_count": 104,
     "metadata": {},
     "output_type": "execute_result"
    }
   ],
   "source": [
    "collection_df = pd.read_csv(\"common_dataset_80k.tsv\", sep=\"\\t\", header=None, names=[\"pid\", \"text\"], dtype={\"pid\": str, \"text\": str})\n",
    "collection_df.head(10)"
   ]
  },
  {
   "cell_type": "code",
   "execution_count": 105,
   "id": "e2721f526855ca37",
   "metadata": {
    "ExecuteTime": {
     "end_time": "2025-09-10T18:59:48.337352Z",
     "start_time": "2025-09-10T18:59:48.263007Z"
    }
   },
   "outputs": [
    {
     "data": {
      "text/html": [
       "<div>\n",
       "<style scoped>\n",
       "    .dataframe tbody tr th:only-of-type {\n",
       "        vertical-align: middle;\n",
       "    }\n",
       "\n",
       "    .dataframe tbody tr th {\n",
       "        vertical-align: top;\n",
       "    }\n",
       "\n",
       "    .dataframe thead th {\n",
       "        text-align: right;\n",
       "    }\n",
       "</style>\n",
       "<table border=\"1\" class=\"dataframe\">\n",
       "  <thead>\n",
       "    <tr style=\"text-align: right;\">\n",
       "      <th></th>\n",
       "      <th>qid</th>\n",
       "      <th>query</th>\n",
       "    </tr>\n",
       "  </thead>\n",
       "  <tbody>\n",
       "    <tr>\n",
       "      <th>0</th>\n",
       "      <td>1048578</td>\n",
       "      <td>cost of endless pools/swim spa</td>\n",
       "    </tr>\n",
       "    <tr>\n",
       "      <th>1</th>\n",
       "      <td>1048579</td>\n",
       "      <td>what is pcnt</td>\n",
       "    </tr>\n",
       "    <tr>\n",
       "      <th>2</th>\n",
       "      <td>1048580</td>\n",
       "      <td>what is pcb waste</td>\n",
       "    </tr>\n",
       "    <tr>\n",
       "      <th>3</th>\n",
       "      <td>1048581</td>\n",
       "      <td>what is pbis?</td>\n",
       "    </tr>\n",
       "    <tr>\n",
       "      <th>4</th>\n",
       "      <td>1048582</td>\n",
       "      <td>what is paysky</td>\n",
       "    </tr>\n",
       "    <tr>\n",
       "      <th>5</th>\n",
       "      <td>1048583</td>\n",
       "      <td>what is paydata</td>\n",
       "    </tr>\n",
       "    <tr>\n",
       "      <th>6</th>\n",
       "      <td>1048584</td>\n",
       "      <td>what is pay range for warehouse specialist in ...</td>\n",
       "    </tr>\n",
       "    <tr>\n",
       "      <th>7</th>\n",
       "      <td>1048585</td>\n",
       "      <td>what is paula deen's brother</td>\n",
       "    </tr>\n",
       "    <tr>\n",
       "      <th>8</th>\n",
       "      <td>1048586</td>\n",
       "      <td>what is paul gum disease</td>\n",
       "    </tr>\n",
       "    <tr>\n",
       "      <th>9</th>\n",
       "      <td>1048587</td>\n",
       "      <td>what is patron</td>\n",
       "    </tr>\n",
       "  </tbody>\n",
       "</table>\n",
       "</div>"
      ],
      "text/plain": [
       "       qid                                              query\n",
       "0  1048578                     cost of endless pools/swim spa\n",
       "1  1048579                                       what is pcnt\n",
       "2  1048580                                  what is pcb waste\n",
       "3  1048581                                      what is pbis?\n",
       "4  1048582                                     what is paysky\n",
       "5  1048583                                    what is paydata\n",
       "6  1048584  what is pay range for warehouse specialist in ...\n",
       "7  1048585                       what is paula deen's brother\n",
       "8  1048586                           what is paul gum disease\n",
       "9  1048587                                     what is patron"
      ]
     },
     "execution_count": 105,
     "metadata": {},
     "output_type": "execute_result"
    }
   ],
   "source": [
    "queries_df = pd.read_csv(\"queries.dev.tsv\", sep=\"\\t\", names=[\"qid\", \"query\"], dtype={\"qid\": str, \"query\": str})\n",
    "queries_df.head(10)"
   ]
  },
  {
   "cell_type": "markdown",
   "id": "92b053b5206c00bb",
   "metadata": {},
   "source": [
    "## Methodology"
   ]
  },
  {
   "cell_type": "markdown",
   "id": "257ddcd26947562",
   "metadata": {},
   "source": [
    "### TD-IDF"
   ]
  },
  {
   "cell_type": "markdown",
   "id": "b0478f624ec73438",
   "metadata": {},
   "source": [
    "#### Build TD-IDF Model"
   ]
  },
  {
   "cell_type": "code",
   "execution_count": 106,
   "id": "56bff0e6308b0848",
   "metadata": {
    "ExecuteTime": {
     "end_time": "2025-09-10T18:59:52.960315Z",
     "start_time": "2025-09-10T18:59:52.956255Z"
    }
   },
   "outputs": [],
   "source": [
    "def build_tfidf_index(\n",
    "    texts: List[str],\n",
    "    stopwords: Optional[str] = \"english\",\n",
    "    ngram_range: Tuple[int, int] = (1, 2),  # unigrams + bigrams\n",
    "    min_df: int | float = 2,\n",
    "    max_df: int | float = 0.8,\n",
    "    max_features: Optional[int] = None,\n",
    "    sublinear_tf: bool = True,\n",
    "    use_idf: bool = True,\n",
    "    norm: Optional[str] = \"l2\",\n",
    ") -> Tuple[TfidfVectorizer, sparse.csr_matrix]:\n",
    "    \"\"\"Build and fit a TF-IDF vectorizer.\n",
    "\n",
    "    Parameters\n",
    "    ----------\n",
    "    texts : list[str]\n",
    "        Raw document texts aligned with pid order.\n",
    "    stopwords : str | None\n",
    "        \"english\" for built-in list or None to keep all tokens.\n",
    "    ngram_range : (int,int)\n",
    "        Token n-gram span.\n",
    "    min_df : int | float\n",
    "        Keep terms in at least this many docs (int) or proportion (float).\n",
    "    max_df : int | float\n",
    "        Drop terms in more than this many docs / proportion.\n",
    "    max_features : int | None\n",
    "        Cap vocabulary size (most frequent terms kept) if set.\n",
    "    sublinear_tf : bool\n",
    "        Apply 1 + log(tf) scaling (can help long docs dominate less).\n",
    "    use_idf : bool\n",
    "        If False, this degenerates to normalized term frequency.\n",
    "    norm : str | None\n",
    "        Normalization applied to rows.\n",
    "    \"\"\"\n",
    "    vectorizer = TfidfVectorizer(\n",
    "        input=\"content\",\n",
    "        lowercase=True,\n",
    "        strip_accents=\"unicode\",\n",
    "        stop_words=stopwords,\n",
    "        token_pattern=r\"(?u)\\b\\w\\w+\\b\",\n",
    "        ngram_range=ngram_range,\n",
    "        min_df=min_df,\n",
    "        max_df=max_df,\n",
    "        max_features=max_features,\n",
    "        dtype=np.float32,\n",
    "        norm=norm,\n",
    "        sublinear_tf=sublinear_tf,\n",
    "        use_idf=use_idf,\n",
    "    )\n",
    "    tfidf = vectorizer.fit_transform(texts)\n",
    "    return vectorizer, tfidf.tocsr()"
   ]
  },
  {
   "cell_type": "code",
   "execution_count": 107,
   "id": "fedc1e3c79ea65c8",
   "metadata": {
    "ExecuteTime": {
     "end_time": "2025-09-10T18:59:57.189358Z",
     "start_time": "2025-09-10T18:59:52.963641Z"
    }
   },
   "outputs": [
    {
     "name": "stdout",
     "output_type": "stream",
     "text": [
      "Building TF‑IDF (stopwords='English')...\n"
     ]
    },
    {
     "name": "stdout",
     "output_type": "stream",
     "text": [
      "TF‑IDF matrix shape: (80000, 275959) (docs x terms)\n"
     ]
    }
   ],
   "source": [
    "print(f\"Building TF‑IDF (stopwords='English')...\")\n",
    "vectorizer, doc_matrix = build_tfidf_index(collection_df['text'])\n",
    "print(f\"TF‑IDF matrix shape: {doc_matrix.shape} (docs x terms)\")"
   ]
  },
  {
   "cell_type": "code",
   "execution_count": 108,
   "id": "93fa8b817badefe9",
   "metadata": {
    "ExecuteTime": {
     "end_time": "2025-09-10T18:59:57.219406Z",
     "start_time": "2025-09-10T18:59:57.214091Z"
    }
   },
   "outputs": [],
   "source": [
    "def retrieve_topN_for_queries(\n",
    "    vectorizer: TfidfVectorizer,\n",
    "    doc_matrix: sparse.csr_matrix,\n",
    "    doc_ids: Sequence[str],\n",
    "    queries_df: pd.DataFrame,\n",
    "    topN: int = 10\n",
    ") -> Dict[str, List[Tuple[str, float]]]:\n",
    "    \"\"\"Return topN doc ids per query using cosine similarity (dot product on L2-normalized rows).\n",
    "\n",
    "    Parameters\n",
    "    ----------\n",
    "    topN : int\n",
    "        Number of documents to keep per query.\n",
    "    \"\"\"\n",
    "    doc_ids = list(map(str, list(doc_ids)))\n",
    "    qids = queries_df[\"qid\"].astype(str).values\n",
    "    qtexts = queries_df[\"query\"].astype(str).values\n",
    "\n",
    "    results: Dict[str, List[Tuple[str, float]]] = {}\n",
    "    for qid, qtext in tqdm(zip(qids, qtexts), total=len(qids), desc=\"Retrieving\"):\n",
    "        qvec = vectorizer.transform([qtext])            # (1 x V)\n",
    "        scores = (doc_matrix @ qvec.T).toarray().ravel() # (D,)\n",
    "\n",
    "        if scores.size <= topN:\n",
    "            idx = np.argsort(-scores)\n",
    "        else:\n",
    "            idx_part = np.argpartition(-scores, topN-1)[:topN]\n",
    "            idx = idx_part[np.argsort(-scores[idx_part])]\n",
    "        ranked = [(doc_ids[i], float(scores[i])) for i in idx]\n",
    "        results[qid] = ranked[:topN]\n",
    "\n",
    "    return results"
   ]
  },
  {
   "cell_type": "markdown",
   "id": "fe1846d9c6eb8aff",
   "metadata": {},
   "source": [
    "#### Metric for TF-IDF"
   ]
  },
  {
   "cell_type": "code",
   "execution_count": 109,
   "id": "60de568fab5054fa",
   "metadata": {
    "ExecuteTime": {
     "end_time": "2025-09-10T19:59:53.763821Z",
     "start_time": "2025-09-10T19:59:53.759559Z"
    }
   },
   "outputs": [],
   "source": [
    "from eval_metrics import ndcg_at_k, average_precision_at_k, recall_at_k\n",
    "\n",
    "def evaluate_run_at_k_df(\n",
    "    run: Dict[str, List[Tuple[str, float]]],   # {qid: [(pid, score), ...]}\n",
    "    qrels_df: pd.DataFrame,                    # columns: qid, pid, rel\n",
    "    k: int\n",
    ") -> dict:\n",
    "    \"\"\"Macro nDCG@k / MAP@k / Recall@k over queries present in BOTH run & qrels.\n",
    "    Missing queries in run are ignored (common IR eval convention); to penalize omissions,\n",
    "    explicitly inject empty lists before calling.\n",
    "    \"\"\"\n",
    "    # Build relevance dicts\n",
    "    rel_dict_by_q: Dict[str, Dict[str, int]] = {}\n",
    "    rel_set_by_q: Dict[str, set] = {}\n",
    "    for qid, g in qrels_df.groupby(\"qid\", sort=False):\n",
    "        rel_dict = dict(zip(g[\"pid\"], g[\"rel\"]))\n",
    "        rel_dict_by_q[qid] = rel_dict\n",
    "        rel_set_by_q[qid] = {pid for pid, rel in rel_dict.items() if rel > 0}\n",
    "\n",
    "    eval_qids = [qid for qid in run.keys() if qid in rel_dict_by_q]\n",
    "\n",
    "    ndcg_vals, map_vals, rcl_vals = [], [], []\n",
    "    for qid in eval_qids:\n",
    "        ranked_pids = [pid for pid, _ in run[qid]]\n",
    "        ndcg_vals.append(ndcg_at_k(ranked_pids, rel_dict_by_q[qid], k=k))\n",
    "        map_vals.append(average_precision_at_k(ranked_pids, rel_set_by_q[qid], k=k))\n",
    "        rcl_vals.append(recall_at_k(ranked_pids, rel_set_by_q[qid], k=k))\n",
    "\n",
    "    return {\n",
    "        f\"ndcg@{k}\": float(np.mean(ndcg_vals)),\n",
    "        f\"map@{k}\": float(np.mean(map_vals)),\n",
    "        f\"recall@{k}\": float(np.mean(rcl_vals)),\n",
    "        \"num_queries\": len(eval_qids)\n",
    "    }"
   ]
  },
  {
   "cell_type": "code",
   "execution_count": 112,
   "id": "9289207c340c916",
   "metadata": {
    "ExecuteTime": {
     "end_time": "2025-09-10T19:59:58.634769Z",
     "start_time": "2025-09-10T19:59:57.223234Z"
    }
   },
   "outputs": [
    {
     "name": "stderr",
     "output_type": "stream",
     "text": [
      "Retrieving:   1%|          | 7/1001 [00:00<00:14, 68.64it/s]"
     ]
    },
    {
     "name": "stderr",
     "output_type": "stream",
     "text": [
      "Retrieving: 100%|██████████| 1001/1001 [00:12<00:00, 78.89it/s]\n"
     ]
    },
    {
     "name": "stdout",
     "output_type": "stream",
     "text": [
      "\n",
      "=== Results (subset-consistent) ===\n",
      "ndcg@10:   0.5588\n",
      "map@10:    0.5062\n",
      "recall@10: 0.7188\n"
     ]
    }
   ],
   "source": [
    "sampled_queries = pd.read_csv(\"sampled_queries_1k.tsv\", sep=\"\\t\", names=[\"qid\", \"query\"], dtype={\"qid\": str, \"query\": str})\n",
    "qrels = pd.read_csv(\"qrels_for_eval.tsv\", sep=\"\\t\", dtype={\"qid\":str,\"pid\":str,\"rel\":int})\n",
    "\n",
    "run_sub = retrieve_topN_for_queries(\n",
    "    vectorizer, doc_matrix, collection_df[\"pid\"], sampled_queries, topN=10\n",
    ")\n",
    "\n",
    "k=10\n",
    "metrics = evaluate_run_at_k_df(run_sub, qrels_df=qrels, k=k)\n",
    "\n",
    "print(\"\\n=== Results (subset-consistent) ===\")\n",
    "print(f\"ndcg@{k}:   {metrics[f'ndcg@{k}']:.4f}\")\n",
    "print(f\"map@{k}:    {metrics[f'map@{k}']:.4f}\")\n",
    "print(f\"recall@{k}: {metrics[f'recall@{k}']:.4f}\")\n",
    "\n"
   ]
  }
 ],
 "metadata": {
  "kernelspec": {
   "display_name": "datascience-venv",
   "language": "python",
   "name": "python3"
  },
  "language_info": {
   "codemirror_mode": {
    "name": "ipython",
    "version": 3
   },
   "file_extension": ".py",
   "mimetype": "text/x-python",
   "name": "python",
   "nbconvert_exporter": "python",
   "pygments_lexer": "ipython3",
   "version": "3.13.3"
  }
 },
 "nbformat": 4,
 "nbformat_minor": 5
}
