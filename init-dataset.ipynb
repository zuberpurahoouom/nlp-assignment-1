{
 "cells": [
  {
   "cell_type": "code",
   "execution_count": 1,
   "id": "ff33c4fc",
   "metadata": {},
   "outputs": [
    {
     "name": "stdout",
     "output_type": "stream",
     "text": [
      "File qidpidtriples.train.full.2.tsv.gz already exists.\n",
      "File qidpidtriples.train.full.2.tsv already exists.\n"
     ]
    }
   ],
   "source": [
    "import os\n",
    "import requests\n",
    "from tqdm import tqdm\n",
    "import gzip, shutil\n",
    "import tarfile, io\n",
    "%load_ext autoreload\n",
    "%autoreload 2\n",
    "\n",
    "files = [\n",
    "    {\n",
    "        \"url\": \"https://msmarco.z22.web.core.windows.net/msmarcoranking/qidpidtriples.train.full.2.tsv.gz\",\n",
    "        \"name\": \"qidpidtriples.train.full.2.tsv.gz\",\n",
    "        \"decompressed\": \"qidpidtriples.train.full.2.tsv\"\n",
    "    }\n",
    "]\n",
    "\n",
    "for file in files:\n",
    "    if os.path.exists(file[\"decompressed\"]) or os.path.exists(file[\"name\"]):\n",
    "        print(f\"File {file['name']} already exists.\")\n",
    "    else:\n",
    "        print(\"Downloading\")\n",
    "        response = requests.get(file[\"url\"])\n",
    "        with open(file[\"name\"], \"wb\") as f:\n",
    "            f.write(response.content)\n",
    "\n",
    "    decompressed = file[\"decompressed\"]\n",
    "    filename = file[\"name\"]\n",
    "    if not os.path.exists(decompressed) and filename.endswith('.tar.gz'):\n",
    "        with tarfile.open(file[\"name\"], 'r:gz') as tar:\n",
    "            print(\"Decompressing tar.gz file...\")\n",
    "            tar.extractall(path='.')    \n",
    "    elif not os.path.exists(decompressed) and filename.endswith(\".gz\"):\n",
    "        with gzip.open(file[\"name\"], \"rb\") as src, open(decompressed, \"wb\") as dst:\n",
    "            print(\"Decompressing .gz file...\")\n",
    "            shutil.copyfileobj(src, dst)\n",
    "            print(f\"Decompressed to {file['decompressed']}\")\n",
    "    else:\n",
    "        print(f\"File {decompressed} already exists.\")"
   ]
  },
  {
   "cell_type": "code",
   "execution_count": 15,
   "id": "bdec4cd0",
   "metadata": {},
   "outputs": [],
   "source": [
    "import pandas as pd\n",
    "import os\n",
    "qrels_dev = \"qrels.dev.tsv\"\n",
    "collection_tsv = \"collection.tsv\"\n",
    "\n",
    "# Read qrels (judged passages)\n",
    "qrels = pd.read_csv(\n",
    "    qrels_dev,\n",
    "    sep=\"\\t\",\n",
    "    names=[\"qid\", \"_\", \"pid\", \"rel\"],\n",
    "    dtype={\"qid\": str, \"pid\": str, \"rel\": int}\n",
    ")\n",
    "\n",
    "judged = set(qrels[\"pid\"])\n",
    "total_target_size = 80_000\n",
    "\n",
    "out_tsv = f\"common_dataset_{int(total_target_size/1000)}k.tsv\"\n",
    "\n",
    "# total size of out_tsv will be greater than this as you will see in below cell\n",
    "first_target_size = len(judged)\n",
    "\n",
    "if not os.path.exists(out_tsv):\n",
    "    written = set()\n",
    "    limit = min(first_target_size, len(judged))  # only take up to target_size judged passages\n",
    "    with open(out_tsv, \"w\", encoding=\"utf-8\") as out:\n",
    "        for chunk in pd.read_csv(\n",
    "            collection_tsv,\n",
    "            sep=\"\\t\",\n",
    "            names=[\"pid\", \"text\"],\n",
    "            dtype={\"pid\": str, \"text\": str},\n",
    "            chunksize=1_000_000,\n",
    "            quoting=3,\n",
    "            on_bad_lines=\"skip\"\n",
    "        ):\n",
    "            if len(written) >= limit:\n",
    "                break\n",
    "            # Filter judged not yet written\n",
    "            remaining = limit - len(written)\n",
    "            keep = chunk[chunk[\"pid\"].isin(judged - written)]\n",
    "            if keep.empty:\n",
    "                continue\n",
    "            if len(keep) > remaining:\n",
    "                keep = keep.iloc[:remaining]\n",
    "            keep.to_csv(out, sep=\"\\t\", header=False, index=False)\n",
    "            written.update(keep[\"pid\"])\n"
   ]
  },
  {
   "cell_type": "code",
   "execution_count": null,
   "id": "3577138a",
   "metadata": {},
   "outputs": [
    {
     "name": "stdout",
     "output_type": "stream",
     "text": [
      "(80000, 2)\n"
     ]
    }
   ],
   "source": [
    "common_dataset = pd.read_csv(out_tsv, sep=\"\\t\", names=[\"pid\", \"text\"], dtype={\"pid\": str, \"text\": str})\n",
    "print(common_dataset.shape)"
   ]
  },
  {
   "cell_type": "code",
   "execution_count": 12,
   "id": "06e7f579",
   "metadata": {},
   "outputs": [],
   "source": [
    "seed=42\n",
    "# add random distractors to reach target_size\n",
    "need = max(0, total_target_size - len(written))\n",
    "if need > 0:\n",
    "        for chunk in pd.read_csv(collection_tsv, sep=\"\\t\",\n",
    "                                 names=[\"pid\",\"text\"], dtype={\"pid\":str,\"text\":str},\n",
    "                                 chunksize=1_000_000, quoting=3, on_bad_lines=\"skip\"):\n",
    "            cand = chunk[~chunk[\"pid\"].isin(written)]\n",
    "            if len(cand) == 0: \n",
    "                continue\n",
    "            take = min(need, len(cand))\n",
    "            samp = cand.sample(n=take, random_state=seed)\n",
    "            with open(out_tsv, \"a\", encoding=\"utf-8\") as out:\n",
    "                samp.to_csv(out, sep=\"\\t\", header=False, index=False)\n",
    "            written.update(samp[\"pid\"])\n",
    "            need -= take\n",
    "            if need == 0:\n",
    "                break\n",
    "    "
   ]
  },
  {
   "cell_type": "code",
   "execution_count": 7,
   "id": "bf922d98",
   "metadata": {},
   "outputs": [
    {
     "data": {
      "text/html": [
       "<div>\n",
       "<style scoped>\n",
       "    .dataframe tbody tr th:only-of-type {\n",
       "        vertical-align: middle;\n",
       "    }\n",
       "\n",
       "    .dataframe tbody tr th {\n",
       "        vertical-align: top;\n",
       "    }\n",
       "\n",
       "    .dataframe thead th {\n",
       "        text-align: right;\n",
       "    }\n",
       "</style>\n",
       "<table border=\"1\" class=\"dataframe\">\n",
       "  <thead>\n",
       "    <tr style=\"text-align: right;\">\n",
       "      <th></th>\n",
       "      <th>pid</th>\n",
       "      <th>text</th>\n",
       "    </tr>\n",
       "  </thead>\n",
       "  <tbody>\n",
       "    <tr>\n",
       "      <th>0</th>\n",
       "      <td>448</td>\n",
       "      <td>A postal code (also known locally in various E...</td>\n",
       "    </tr>\n",
       "    <tr>\n",
       "      <th>1</th>\n",
       "      <td>466</td>\n",
       "      <td>Therefore, all pathologists must have complete...</td>\n",
       "    </tr>\n",
       "    <tr>\n",
       "      <th>2</th>\n",
       "      <td>646</td>\n",
       "      <td>Obesity is a complex disorder involving an exc...</td>\n",
       "    </tr>\n",
       "    <tr>\n",
       "      <th>3</th>\n",
       "      <td>1212</td>\n",
       "      <td>Which president appointed FBI Director James C...</td>\n",
       "    </tr>\n",
       "    <tr>\n",
       "      <th>4</th>\n",
       "      <td>1213</td>\n",
       "      <td>Comey was confirmed by the Senate on July 29, ...</td>\n",
       "    </tr>\n",
       "  </tbody>\n",
       "</table>\n",
       "</div>"
      ],
      "text/plain": [
       "    pid                                               text\n",
       "0   448  A postal code (also known locally in various E...\n",
       "1   466  Therefore, all pathologists must have complete...\n",
       "2   646  Obesity is a complex disorder involving an exc...\n",
       "3  1212  Which president appointed FBI Director James C...\n",
       "4  1213  Comey was confirmed by the Senate on July 29, ..."
      ]
     },
     "execution_count": 7,
     "metadata": {},
     "output_type": "execute_result"
    }
   ],
   "source": [
    "common_dataset = pd.read_csv(\"common_dataset_80k.tsv\", sep=\"\\t\", names=[\"pid\", \"text\"], dtype={\"pid\": str, \"text\": str})\n",
    "common_dataset.head()"
   ]
  },
  {
   "cell_type": "code",
   "execution_count": 3,
   "id": "a75efb02",
   "metadata": {},
   "outputs": [],
   "source": [
    "DUPLICATE_INDEX = 3\n",
    "K_SAMPLE = 20_000\n",
    "triples_top_k_filename = f\"qidpidtriples.top{DUPLICATE_INDEX}.tsv\""
   ]
  },
  {
   "cell_type": "code",
   "execution_count": 22,
   "id": "dcde8106",
   "metadata": {},
   "outputs": [
    {
     "name": "stdout",
     "output_type": "stream",
     "text": [
      "19999\n"
     ]
    }
   ],
   "source": [
    "# reduce qidpidtriples to only keep up to 3 (qid, pid_pos, pid_neg)\n",
    "src = \"qidpidtriples.train.full.2.tsv\"\n",
    "from collections import defaultdict\n",
    "import os\n",
    "import pandas as pd\n",
    "common_dataset = pd.read_csv(\"common_dataset_80k.tsv\", sep=\"\\t\", names=[\"pid\", \"text\"], dtype={\"pid\": str, \"text\": str})\n",
    "queries = pd.read_csv(\"queries.train.tsv\", sep=\"\\t\", header=None, names=[\"qid\", \"query\"])\n",
    "\n",
    "if not os.path.exists(triples_top_k_filename):\n",
    "    existing_pids = set(common_dataset[\"pid\"])  # pids to exclude\n",
    "    counts = defaultdict(int)  # (qid, pid_pos) -> seen count\n",
    "    selected_pids = set()      # unique pids we keep (pos or neg)\n",
    "    existing_queries = set(queries[\"qid\"])\n",
    "\n",
    "    with open(src, \"r\", encoding=\"utf-8\", newline=\"\") as fin, \\\n",
    "         open(triples_top_k_filename, \"w\", encoding=\"utf-8\", newline=\"\") as fout:\n",
    "        for line in fin:\n",
    "            if len(selected_pids) >= K_SAMPLE:\n",
    "                break\n",
    "\n",
    "            parts = line.rstrip(\"\\r\\n\").split(\"\\t\")\n",
    "            if len(parts) != 3:\n",
    "                continue\n",
    "            qid_s, pid_pos_s, pid_neg_s = parts\n",
    "\n",
    "            # Skip if either pid already in common_dataset\n",
    "            if pid_pos_s in existing_pids or pid_neg_s in existing_pids or int(qid_s) not in existing_queries:\n",
    "                continue\n",
    "\n",
    "            key = (int(qid_s), int(pid_pos_s))\n",
    "            if counts[key] >= DUPLICATE_INDEX:\n",
    "                continue\n",
    "\n",
    "            # How many new unique pids would this line add?\n",
    "            new_unique = (pid_pos_s not in selected_pids) + (pid_neg_s not in selected_pids)\n",
    "            if new_unique == 0:\n",
    "                # Still can keep (does not grow unique set)\n",
    "                pass\n",
    "            elif len(selected_pids) + new_unique > K_SAMPLE:\n",
    "                # Would exceed cap; stop early\n",
    "                break\n",
    "\n",
    "            fout.write(line if line.endswith((\"\\n\", \"\\r\\n\")) else line + \"\\n\")\n",
    "            counts[key] += 1\n",
    "            selected_pids.add(pid_pos_s)\n",
    "\n",
    "print(len(selected_pids))"
   ]
  },
  {
   "cell_type": "code",
   "execution_count": 23,
   "id": "a7e7de3e",
   "metadata": {},
   "outputs": [
    {
     "name": "stdout",
     "output_type": "stream",
     "text": [
      "(60058, 3)\n"
     ]
    },
    {
     "data": {
      "text/plain": [
       "(59892, 2)"
      ]
     },
     "execution_count": 23,
     "metadata": {},
     "output_type": "execute_result"
    }
   ],
   "source": [
    "qidpidtriples = pd.read_csv(triples_top_k_filename,\n",
    "                            sep=\"\\t\",\n",
    "                            header=None,\n",
    "                            encoding=\"utf-8\",\n",
    "                            names=[\"qid\",\"pid_pos\",\"pid_neg\"],\n",
    "                            dtype={\"qid\":\"int32\",\"pid_pos\":\"int32\",\"pid_neg\":\"int32\"})\n",
    "print(qidpidtriples.shape)\n",
    "# pid_pos first\n",
    "pid_pos = (qidpidtriples[\"pid_pos\"].astype(int)\n",
    "           .dropna()\n",
    "           .astype(int)\n",
    "           .drop_duplicates()\n",
    "           .head(K_SAMPLE))\n",
    "\n",
    "# pid_neg that weren't already in pid_pos\n",
    "pid_neg = (qidpidtriples[\"pid_neg\"].astype(int)\n",
    "                                .dropna()\n",
    "                                .astype(int)\n",
    "                                .drop_duplicates()\n",
    "                                .head(K_SAMPLE * (DUPLICATE_INDEX - 1)))\n",
    "\n",
    "pids = pid_pos.tolist() + pid_neg.tolist()\n",
    "pids = set(pids)\n",
    "\n",
    "# sample the collection from the pid\n",
    "keep_passage = []\n",
    "with open(\"collection.tsv\", \"r\", encoding=\"utf-8\") as f:\n",
    "    for line in f:\n",
    "        pid_str, passage = line.rstrip(\"\\n\").split(\"\\t\", 1)\n",
    "        pid = int(pid_str)\n",
    "        if pid in pids:\n",
    "            keep_passage.append((pid, passage))  # keep as a row\n",
    "            pids.remove(pid)\n",
    "            if not pids:\n",
    "                break\n",
    "\n",
    "final_passages = pd.DataFrame(keep_passage, columns=[\"pid\", \"passage\"])\n",
    "final_passages.shape"
   ]
  },
  {
   "cell_type": "code",
   "execution_count": null,
   "id": "9b814af3",
   "metadata": {},
   "outputs": [
    {
     "data": {
      "text/html": [
       "<div>\n",
       "<style scoped>\n",
       "    .dataframe tbody tr th:only-of-type {\n",
       "        vertical-align: middle;\n",
       "    }\n",
       "\n",
       "    .dataframe tbody tr th {\n",
       "        vertical-align: top;\n",
       "    }\n",
       "\n",
       "    .dataframe thead th {\n",
       "        text-align: right;\n",
       "    }\n",
       "</style>\n",
       "<table border=\"1\" class=\"dataframe\">\n",
       "  <thead>\n",
       "    <tr style=\"text-align: right;\">\n",
       "      <th></th>\n",
       "      <th>qid</th>\n",
       "      <th>pid_pos</th>\n",
       "      <th>pid_neg</th>\n",
       "      <th>query</th>\n",
       "    </tr>\n",
       "  </thead>\n",
       "  <tbody>\n",
       "    <tr>\n",
       "      <th>0</th>\n",
       "      <td>1000094</td>\n",
       "      <td>5399011</td>\n",
       "      <td>4239068</td>\n",
       "      <td>where is whitemarsh island</td>\n",
       "    </tr>\n",
       "    <tr>\n",
       "      <th>1</th>\n",
       "      <td>1000094</td>\n",
       "      <td>5399011</td>\n",
       "      <td>271630</td>\n",
       "      <td>where is whitemarsh island</td>\n",
       "    </tr>\n",
       "    <tr>\n",
       "      <th>2</th>\n",
       "      <td>1000094</td>\n",
       "      <td>5399011</td>\n",
       "      <td>5534953</td>\n",
       "      <td>where is whitemarsh island</td>\n",
       "    </tr>\n",
       "    <tr>\n",
       "      <th>3</th>\n",
       "      <td>1000684</td>\n",
       "      <td>6133670</td>\n",
       "      <td>54955</td>\n",
       "      <td>where is your perineum</td>\n",
       "    </tr>\n",
       "    <tr>\n",
       "      <th>4</th>\n",
       "      <td>1000684</td>\n",
       "      <td>6133670</td>\n",
       "      <td>5952792</td>\n",
       "      <td>where is your perineum</td>\n",
       "    </tr>\n",
       "  </tbody>\n",
       "</table>\n",
       "</div>"
      ],
      "text/plain": [
       "       qid  pid_pos  pid_neg                       query\n",
       "0  1000094  5399011  4239068  where is whitemarsh island\n",
       "1  1000094  5399011   271630  where is whitemarsh island\n",
       "2  1000094  5399011  5534953  where is whitemarsh island\n",
       "3  1000684  6133670    54955      where is your perineum\n",
       "4  1000684  6133670  5952792      where is your perineum"
      ]
     },
     "execution_count": 27,
     "metadata": {},
     "output_type": "execute_result"
    }
   ],
   "source": [
    "queries = pd.read_csv(\"queries.train.tsv\", sep=\"\\t\", header=None, names=[\"qid\", \"query\"])\n",
    "\n",
    "# many-to-one merge: multiple triples per qid, single query text per qid; raises if violated\n",
    "df = qidpidtriples.merge(queries, on=\"qid\", how=\"left\", validate=\"m:1\")\n",
    "df.head()"
   ]
  },
  {
   "cell_type": "code",
   "execution_count": 28,
   "id": "2da51f62",
   "metadata": {},
   "outputs": [
    {
     "data": {
      "text/html": [
       "<div>\n",
       "<style scoped>\n",
       "    .dataframe tbody tr th:only-of-type {\n",
       "        vertical-align: middle;\n",
       "    }\n",
       "\n",
       "    .dataframe tbody tr th {\n",
       "        vertical-align: top;\n",
       "    }\n",
       "\n",
       "    .dataframe thead th {\n",
       "        text-align: right;\n",
       "    }\n",
       "</style>\n",
       "<table border=\"1\" class=\"dataframe\">\n",
       "  <thead>\n",
       "    <tr style=\"text-align: right;\">\n",
       "      <th></th>\n",
       "      <th>qid</th>\n",
       "      <th>pid_pos</th>\n",
       "      <th>pid_neg</th>\n",
       "      <th>query</th>\n",
       "      <th>passage_pos</th>\n",
       "    </tr>\n",
       "  </thead>\n",
       "  <tbody>\n",
       "    <tr>\n",
       "      <th>0</th>\n",
       "      <td>1000094</td>\n",
       "      <td>5399011</td>\n",
       "      <td>4239068</td>\n",
       "      <td>where is whitemarsh island</td>\n",
       "      <td>Whitemarsh Island, Georgia. Whitemarsh Island ...</td>\n",
       "    </tr>\n",
       "    <tr>\n",
       "      <th>1</th>\n",
       "      <td>1000094</td>\n",
       "      <td>5399011</td>\n",
       "      <td>271630</td>\n",
       "      <td>where is whitemarsh island</td>\n",
       "      <td>Whitemarsh Island, Georgia. Whitemarsh Island ...</td>\n",
       "    </tr>\n",
       "    <tr>\n",
       "      <th>2</th>\n",
       "      <td>1000094</td>\n",
       "      <td>5399011</td>\n",
       "      <td>5534953</td>\n",
       "      <td>where is whitemarsh island</td>\n",
       "      <td>Whitemarsh Island, Georgia. Whitemarsh Island ...</td>\n",
       "    </tr>\n",
       "    <tr>\n",
       "      <th>3</th>\n",
       "      <td>1000684</td>\n",
       "      <td>6133670</td>\n",
       "      <td>54955</td>\n",
       "      <td>where is your perineum</td>\n",
       "      <td>That part of the floor of the PELVIS that lies...</td>\n",
       "    </tr>\n",
       "    <tr>\n",
       "      <th>4</th>\n",
       "      <td>1000684</td>\n",
       "      <td>6133670</td>\n",
       "      <td>5952792</td>\n",
       "      <td>where is your perineum</td>\n",
       "      <td>That part of the floor of the PELVIS that lies...</td>\n",
       "    </tr>\n",
       "  </tbody>\n",
       "</table>\n",
       "</div>"
      ],
      "text/plain": [
       "       qid  pid_pos  pid_neg                       query  \\\n",
       "0  1000094  5399011  4239068  where is whitemarsh island   \n",
       "1  1000094  5399011   271630  where is whitemarsh island   \n",
       "2  1000094  5399011  5534953  where is whitemarsh island   \n",
       "3  1000684  6133670    54955      where is your perineum   \n",
       "4  1000684  6133670  5952792      where is your perineum   \n",
       "\n",
       "                                         passage_pos  \n",
       "0  Whitemarsh Island, Georgia. Whitemarsh Island ...  \n",
       "1  Whitemarsh Island, Georgia. Whitemarsh Island ...  \n",
       "2  Whitemarsh Island, Georgia. Whitemarsh Island ...  \n",
       "3  That part of the floor of the PELVIS that lies...  \n",
       "4  That part of the floor of the PELVIS that lies...  "
      ]
     },
     "execution_count": 28,
     "metadata": {},
     "output_type": "execute_result"
    }
   ],
   "source": [
    "# merge pid_pos with final_passages passage\n",
    "col_pos = final_passages.rename(columns={\"pid\": \"pid_pos\", \"passage\": \"passage_pos\"})\n",
    "df = df.merge(col_pos, on=\"pid_pos\", how=\"left\", validate=\"m:1\")\n",
    "\n",
    "df.head()"
   ]
  },
  {
   "cell_type": "code",
   "execution_count": 29,
   "id": "83250e30",
   "metadata": {},
   "outputs": [
    {
     "data": {
      "text/html": [
       "<div>\n",
       "<style scoped>\n",
       "    .dataframe tbody tr th:only-of-type {\n",
       "        vertical-align: middle;\n",
       "    }\n",
       "\n",
       "    .dataframe tbody tr th {\n",
       "        vertical-align: top;\n",
       "    }\n",
       "\n",
       "    .dataframe thead th {\n",
       "        text-align: right;\n",
       "    }\n",
       "</style>\n",
       "<table border=\"1\" class=\"dataframe\">\n",
       "  <thead>\n",
       "    <tr style=\"text-align: right;\">\n",
       "      <th></th>\n",
       "      <th>qid</th>\n",
       "      <th>pid_pos</th>\n",
       "      <th>pid_neg</th>\n",
       "      <th>query</th>\n",
       "      <th>passage_pos</th>\n",
       "      <th>passage_neg</th>\n",
       "    </tr>\n",
       "  </thead>\n",
       "  <tbody>\n",
       "    <tr>\n",
       "      <th>0</th>\n",
       "      <td>1000094</td>\n",
       "      <td>5399011</td>\n",
       "      <td>4239068</td>\n",
       "      <td>where is whitemarsh island</td>\n",
       "      <td>Whitemarsh Island, Georgia. Whitemarsh Island ...</td>\n",
       "      <td>Pea Island is an island which is part of the O...</td>\n",
       "    </tr>\n",
       "    <tr>\n",
       "      <th>1</th>\n",
       "      <td>1000094</td>\n",
       "      <td>5399011</td>\n",
       "      <td>271630</td>\n",
       "      <td>where is whitemarsh island</td>\n",
       "      <td>Whitemarsh Island, Georgia. Whitemarsh Island ...</td>\n",
       "      <td>Underwater Volcano Forms New South Pacific Isl...</td>\n",
       "    </tr>\n",
       "    <tr>\n",
       "      <th>2</th>\n",
       "      <td>1000094</td>\n",
       "      <td>5399011</td>\n",
       "      <td>5534953</td>\n",
       "      <td>where is whitemarsh island</td>\n",
       "      <td>Whitemarsh Island, Georgia. Whitemarsh Island ...</td>\n",
       "      <td>Komodo is one of the 17,508 islands that make ...</td>\n",
       "    </tr>\n",
       "    <tr>\n",
       "      <th>3</th>\n",
       "      <td>1000684</td>\n",
       "      <td>6133670</td>\n",
       "      <td>54955</td>\n",
       "      <td>where is your perineum</td>\n",
       "      <td>That part of the floor of the PELVIS that lies...</td>\n",
       "      <td>rule of nines (rÅ«l nÄ«nz) Method used in calc...</td>\n",
       "    </tr>\n",
       "    <tr>\n",
       "      <th>4</th>\n",
       "      <td>1000684</td>\n",
       "      <td>6133670</td>\n",
       "      <td>5952792</td>\n",
       "      <td>where is your perineum</td>\n",
       "      <td>That part of the floor of the PELVIS that lies...</td>\n",
       "      <td>This delicate triangle is important during chi...</td>\n",
       "    </tr>\n",
       "  </tbody>\n",
       "</table>\n",
       "</div>"
      ],
      "text/plain": [
       "       qid  pid_pos  pid_neg                       query  \\\n",
       "0  1000094  5399011  4239068  where is whitemarsh island   \n",
       "1  1000094  5399011   271630  where is whitemarsh island   \n",
       "2  1000094  5399011  5534953  where is whitemarsh island   \n",
       "3  1000684  6133670    54955      where is your perineum   \n",
       "4  1000684  6133670  5952792      where is your perineum   \n",
       "\n",
       "                                         passage_pos  \\\n",
       "0  Whitemarsh Island, Georgia. Whitemarsh Island ...   \n",
       "1  Whitemarsh Island, Georgia. Whitemarsh Island ...   \n",
       "2  Whitemarsh Island, Georgia. Whitemarsh Island ...   \n",
       "3  That part of the floor of the PELVIS that lies...   \n",
       "4  That part of the floor of the PELVIS that lies...   \n",
       "\n",
       "                                         passage_neg  \n",
       "0  Pea Island is an island which is part of the O...  \n",
       "1  Underwater Volcano Forms New South Pacific Isl...  \n",
       "2  Komodo is one of the 17,508 islands that make ...  \n",
       "3  rule of nines (rÅ«l nÄ«nz) Method used in calc...  \n",
       "4  This delicate triangle is important during chi...  "
      ]
     },
     "execution_count": 29,
     "metadata": {},
     "output_type": "execute_result"
    }
   ],
   "source": [
    "# merge pid_neg with final_passages passage\n",
    "col_neg = final_passages.rename(columns={\"pid\": \"pid_neg\", \"passage\": \"passage_neg\"})\n",
    "df = df.merge(col_neg, on=\"pid_neg\", how=\"left\", validate=\"m:1\")\n",
    "df.head()"
   ]
  },
  {
   "cell_type": "code",
   "execution_count": 31,
   "id": "441f5c78",
   "metadata": {},
   "outputs": [
    {
     "name": "stdout",
     "output_type": "stream",
     "text": [
      "(60058, 6)\n"
     ]
    },
    {
     "data": {
      "text/html": [
       "<div>\n",
       "<style scoped>\n",
       "    .dataframe tbody tr th:only-of-type {\n",
       "        vertical-align: middle;\n",
       "    }\n",
       "\n",
       "    .dataframe tbody tr th {\n",
       "        vertical-align: top;\n",
       "    }\n",
       "\n",
       "    .dataframe thead th {\n",
       "        text-align: right;\n",
       "    }\n",
       "</style>\n",
       "<table border=\"1\" class=\"dataframe\">\n",
       "  <thead>\n",
       "    <tr style=\"text-align: right;\">\n",
       "      <th></th>\n",
       "      <th>qid</th>\n",
       "      <th>query</th>\n",
       "      <th>pid_pos</th>\n",
       "      <th>passage_pos</th>\n",
       "      <th>pid_neg</th>\n",
       "      <th>passage_neg</th>\n",
       "    </tr>\n",
       "  </thead>\n",
       "  <tbody>\n",
       "    <tr>\n",
       "      <th>0</th>\n",
       "      <td>1000094</td>\n",
       "      <td>where is whitemarsh island</td>\n",
       "      <td>5399011</td>\n",
       "      <td>Whitemarsh Island, Georgia. Whitemarsh Island ...</td>\n",
       "      <td>4239068</td>\n",
       "      <td>Pea Island is an island which is part of the O...</td>\n",
       "    </tr>\n",
       "    <tr>\n",
       "      <th>1</th>\n",
       "      <td>1000094</td>\n",
       "      <td>where is whitemarsh island</td>\n",
       "      <td>5399011</td>\n",
       "      <td>Whitemarsh Island, Georgia. Whitemarsh Island ...</td>\n",
       "      <td>271630</td>\n",
       "      <td>Underwater Volcano Forms New South Pacific Isl...</td>\n",
       "    </tr>\n",
       "    <tr>\n",
       "      <th>2</th>\n",
       "      <td>1000094</td>\n",
       "      <td>where is whitemarsh island</td>\n",
       "      <td>5399011</td>\n",
       "      <td>Whitemarsh Island, Georgia. Whitemarsh Island ...</td>\n",
       "      <td>5534953</td>\n",
       "      <td>Komodo is one of the 17,508 islands that make ...</td>\n",
       "    </tr>\n",
       "    <tr>\n",
       "      <th>3</th>\n",
       "      <td>1000684</td>\n",
       "      <td>where is your perineum</td>\n",
       "      <td>6133670</td>\n",
       "      <td>That part of the floor of the PELVIS that lies...</td>\n",
       "      <td>54955</td>\n",
       "      <td>rule of nines (rÅ«l nÄ«nz) Method used in calc...</td>\n",
       "    </tr>\n",
       "    <tr>\n",
       "      <th>4</th>\n",
       "      <td>1000684</td>\n",
       "      <td>where is your perineum</td>\n",
       "      <td>6133670</td>\n",
       "      <td>That part of the floor of the PELVIS that lies...</td>\n",
       "      <td>5952792</td>\n",
       "      <td>This delicate triangle is important during chi...</td>\n",
       "    </tr>\n",
       "  </tbody>\n",
       "</table>\n",
       "</div>"
      ],
      "text/plain": [
       "       qid                       query  pid_pos  \\\n",
       "0  1000094  where is whitemarsh island  5399011   \n",
       "1  1000094  where is whitemarsh island  5399011   \n",
       "2  1000094  where is whitemarsh island  5399011   \n",
       "3  1000684      where is your perineum  6133670   \n",
       "4  1000684      where is your perineum  6133670   \n",
       "\n",
       "                                         passage_pos  pid_neg  \\\n",
       "0  Whitemarsh Island, Georgia. Whitemarsh Island ...  4239068   \n",
       "1  Whitemarsh Island, Georgia. Whitemarsh Island ...   271630   \n",
       "2  Whitemarsh Island, Georgia. Whitemarsh Island ...  5534953   \n",
       "3  That part of the floor of the PELVIS that lies...    54955   \n",
       "4  That part of the floor of the PELVIS that lies...  5952792   \n",
       "\n",
       "                                         passage_neg  \n",
       "0  Pea Island is an island which is part of the O...  \n",
       "1  Underwater Volcano Forms New South Pacific Isl...  \n",
       "2  Komodo is one of the 17,508 islands that make ...  \n",
       "3  rule of nines (rÅ«l nÄ«nz) Method used in calc...  \n",
       "4  This delicate triangle is important during chi...  "
      ]
     },
     "execution_count": 31,
     "metadata": {},
     "output_type": "execute_result"
    }
   ],
   "source": [
    "# compiled datasets\n",
    "compiled_df = df[[\"qid\", \"query\", \"pid_pos\", \"passage_pos\", \"pid_neg\", \"passage_neg\"]].copy()\n",
    "\n",
    "print(compiled_df.shape)\n",
    "compiled_df.head(5)"
   ]
  },
  {
   "cell_type": "code",
   "execution_count": 32,
   "id": "77d28182",
   "metadata": {},
   "outputs": [
    {
     "data": {
      "text/plain": [
       "(60058, 6)"
      ]
     },
     "execution_count": 32,
     "metadata": {},
     "output_type": "execute_result"
    }
   ],
   "source": [
    "out = f\"qidpidtriples.top{DUPLICATE_INDEX}.clean.tsv\"\n",
    "compiled_df.to_csv(out,\n",
    "                           sep=\"\\t\",\n",
    "                           header=False,\n",
    "                           index=False,\n",
    "                           encoding=\"utf-16\")\n",
    "compiled_df.shape"
   ]
  },
  {
   "cell_type": "markdown",
   "id": "9d97805e",
   "metadata": {},
   "source": [
    "## Constructing sampled queries dataset for evaluation"
   ]
  },
  {
   "cell_type": "code",
   "execution_count": 2,
   "id": "190ba313",
   "metadata": {},
   "outputs": [
    {
     "data": {
      "application/vnd.microsoft.datawrangler.viewer.v0+json": {
       "columns": [
        {
         "name": "index",
         "rawType": "int64",
         "type": "integer"
        },
        {
         "name": "pid",
         "rawType": "object",
         "type": "string"
        },
        {
         "name": "text",
         "rawType": "object",
         "type": "string"
        }
       ],
       "ref": "b3e7d25a-bba8-4625-8304-edf8a1a9d5fc",
       "rows": [
        [
         "0",
         "448",
         "A postal code (also known locally in various English-speaking countries throughout the world as a postcode, post code, Eircode, PIN Code or ZIP Code ) is a series of letters and/or digits, sometimes including spaces or punctuation, included in a postal address for the purpose of sorting mail."
        ],
        [
         "1",
         "466",
         "Therefore, all pathologists must have completed a medical degree from an accredited medical school, and have completed clinical training in pathology. The duration of medical residency training in pathology is four to five years after the completion of medical school. While autopsies are a large component of pathologists' work, performing autopsies is actually only part of what pathologists do."
        ],
        [
         "2",
         "646",
         "Obesity is a complex disorder involving an excessive amount of body fat. Obesity isn't just a cosmetic concern. It increases your risk of diseases and health problems, such as heart disease, diabetes and high blood pressure."
        ],
        [
         "3",
         "1212",
         "Which president appointed FBI Director James Comey? Answer Wiki. James Comey was appointed by to the office of the director of the Federal Bureau of Investigation by President Barack Obama in June of 2013, with rumors speculating that this would happen about a month earlier. He was confirmed by the Senate on July 29, 2013, and assumed the office at 4:32 pm on September 4th, 2013. he will serve a ten year term. Before being the director of the FBI, Comey was the United States Deputy Attorney General under George W. Bush and ran the day-to-day operations for the Department of Justice."
        ],
        [
         "4",
         "1213",
         "Comey was confirmed by the Senate on July 29, 2013, for a full ten-year term running the Federal Bureau of Investigation. He was sworn in as FBI director at 4:32 pm on September 4, 2013."
        ],
        [
         "5",
         "1816",
         "An aneurysm results from weakness in the tissue of the aortic wall. There is no way to restore or strengthen this weakened tissue. The purpose of the blood pressure medication is to slow or prevent further enlargement of the aneurysm and protect against dissection or rupture of the aortic wall."
        ],
        [
         "6",
         "2147",
         "Broken or bruised ribs. Introduction. Broken (fractured) or bruised ribs are usually caused by a fall or blow to the chest, or occasionally by severe coughing. They can be very painful, but will normally improve within about three to six weeks. If you think you've injured your ribs, you'll often be able to look after yourself at home."
        ],
        [
         "7",
         "3653",
         "United States Office of War Information. The United States Office of War Information (OWI) was a United States government agency created during World War II to consolidate existing government information services and deliver propaganda both at home and abroad. OWI operated from June 1942 until September 1945."
        ],
        [
         "8",
         "3760",
         "Your best bet is to get the biggest computer monitor that you can. There are a bunch of reasons why you should do this. If you have a MacBook, then the new 27-inch LED Apple Cinema Display is one of the most convenient monitors to have, thanks to its host of features that are geared towards MacBooks."
        ],
        [
         "9",
         "3809",
         "An adiabatic process is any process occurring without gain or loss of heat within a system. Assess the environments in which isothermal processes typically occur. Adiabatic processes can occur if the container of the system has thermally-insulated walls or the process happens in an extremely short time."
        ],
        [
         "10",
         "3863",
         "1 The average adult has about 10 pints of blood in his body. Roughly 1 pint is given during a donation. 2  A healthy donor may donate red blood cells every 56 days, or double red cells every 112 days.  A healthy donor may donate platelets as few as 7 days apart, but a maximum of 24 times a year."
        ],
        [
         "11",
         "4386",
         "Comparison of Letter (shaded light blue) and Government letter sizes with some similar paper and photographic paper sizes. Letter or US Letter is a paper size for office use. It is the most common type in Canada, United States, and Mexico. It measures 8.5 by 11 inches (215.9 mm x 279.4 mm)."
        ],
        [
         "12",
         "5499",
         "Refund Processing Time. 1  E-filed tax returns with direct deposit â E-file with direct deposit is the fastest way to get your tax refund. 2  The IRS states that 9 out of 10 e-filed tax returns with direct deposit will be processed within 21 days of IRS e-file acceptance."
        ],
        [
         "13",
         "5581",
         "Credit card receipts and statements. Length of time to keep, and why:From 45 days to seven years. Keep your original receipts until you get your monthly statement; shred the receipts if the two match up. Keep the statements for seven years if tax-related expenses are documented."
        ],
        [
         "14",
         "5975",
         "Teddy Roosevelt Gave Popular Slogan To Maxwell House Coffee. Theodore Roosevelt, while president of the United States, and touring the South, made a stop at Nashville, Tennessee, where he was, of course, received with glad acclaim. he was then served with Maxwell House coffee. Taking a second cup, and drinking it all, he good humoredly and in his characteristic style exclaimed, Good to the last drop.."
        ],
        [
         "15",
         "6010",
         "A computer network is a group of computer systems and other computing hardware devices that are linked together through communication channels to facilitate communication and resource-sharing among a wide range of users. Networks are commonly categorized based on their characteristics."
        ],
        [
         "16",
         "6055",
         "They're less than 100 mg/dL after not eating (fasting) for at least 8 hours. And they're less than 140 mg/dL 2 hours after eating. During the day, levels tend to be at their lowest just before meals. For most people without diabetes, blood sugar levels before meals hover around 70 to 80 mg/dL. For some people, 60 is normal; for others, 90."
        ],
        [
         "17",
         "6654",
         "Irrigation systems are also used for dust suppression, disposal of sewage, and in mining. Irrigation is often studied together with drainage, which is the natural or artificial removal of surface and sub-surface water from a given area."
        ],
        [
         "18",
         "6660",
         "Irrigation canal in Osmaniye, Turkey. Irrigation is the method in which a controlled amount of water is supplied to plants at regular intervals for agriculture. It is used to assist in the growing of agricultural crops, maintenance of landscapes, and revegetation of disturbed soils in dry areas and during periods of inadequate rainfall."
        ],
        [
         "19",
         "7017",
         "A twin XL model measures at 39 inches by 80 inches, which is about 5 inches longer than a standard twin mattress. This size bed is perfect for one tall sleeper, and having two of them in a larger guest room is always a safe option."
        ],
        [
         "20",
         "7875",
         "Social Security and Medicare Withholding Rates. The current tax rate for social security is 6.2% for the employer and 6.2% for the employee, or 12.4% total. The current rate for Medicare is 1.45% for the employer and 1.45% for the employee, or 2.9% total."
        ],
        [
         "21",
         "8258",
         "A femoral hernia occurs when the intestine enters the canal carrying the femoral artery into the upper thigh. Femoral hernias are most common in women, especially those who are pregnant or obese. In an umbilical hernia, part of the small intestine passes through the abdominal wall near the navel."
        ],
        [
         "22",
         "8892",
         "How long do hard boiled eggs last? Hard boiled eggs last about 7 days in the fridge, but can spoil quickly if not handled properly. Hard boiled eggs are fresh whole eggs that have been boiled for about 10 minutes. Chicken eggs are the most common choice for this process. Because of their relatively low-cost, high protein, versatility and portability hard boiled eggs are a popular protein choice."
        ],
        [
         "23",
         "10462",
         "Magma (from Ancient Greek Î¼Î¬Î³Î¼Î± (mÃ¡gma) meaning thick unguent) is a mixture of molten or semi-molten rock, volatiles and solids that is found beneath the surface of the Earth, and is expected to exist on other terrestrial planets and some natural satellites."
        ],
        [
         "24",
         "10549",
         "If a history of marijuana use is the major reason for screening, the urine test for cannabinoids should be able to detect prior use for up to 2 weeks in the casual user and possibly longer in the chronic user."
        ],
        [
         "25",
         "10789",
         "Though that may be true for this unique brand, Dude Perfect is experiencing growth similar to that of many other startups. The seven-year-old business just moved from a 5,000-square-foot office in downtown Frisco to a 35,000-square-foot space in the same North Texas town."
        ],
        [
         "26",
         "10865",
         "HDL (good) cholesterol protects against heart disease, so for HDL, higher numbers are better. A level less than 40 mg/dL is low and is considered a major risk factor because it increases your risk for developing heart disease. HDL levels of 60 mg/dL or more help to lower your risk for heart disease. Triglycerides can also raise heart disease risk. Levels that are borderline high (150-199 mg/dL) or high (200 mg/dL or more) may need treatment in some people."
        ],
        [
         "27",
         "11143",
         "Friends in Low Places is a song performed by American country pop artist Garth Brooks. It was released in August 1990 as the first single from his album No Fences."
        ],
        [
         "28",
         "11461",
         "What is KYC? KYC is an initialism that stands for know your customer.. It is a regulatory phrase that refers to the process used by a business for verification of merchants, customers, and other elements when it comes to a financial transaction. In WePay's case, we use it as the motivation behind our Trust Center."
        ],
        [
         "29",
         "11527",
         "When to Spay or Neuter Your Pet. 1  For dogs: While the traditional age for neutering is six to nine months, puppies as young as eight weeks old can be neutered as long as theyâre healthy. 2  For cats: It is generally considered safe for kittens as young as eight weeks old to be spayed or neutered."
        ],
        [
         "30",
         "12380",
         "An electrocardiogram â abbreviated as EKG or ECG â is a test that measures the electrical activity of the heartbeat. With each beat, an electrical impulse (or âwaveâ) travels through the heart. This wave causes the muscle to squeeze and pump blood from the heart. A normal heartbeat on ECG will show the timing of the top and lower chambers. The right and left atria or upper chambers make the first wave called a âP wave â following a flat line when the electrical impulse goes to the bottom chambers."
        ],
        [
         "31",
         "12549",
         "Quick Answer. A normal blood sugar range for an adult is less than 100 milligrams per deciliter when fasting for a minimum of 8 hours, or 140 mg/dL after eating, according to WebMD. Sugar levels are usually their lowest right before mealtime when nondiabetics' sugar levels are generally around 70 to 80 mg/dL. Continue Reading."
        ],
        [
         "32",
         "12937",
         "The National Provider Identifier is a 10-digit numeric identifier that must be used on claim forms submitted to payors by individual and organization health care providers who meet the definition of a covered entity under the Health Insurance Portability and Accountability Act (HIPAA), beginning May 23, 2008."
        ],
        [
         "33",
         "12954",
         "Slavery in America began when the first African slaves were brought to the North American colony of Jamestown, Virginia, in 1619, to aid in the production of such lucrative crops as tobacco."
        ],
        [
         "34",
         "13275",
         "The Channel Islands are an archipelago in the English Channel off the Normandy coast of France. They are divided into two British Crown Dependencies, the Bailiwicks of Guernsey and Jersey. The former also includes the islands of Alderney, Sark and Herm, and smaller islands are divided between the two bailiwicks."
        ],
        [
         "35",
         "13876",
         "A blockchain, originally block chain, is a continuously growing list of records, called blocks, which are linked and secured using cryptography. Each block typically contains a cryptographic hash of the previous block, a timestamp and transaction data. By design, a blockchain is inherently resistant to modification of the data. It is an open, distributed ledger that can record transactions between two parties efficiently and in a verifiable and permanent way. For use as a distributed ledger, a"
        ],
        [
         "36",
         "14925",
         "Protein is found throughout the bodyâin muscle, bone, skin, hair, and virtually every other body part or tissue. It makes up the enzymes that power many chemical reactions and the hemoglobin that carries oxygen in your blood. At least 10,000 different proteins make you what you are and keep you that way. The Institute of Medicine recommends that adults get a minimum of 0.8 grams of protein for every kilogram of body weight per day (or 8 grams of protein for every 20 pounds of body weight)."
        ],
        [
         "37",
         "15248",
         "The term target audience is a bit narrower; it refers specifically to the group of consumers targeted by advertisements. Outside of the context of business, target audience can also refer to the specific group of people targeted by television shows, movies and music products. An advertisement's target audience can be the same as the brand's target market, but a target audience can be more well defined."
        ],
        [
         "38",
         "15766",
         "Fungi, animals and plants are examples of kingdoms of organisms within the eukaryotes. In 2002, Thomas Cavalier-Smith, author of Branching order of bacterial phyla, proposed a clade, Neomura, which groups together the Archaea and Eukarya."
        ],
        [
         "39",
         "17268",
         "1 You have heart disease or kidney disease and the swelling gets worse. 2  You have a history of liver disease and now have swelling in your legs or abdomen. 3  Your swollen foot or leg is red or warm to the touch.  You have a fever."
        ],
        [
         "40",
         "17499",
         "Sales Tax Holiday. The state of Tennessee's annual sales tax holiday is held every year, beginning at 12:01 a.m. on the last Friday in July and ending at 11:59 p.m. the following Sunday night. During this weekend, certain goods may be purchased tax free. This year's tax-free holiday weekend begins at 12:01 a.m. on Friday, July 28 and ends Sunday, July 30 at 11:59 p.m."
        ],
        [
         "41",
         "17602",
         "*Percent Daily Values are based on a 2000 calorie diet. Your daily values may be higher or lower depending on your calorie needs."
        ],
        [
         "42",
         "17884",
         "As you can see above, the average kitchen renovation project costs approximately $18,000. The total price varies tremendously depending on a myriad of factors, with materials having the largest effect. For example, tile counters start at $6/sf, but concrete countertops go all the way up to $55/sf. To see the other major factors that decrease or increase the total kitchen renovation cost, please see our kitchen remodeling cost estimator."
        ],
        [
         "43",
         "18502",
         "July 22, 2016 | 01:10PM PT. AMC has set the premiere date and revealed the first trailer for the next season of âThe Walking Deadâ. The zombie dramaâs seventh season will debut Sunday, Oct. 23 at 9 p.m. The 16-episode season will be split into two parts, with the first eight episodes airing in the fall and the second half debuting in February, 2017."
        ],
        [
         "44",
         "19009",
         "Nuisance may be designated as public or private. A  public nuisance is an unreasonable interference with a right common to the general public..... [A] private nuisance is a nontrespassory invasion of another's interest in the private use and enjoyment of land. Unlike a public nuisance, a private nuisance threatens only one or few persons. In order for a private nuisance to be actionable, the invasion must be either (a) intentional and unreasonable or (b) unintentional but caused by negligent, reckless, or abnormally dangerous conduct."
        ],
        [
         "45",
         "20124",
         "Thatch is a natural reed and grass which, when properly cut, dried, and installed, forms a waterproof roof. Traditionally thatchers use locally available materials. If local farmers were growing wheat, then wheat reed or straw was used. Rye, barley and oat straw, and even heathers have been used."
        ],
        [
         "46",
         "20486",
         "Antonov An-225 Mriya. The Antonov An-225 Mriya (Ukrainian: Ð°Ð½ÑÐ¾Ð½Ð¾Ð² Ð°Ð½-225 Ð¼ÑÑÑ (dream or inspiration), NATO reporting name: Cossack) is a strategic airlift cargo aircraft that was designed by the Antonov Design Bureau in the Ukrainian SSR within the Soviet Union during the 1980s."
        ],
        [
         "47",
         "20498",
         "Quick Answer. Panama City, Fla. is located in the Eastern Standard Time zone. In the United States, the Eastern Standard Time zone is the Greenwich Mean Time, or Universal Time, minus five hours. Continue Reading."
        ],
        [
         "48",
         "21751",
         "Puff, the Magic Dragon is a song written by Leonard Lipton and Peter Yarrow, and made popular by Yarrow's group Peter, Paul and Mary in a 1963 recording. Lipton wrote a poem in 1959; Yarrow found it and wrote the lyrics based on the poem. After the song was released, Yarrow searched for Lipton and gave him half credit for the song."
        ],
        [
         "49",
         "22181",
         "How much does a Bank Teller make? The average Bank Teller salary is $23,200. Filter by location to see Bank Teller salaries in your area. Salary estimates are based on 4,092 salaries submitted anonymously to Glassdoor by Bank Teller employees."
        ]
       ],
       "shape": {
        "columns": 2,
        "rows": 80000
       }
      },
      "text/html": [
       "<div>\n",
       "<style scoped>\n",
       "    .dataframe tbody tr th:only-of-type {\n",
       "        vertical-align: middle;\n",
       "    }\n",
       "\n",
       "    .dataframe tbody tr th {\n",
       "        vertical-align: top;\n",
       "    }\n",
       "\n",
       "    .dataframe thead th {\n",
       "        text-align: right;\n",
       "    }\n",
       "</style>\n",
       "<table border=\"1\" class=\"dataframe\">\n",
       "  <thead>\n",
       "    <tr style=\"text-align: right;\">\n",
       "      <th></th>\n",
       "      <th>pid</th>\n",
       "      <th>text</th>\n",
       "    </tr>\n",
       "  </thead>\n",
       "  <tbody>\n",
       "    <tr>\n",
       "      <th>0</th>\n",
       "      <td>448</td>\n",
       "      <td>A postal code (also known locally in various E...</td>\n",
       "    </tr>\n",
       "    <tr>\n",
       "      <th>1</th>\n",
       "      <td>466</td>\n",
       "      <td>Therefore, all pathologists must have complete...</td>\n",
       "    </tr>\n",
       "    <tr>\n",
       "      <th>2</th>\n",
       "      <td>646</td>\n",
       "      <td>Obesity is a complex disorder involving an exc...</td>\n",
       "    </tr>\n",
       "    <tr>\n",
       "      <th>3</th>\n",
       "      <td>1212</td>\n",
       "      <td>Which president appointed FBI Director James C...</td>\n",
       "    </tr>\n",
       "    <tr>\n",
       "      <th>4</th>\n",
       "      <td>1213</td>\n",
       "      <td>Comey was confirmed by the Senate on July 29, ...</td>\n",
       "    </tr>\n",
       "    <tr>\n",
       "      <th>...</th>\n",
       "      <td>...</td>\n",
       "      <td>...</td>\n",
       "    </tr>\n",
       "    <tr>\n",
       "      <th>79995</th>\n",
       "      <td>975161</td>\n",
       "      <td>Kirkby is a name that was brought to England b...</td>\n",
       "    </tr>\n",
       "    <tr>\n",
       "      <th>79996</th>\n",
       "      <td>79075</td>\n",
       "      <td>4MOTION is Volkswagenâs permanent four-wheel...</td>\n",
       "    </tr>\n",
       "    <tr>\n",
       "      <th>79997</th>\n",
       "      <td>989328</td>\n",
       "      <td>Bucks County International is a premium trucks...</td>\n",
       "    </tr>\n",
       "    <tr>\n",
       "      <th>79998</th>\n",
       "      <td>921395</td>\n",
       "      <td>If you're in a higher education undergraduate ...</td>\n",
       "    </tr>\n",
       "    <tr>\n",
       "      <th>79999</th>\n",
       "      <td>400998</td>\n",
       "      <td>Norway and the European Union. Last updated: 1...</td>\n",
       "    </tr>\n",
       "  </tbody>\n",
       "</table>\n",
       "<p>80000 rows × 2 columns</p>\n",
       "</div>"
      ],
      "text/plain": [
       "          pid                                               text\n",
       "0         448  A postal code (also known locally in various E...\n",
       "1         466  Therefore, all pathologists must have complete...\n",
       "2         646  Obesity is a complex disorder involving an exc...\n",
       "3        1212  Which president appointed FBI Director James C...\n",
       "4        1213  Comey was confirmed by the Senate on July 29, ...\n",
       "...       ...                                                ...\n",
       "79995  975161  Kirkby is a name that was brought to England b...\n",
       "79996   79075  4MOTION is Volkswagenâs permanent four-wheel...\n",
       "79997  989328  Bucks County International is a premium trucks...\n",
       "79998  921395  If you're in a higher education undergraduate ...\n",
       "79999  400998  Norway and the European Union. Last updated: 1...\n",
       "\n",
       "[80000 rows x 2 columns]"
      ]
     },
     "execution_count": 2,
     "metadata": {},
     "output_type": "execute_result"
    }
   ],
   "source": [
    "import pandas as pd\n",
    "\n",
    "# This common_dataset is used for indexing/evaluating DPR/BM25/TF-IDF\n",
    "merged_queries_csv_path = \"common_dataset_80k.tsv\"\n",
    "\n",
    "# Reading queries dev & qrels dev used for eval\n",
    "queries = pd.read_csv(\"queries.dev.tsv\", sep=\"\\t\", names=[\"qid\", \"query\"], dtype={\"qid\": str, \"query\": str})\n",
    "qrels = pd.read_csv(\"qrels.dev.tsv\", sep=\"\\t\", names=[\"qid\",\"_\",\"pid\",\"rel\"], dtype={\"qid\":str,\"pid\":str,\"rel\":int})\n",
    "\n",
    "merged_df = pd.read_csv(merged_queries_csv_path, sep=\"\\t\", names=[\"pid\", \"text\"], dtype={\"pid\": str, \"text\":str})\n",
    "merged_df"
   ]
  },
  {
   "cell_type": "code",
   "execution_count": 3,
   "id": "e4ab4d55",
   "metadata": {},
   "outputs": [
    {
     "data": {
      "application/vnd.microsoft.datawrangler.viewer.v0+json": {
       "columns": [
        {
         "name": "index",
         "rawType": "int64",
         "type": "integer"
        },
        {
         "name": "qid",
         "rawType": "object",
         "type": "string"
        },
        {
         "name": "pid",
         "rawType": "object",
         "type": "string"
        },
        {
         "name": "rel",
         "rawType": "int64",
         "type": "integer"
        }
       ],
       "ref": "55ab089e-1c26-4903-9f2d-2f1fb9eb0d61",
       "rows": [
        [
         "0",
         "1102432",
         "2026790",
         "1"
        ],
        [
         "1",
         "1102431",
         "7066866",
         "1"
        ],
        [
         "2",
         "1102431",
         "7066867",
         "1"
        ],
        [
         "3",
         "1090282",
         "7066900",
         "1"
        ],
        [
         "4",
         "39449",
         "7066905",
         "1"
        ],
        [
         "5",
         "76162",
         "7066915",
         "1"
        ],
        [
         "6",
         "195512",
         "7066971",
         "1"
        ],
        [
         "7",
         "1090280",
         "7067004",
         "1"
        ],
        [
         "8",
         "331318",
         "5309290",
         "1"
        ],
        [
         "9",
         "300674",
         "7067032",
         "1"
        ],
        [
         "10",
         "15177",
         "7067041",
         "1"
        ],
        [
         "11",
         "125705",
         "7067056",
         "1"
        ],
        [
         "12",
         "85224",
         "7067077",
         "1"
        ],
        [
         "13",
         "114414",
         "7067093",
         "1"
        ],
        [
         "14",
         "114414",
         "7067094",
         "1"
        ],
        [
         "15",
         "114414",
         "7067099",
         "1"
        ],
        [
         "16",
         "280709",
         "1218765",
         "1"
        ],
        [
         "17",
         "302299",
         "519738",
         "1"
        ],
        [
         "18",
         "94798",
         "7067181",
         "1"
        ],
        [
         "19",
         "1090278",
         "7067200",
         "1"
        ],
        [
         "20",
         "44932",
         "7067221",
         "1"
        ],
        [
         "21",
         "202671",
         "6326081",
         "1"
        ],
        [
         "22",
         "9083",
         "7067274",
         "1"
        ],
        [
         "23",
         "174249",
         "7067348",
         "1"
        ],
        [
         "24",
         "230982",
         "7067375",
         "1"
        ],
        [
         "25",
         "281439",
         "7067384",
         "1"
        ],
        [
         "26",
         "177008",
         "7067405",
         "1"
        ],
        [
         "27",
         "1090275",
         "7067414",
         "1"
        ],
        [
         "28",
         "271872",
         "2940180",
         "1"
        ],
        [
         "29",
         "40287",
         "584321",
         "1"
        ],
        [
         "30",
         "50983",
         "7067430",
         "1"
        ],
        [
         "31",
         "1090274",
         "7067504",
         "1"
        ],
        [
         "32",
         "180613",
         "7067526",
         "1"
        ],
        [
         "33",
         "263012",
         "7067532",
         "1"
        ],
        [
         "34",
         "278291",
         "1839294",
         "1"
        ],
        [
         "35",
         "150649",
         "1412923",
         "1"
        ],
        [
         "36",
         "150649",
         "7067601",
         "1"
        ],
        [
         "37",
         "277271",
         "4710928",
         "1"
        ],
        [
         "38",
         "330883",
         "104875",
         "1"
        ],
        [
         "39",
         "79604",
         "7067626",
         "1"
        ],
        [
         "40",
         "319445",
         "7067642",
         "1"
        ],
        [
         "41",
         "320792",
         "7067677",
         "1"
        ],
        [
         "42",
         "266264",
         "7067759",
         "1"
        ],
        [
         "43",
         "1090270",
         "7067796",
         "1"
        ],
        [
         "44",
         "74647",
         "7067806",
         "1"
        ],
        [
         "45",
         "70930",
         "7067813",
         "1"
        ],
        [
         "46",
         "289403",
         "1655909",
         "1"
        ],
        [
         "47",
         "67857",
         "7067829",
         "1"
        ],
        [
         "48",
         "18312",
         "7067881",
         "1"
        ],
        [
         "49",
         "1101279",
         "7067891",
         "1"
        ]
       ],
       "shape": {
        "columns": 3,
        "rows": 59273
       }
      },
      "text/html": [
       "<div>\n",
       "<style scoped>\n",
       "    .dataframe tbody tr th:only-of-type {\n",
       "        vertical-align: middle;\n",
       "    }\n",
       "\n",
       "    .dataframe tbody tr th {\n",
       "        vertical-align: top;\n",
       "    }\n",
       "\n",
       "    .dataframe thead th {\n",
       "        text-align: right;\n",
       "    }\n",
       "</style>\n",
       "<table border=\"1\" class=\"dataframe\">\n",
       "  <thead>\n",
       "    <tr style=\"text-align: right;\">\n",
       "      <th></th>\n",
       "      <th>qid</th>\n",
       "      <th>pid</th>\n",
       "      <th>rel</th>\n",
       "    </tr>\n",
       "  </thead>\n",
       "  <tbody>\n",
       "    <tr>\n",
       "      <th>0</th>\n",
       "      <td>1102432</td>\n",
       "      <td>2026790</td>\n",
       "      <td>1</td>\n",
       "    </tr>\n",
       "    <tr>\n",
       "      <th>1</th>\n",
       "      <td>1102431</td>\n",
       "      <td>7066866</td>\n",
       "      <td>1</td>\n",
       "    </tr>\n",
       "    <tr>\n",
       "      <th>2</th>\n",
       "      <td>1102431</td>\n",
       "      <td>7066867</td>\n",
       "      <td>1</td>\n",
       "    </tr>\n",
       "    <tr>\n",
       "      <th>3</th>\n",
       "      <td>1090282</td>\n",
       "      <td>7066900</td>\n",
       "      <td>1</td>\n",
       "    </tr>\n",
       "    <tr>\n",
       "      <th>4</th>\n",
       "      <td>39449</td>\n",
       "      <td>7066905</td>\n",
       "      <td>1</td>\n",
       "    </tr>\n",
       "    <tr>\n",
       "      <th>...</th>\n",
       "      <td>...</td>\n",
       "      <td>...</td>\n",
       "      <td>...</td>\n",
       "    </tr>\n",
       "    <tr>\n",
       "      <th>59268</th>\n",
       "      <td>150337</td>\n",
       "      <td>8009410</td>\n",
       "      <td>1</td>\n",
       "    </tr>\n",
       "    <tr>\n",
       "      <th>59269</th>\n",
       "      <td>22241</td>\n",
       "      <td>8009429</td>\n",
       "      <td>1</td>\n",
       "    </tr>\n",
       "    <tr>\n",
       "      <th>59270</th>\n",
       "      <td>129177</td>\n",
       "      <td>8009442</td>\n",
       "      <td>1</td>\n",
       "    </tr>\n",
       "    <tr>\n",
       "      <th>59271</th>\n",
       "      <td>190655</td>\n",
       "      <td>3576091</td>\n",
       "      <td>1</td>\n",
       "    </tr>\n",
       "    <tr>\n",
       "      <th>59272</th>\n",
       "      <td>371455</td>\n",
       "      <td>8009476</td>\n",
       "      <td>1</td>\n",
       "    </tr>\n",
       "  </tbody>\n",
       "</table>\n",
       "<p>59273 rows × 3 columns</p>\n",
       "</div>"
      ],
      "text/plain": [
       "           qid      pid  rel\n",
       "0      1102432  2026790    1\n",
       "1      1102431  7066866    1\n",
       "2      1102431  7066867    1\n",
       "3      1090282  7066900    1\n",
       "4        39449  7066905    1\n",
       "...        ...      ...  ...\n",
       "59268   150337  8009410    1\n",
       "59269    22241  8009429    1\n",
       "59270   129177  8009442    1\n",
       "59271   190655  3576091    1\n",
       "59272   371455  8009476    1\n",
       "\n",
       "[59273 rows x 3 columns]"
      ]
     },
     "execution_count": 3,
     "metadata": {},
     "output_type": "execute_result"
    }
   ],
   "source": [
    "filtered_qrels = qrels[qrels['pid'].isin(merged_df['pid'])]\n",
    "queries_eval = (queries[queries['qid'].isin(filtered_qrels['qid'])]\n",
    "                .drop_duplicates('qid')\n",
    "                [['qid','query']])\n",
    "\n",
    "qrels_for_eval = filtered_qrels[['qid','pid','rel']].astype({\"qid\":str,\"pid\":str,\"rel\":int})\n",
    "qrels_for_eval"
   ]
  },
  {
   "cell_type": "code",
   "execution_count": 4,
   "id": "517f384a",
   "metadata": {},
   "outputs": [
    {
     "name": "stdout",
     "output_type": "stream",
     "text": [
      "Number of qids with multiple pids: 3136\n"
     ]
    },
    {
     "data": {
      "application/vnd.microsoft.datawrangler.viewer.v0+json": {
       "columns": [
        {
         "name": "index",
         "rawType": "int64",
         "type": "integer"
        },
        {
         "name": "qid",
         "rawType": "object",
         "type": "string"
        },
        {
         "name": "query",
         "rawType": "object",
         "type": "string"
        }
       ],
       "ref": "54332b9c-f97b-4f81-a553-dc01a785cc2c",
       "rows": [
        [
         "18",
         "524318",
         "treating diabetes"
        ],
        [
         "30",
         "524341",
         "treatment and prognosis for lung cancer"
        ],
        [
         "87",
         "524447",
         "treatment of varicose veins in legs"
        ],
        [
         "150",
         "524569",
         "trend what does it means"
        ],
        [
         "179",
         "362",
         ". what are the president's main duties? explain each"
        ],
        [
         "250",
         "514",
         "1. define lymph and explain its function"
        ],
        [
         "412",
         "525186",
         "tsa wages and benefits"
        ],
        [
         "551",
         "1231",
         "3 other systems that work with the respiratory system"
        ],
        [
         "690",
         "525811",
         "twitching eyelids causes"
        ],
        [
         "774",
         "61161",
         "calories in wine vs vodka"
        ],
        [
         "893",
         "526306",
         "types of anemia table"
        ],
        [
         "896",
         "1050597",
         "what is mrcp and frcp degree?"
        ],
        [
         "996",
         "655734",
         "what dose does cyclobenzaprine come in"
        ],
        [
         "1029",
         "526591",
         "types of boogers"
        ],
        [
         "1051",
         "526637",
         "types of breaker switches"
        ],
        [
         "1212",
         "527009",
         "types of communication tools"
        ],
        [
         "1261",
         "527111",
         "types of cordless cutting tools"
        ],
        [
         "1293",
         "527158",
         "types of crown material"
        ],
        [
         "1300",
         "527176",
         "types of currency of iceland"
        ],
        [
         "1483",
         "3267",
         "Hailey name meaning"
        ],
        [
         "1493",
         "527585",
         "types of exercise?"
        ],
        [
         "1550",
         "527730",
         "types of fishes in the sea"
        ],
        [
         "1563",
         "527769",
         "types of flowering cactus"
        ],
        [
         "1581",
         "527820",
         "types of foot deformity"
        ],
        [
         "1631",
         "527916",
         "types of ginger plants"
        ],
        [
         "1669",
         "527992",
         "types of guitar string thickness"
        ],
        [
         "1781",
         "528278",
         "types of iron lines cornea"
        ],
        [
         "1825",
         "528395",
         "types of laser treatments for wrinkles"
        ],
        [
         "1951",
         "528706",
         "types of medical coding"
        ],
        [
         "1978",
         "528760",
         "types of metal plating"
        ],
        [
         "2001",
         "528810",
         "types of misdemeanor charges"
        ],
        [
         "2020",
         "528841",
         "types of mongooses animals"
        ],
        [
         "2097",
         "529032",
         "types of olives greek"
        ],
        [
         "2145",
         "529147",
         "types of pasta description"
        ],
        [
         "2169",
         "529199",
         "types of philodendron plants"
        ],
        [
         "2302",
         "1093132",
         "meadowbrook howe phone number"
        ],
        [
         "2338",
         "568860",
         "what are the different categories of cars"
        ],
        [
         "2373",
         "529654",
         "types of sand and drainage"
        ],
        [
         "2428",
         "529767",
         "types of shingles that goes on roof"
        ],
        [
         "2579",
         "530052",
         "types of swimming pool liners"
        ],
        [
         "2697",
         "1054597",
         "what is ginger good for is ginger for digestion"
        ],
        [
         "2747",
         "530435",
         "types of waste management"
        ],
        [
         "2755",
         "530459",
         "types of weeds"
        ],
        [
         "2761",
         "530484",
         "types of white pills"
        ],
        [
         "2786",
         "569021",
         "what are the different types of hamsters"
        ],
        [
         "2797",
         "530572",
         "types of wrist brace"
        ],
        [
         "2819",
         "530615",
         "types saws and uses"
        ],
        [
         "2871",
         "525361",
         "tuition csun"
        ],
        [
         "3489",
         "569293",
         "what are the drink driving laws in u s a"
        ],
        [
         "3579",
         "532390",
         "united basic economy baggage policy"
        ]
       ],
       "shape": {
        "columns": 2,
        "rows": 1000
       }
      },
      "text/html": [
       "<div>\n",
       "<style scoped>\n",
       "    .dataframe tbody tr th:only-of-type {\n",
       "        vertical-align: middle;\n",
       "    }\n",
       "\n",
       "    .dataframe tbody tr th {\n",
       "        vertical-align: top;\n",
       "    }\n",
       "\n",
       "    .dataframe thead th {\n",
       "        text-align: right;\n",
       "    }\n",
       "</style>\n",
       "<table border=\"1\" class=\"dataframe\">\n",
       "  <thead>\n",
       "    <tr style=\"text-align: right;\">\n",
       "      <th></th>\n",
       "      <th>qid</th>\n",
       "      <th>query</th>\n",
       "    </tr>\n",
       "  </thead>\n",
       "  <tbody>\n",
       "    <tr>\n",
       "      <th>18</th>\n",
       "      <td>524318</td>\n",
       "      <td>treating diabetes</td>\n",
       "    </tr>\n",
       "    <tr>\n",
       "      <th>30</th>\n",
       "      <td>524341</td>\n",
       "      <td>treatment and prognosis for lung cancer</td>\n",
       "    </tr>\n",
       "    <tr>\n",
       "      <th>87</th>\n",
       "      <td>524447</td>\n",
       "      <td>treatment of varicose veins in legs</td>\n",
       "    </tr>\n",
       "    <tr>\n",
       "      <th>150</th>\n",
       "      <td>524569</td>\n",
       "      <td>trend what does it means</td>\n",
       "    </tr>\n",
       "    <tr>\n",
       "      <th>179</th>\n",
       "      <td>362</td>\n",
       "      <td>. what are the president's main duties? explai...</td>\n",
       "    </tr>\n",
       "    <tr>\n",
       "      <th>...</th>\n",
       "      <td>...</td>\n",
       "      <td>...</td>\n",
       "    </tr>\n",
       "    <tr>\n",
       "      <th>100584</th>\n",
       "      <td>576078</td>\n",
       "      <td>what are traditional new year's eve meals</td>\n",
       "    </tr>\n",
       "    <tr>\n",
       "      <th>100623</th>\n",
       "      <td>523224</td>\n",
       "      <td>toxic lithium effects</td>\n",
       "    </tr>\n",
       "    <tr>\n",
       "      <th>100637</th>\n",
       "      <td>523248</td>\n",
       "      <td>toxoplasmosis symptoms</td>\n",
       "    </tr>\n",
       "    <tr>\n",
       "      <th>100821</th>\n",
       "      <td>523645</td>\n",
       "      <td>transaction finance definition</td>\n",
       "    </tr>\n",
       "    <tr>\n",
       "      <th>100900</th>\n",
       "      <td>523851</td>\n",
       "      <td>transition of care defined</td>\n",
       "    </tr>\n",
       "  </tbody>\n",
       "</table>\n",
       "<p>1000 rows × 2 columns</p>\n",
       "</div>"
      ],
      "text/plain": [
       "           qid                                              query\n",
       "18      524318                                  treating diabetes\n",
       "30      524341            treatment and prognosis for lung cancer\n",
       "87      524447                treatment of varicose veins in legs\n",
       "150     524569                           trend what does it means\n",
       "179        362  . what are the president's main duties? explai...\n",
       "...        ...                                                ...\n",
       "100584  576078          what are traditional new year's eve meals\n",
       "100623  523224                              toxic lithium effects\n",
       "100637  523248                             toxoplasmosis symptoms\n",
       "100821  523645                     transaction finance definition\n",
       "100900  523851                         transition of care defined\n",
       "\n",
       "[1000 rows x 2 columns]"
      ]
     },
     "execution_count": 4,
     "metadata": {},
     "output_type": "execute_result"
    }
   ],
   "source": [
    "\n",
    "multi_pid_qids = qrels.groupby('qid')['pid'].nunique()\n",
    "multi_pid_qids = multi_pid_qids[multi_pid_qids > 1].sort_values(ascending=False)\n",
    "print(f\"Number of qids with multiple pids: {len(multi_pid_qids)}\")\n",
    "\n",
    "size = 1000\n",
    "selected_qids = multi_pid_qids.head(size).index\n",
    "sampled_queries = queries_eval[queries_eval['qid'].isin(selected_qids)]\n",
    "\n",
    "sampled_queries.to_csv(f\"sampled_queries_{int(size/1000)}k.tsv\", sep=\"\\t\", index=False)\n",
    "qrels_for_eval.to_csv(f\"qrels_for_eval.tsv\", sep=\"\\t\", index=False)\n",
    "sampled_queries"
   ]
  },
  {
   "cell_type": "code",
   "execution_count": null,
   "id": "7b1316ea",
   "metadata": {},
   "outputs": [],
   "source": []
  }
 ],
 "metadata": {
  "kernelspec": {
   "display_name": "datascience-venv",
   "language": "python",
   "name": "python3"
  },
  "language_info": {
   "codemirror_mode": {
    "name": "ipython",
    "version": 3
   },
   "file_extension": ".py",
   "mimetype": "text/x-python",
   "name": "python",
   "nbconvert_exporter": "python",
   "pygments_lexer": "ipython3",
   "version": "3.13.3"
  }
 },
 "nbformat": 4,
 "nbformat_minor": 5
}
