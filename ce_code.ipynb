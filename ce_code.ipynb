{
 "cells": [
  {
   "cell_type": "code",
   "execution_count": 2,
   "id": "05c2f241",
   "metadata": {},
   "outputs": [
    {
     "data": {
      "application/vnd.microsoft.datawrangler.viewer.v0+json": {
       "columns": [
        {
         "name": "index",
         "rawType": "int64",
         "type": "integer"
        },
        {
         "name": "qid",
         "rawType": "int64",
         "type": "integer"
        },
        {
         "name": "query",
         "rawType": "object",
         "type": "string"
        },
        {
         "name": "pos_pid",
         "rawType": "int64",
         "type": "integer"
        },
        {
         "name": "positive",
         "rawType": "object",
         "type": "string"
        },
        {
         "name": "neg_pid",
         "rawType": "int64",
         "type": "integer"
        },
        {
         "name": "negative",
         "rawType": "object",
         "type": "unknown"
        }
       ],
       "ref": "694c3229-8a16-47e9-9b82-3de381c71fd8",
       "rows": [
        [
         "0",
         "1000094",
         "where is whitemarsh island",
         "5399011",
         "Whitemarsh Island, Georgia. Whitemarsh Island (pronounced WIT-marsh) is a census-designated place (CDP) in Chatham County, Georgia, United States. The population was 6,792 at the 2010 census. It is part of the Savannah Metropolitan Statistical Area. The communities of Whitemarsh Island are a relatively affluent suburb of Savannah.",
         "271630",
         "Underwater Volcano Forms New South Pacific Island. Constant eruptions from an underwater volcano in the South Pacific Ocean starting in December created a new island over the last few months. Twenty five miles from Tonga, a nearby island nation, the freshly-made island won't last for too long, scientists say."
        ],
        [
         "1",
         "1000094",
         "where is whitemarsh island",
         "5399011",
         "Whitemarsh Island, Georgia. Whitemarsh Island (pronounced WIT-marsh) is a census-designated place (CDP) in Chatham County, Georgia, United States. The population was 6,792 at the 2010 census. It is part of the Savannah Metropolitan Statistical Area. The communities of Whitemarsh Island are a relatively affluent suburb of Savannah.",
         "5534953",
         "Komodo is one of the 17,508 islands that make up the Republic of Indonesia. The island is particularly notable as the natural habitat of the Komodo dragon, the largest lizard on earth and consequently named after the island.Komodo Island has a surface area of 390 kmÂ² and a permanent population of over 2,000.he island is particularly notable as the natural habitat of the Komodo dragon, the largest lizard on earth and consequently named after the island. Komodo Island has a surface area of 390 kmÂ² and a permanent population of over 2,000."
        ],
        [
         "2",
         "1000684",
         "where is your perineum",
         "6133670",
         "That part of the floor of the PELVIS that lies between the tops of the thighs. In the male, the perineum lies between the anus and the scrotum. In the female, it includes the external genitalia. The area between the opening of the vagina and the anus in a woman, or the area between the scrotum and the anus in a man.",
         "54955",
         "rule of nines (rÅ«l nÄ«nz) Method used in calculating body surface area involved in burns whereby values of 9% or 18% of surface area are assigned to specific regions as follows: head and neck, 9%; anterior thorax, 18%; posterior thorax, 18%; arms, 9% each; legs, 18% each; perineum, 1%."
        ],
        [
         "3",
         "1000684",
         "where is your perineum",
         "6133670",
         "That part of the floor of the PELVIS that lies between the tops of the thighs. In the male, the perineum lies between the anus and the scrotum. In the female, it includes the external genitalia. The area between the opening of the vagina and the anus in a woman, or the area between the scrotum and the anus in a man.",
         "5952792",
         "This delicate triangle is important during childbirth. PCOS. The perineum is the surface area between the pubis symphysis and coccyx. In females, this is the small flesh between the vagina and the anus. It has a thin layer of fibromuscular subcutaneous tissue and skin with less hair than the rest of the genitals. Throughout most of your life, you probably will not give your perineum a second thought."
        ],
        [
         "4",
         "1000684",
         "where is your perineum",
         "6133670",
         "That part of the floor of the PELVIS that lies between the tops of the thighs. In the male, the perineum lies between the anus and the scrotum. In the female, it includes the external genitalia. The area between the opening of the vagina and the anus in a woman, or the area between the scrotum and the anus in a man.",
         "4455896",
         "1 abdomen: Latin abdomen = the belly, the part of the trunk between thorax and the perineum, adjective - abdominal.  abducent: Latin ab = from, and ducens = led, hence, moving from, or effecting separation."
        ],
        [
         "5",
         "1000938",
         "where on the chromosome or gene is the tay-sachs located",
         "5203582",
         "Tay-Sachs disease is caused by a mutation in the HEXA gene located on chromosome 15. Tay-Sachs follows an autosomal recessive pattern of inheritance. With the help of the diagram, identify which of the offspring will be an unaffected carrier.",
         "4737056",
         "A woman will carry the colorblindness gene if: a. Her father is colorblind b. Her offpsring are colorblind She may carry the colorblindness gene if: a. Male family members (brothers, uncles, etc.) are colorblind A child inherits one chromosome from each parent. woman will carry the colorblindness gene if: a. Her father is colorblind b. Her offpsring are colorblind She may carry the colorblindness gene if: a. Male family members (brothers, uncles, etc.) are colorblind A child inherits one chromosome from each parent."
        ],
        [
         "6",
         "1000938",
         "where on the chromosome or gene is the tay-sachs located",
         "5203582",
         "Tay-Sachs disease is caused by a mutation in the HEXA gene located on chromosome 15. Tay-Sachs follows an autosomal recessive pattern of inheritance. With the help of the diagram, identify which of the offspring will be an unaffected carrier.",
         "6429328",
         "General Discussion. Tay-Sachs disease is a rare, neurodegenerative disorder in which deficiency of an enzyme (hexosaminidase A) results in excessive accumulation of certain fats (lipids) known as gangliosides in the brain and nerve cells.eneral Discussion. Tay-Sachs disease is a rare, neurodegenerative disorder in which deficiency of an enzyme (hexosaminidase A) results in excessive accumulation of certain fats (lipids) known as gangliosides in the brain and nerve cells."
        ],
        [
         "7",
         "1000938",
         "where on the chromosome or gene is the tay-sachs located",
         "5203582",
         "Tay-Sachs disease is caused by a mutation in the HEXA gene located on chromosome 15. Tay-Sachs follows an autosomal recessive pattern of inheritance. With the help of the diagram, identify which of the offspring will be an unaffected carrier.",
         "2369847",
         "Who discovered Tay-Sachs disease?Tay Sachs disease was discovered by 2 individuals, a British physician who goes by the name of Warren Taynoticed a characteristic âcherry redâ spot in the retina that is indicative of the disease."
        ],
        [
         "8",
         "1001876",
         "where was Michael klim born",
         "2354621",
         "Michael Klim was born in 1977 in Poland. He is married to Lindy Rama. They have one child.as won six swimming medals for Australia across three Olympics, including five as part of freestyle relay and medley relay teams and a silver medal in the 100 metres butterfly at the Sydney Olympics in 2000. Daughter Stella, born 27 January 2006.",
         "3473806",
         "Michael O'Keefe was born on April 24, 1955 in Mount Vernon, New York, USA as Raymond Peter O'Keefe Jr. He is an actor and director, known for Michael Clayton (2007), Caddyshack (1980) and Frozen River (2008). He has been married to Emily Donahoe since September 18, 2011. They have one child."
        ],
        [
         "9",
         "1001876",
         "where was Michael klim born",
         "2354621",
         "Michael Klim was born in 1977 in Poland. He is married to Lindy Rama. They have one child.as won six swimming medals for Australia across three Olympics, including five as part of freestyle relay and medley relay teams and a silver medal in the 100 metres butterfly at the Sydney Olympics in 2000. Daughter Stella, born 27 January 2006.",
         "3022957",
         "Mini Bio (1). Hilary was born in Lincoln, Nebraska, to Judith Kay (Clough), a secretary, and Stephen Michael Swank, who served in the National Guard and was also a traveling salesman.Her maternal grandmother, Frances Martha Dominguez, was of Mexican descent, and her other roots include German, English, and Scottish.verview (3). Hilary was born in Lincoln, Nebraska, to Judith Kay (Clough), a secretary, and Stephen Michael Swank, who served in the National Guard and was also a traveling salesman."
        ],
        [
         "10",
         "1001876",
         "where was Michael klim born",
         "2354621",
         "Michael Klim was born in 1977 in Poland. He is married to Lindy Rama. They have one child.as won six swimming medals for Australia across three Olympics, including five as part of freestyle relay and medley relay teams and a silver medal in the 100 metres butterfly at the Sydney Olympics in 2000. Daughter Stella, born 27 January 2006.",
         "3740975",
         "Actor | Director | Writer. Clark Duke was born in Glenwood, Arkansas. His parents are Angela and Ronnie Duke. Along with best friend Michael Cera, Duke created, wrote, directed, and produced the web series Clark and Michael (2006) in which he plays a fictional version of himself. The pilot episode was directed by Duke as his college thesis film at Loyola Marymount ..."
        ],
        [
         "11",
         "1002233",
         "where was david delamare born",
         "5049159",
         "David Delamare was born in Leicester, UK but has spent most of his life in Portland, Oregon where he enjoys the cloudy weather.Though he likes to travel, he has never driven a car. He sleeps late and works deep into the night.When he's not attending films, plays, or concerts he can usually be found at home or strolling in Portland's Hawthorne District.hough he likes to travel, he has never driven a car. He sleeps late and works deep into the night. When he's not attending films, plays, or concerts he can usually be found at home or strolling in Portland's Hawthorne District.",
         "4679862",
         "1986 21st of December. Sweet and lovely, Colleen Evansn was born in Santa Barbara, California, United States of America to Tim Ballinger and Gwen Ballinger. She was also raised in Santa Barbara along with her three siblings Rachel Ballinger, Trent Ballinger and Christopher Ballinger. She is an American. In 2015, Colleen got married to Joshua David Evans. Joshua David Evans is a signer and a YouTube personality."
        ],
        [
         "12",
         "1002233",
         "where was david delamare born",
         "5049159",
         "David Delamare was born in Leicester, UK but has spent most of his life in Portland, Oregon where he enjoys the cloudy weather.Though he likes to travel, he has never driven a car. He sleeps late and works deep into the night.When he's not attending films, plays, or concerts he can usually be found at home or strolling in Portland's Hawthorne District.hough he likes to travel, he has never driven a car. He sleeps late and works deep into the night. When he's not attending films, plays, or concerts he can usually be found at home or strolling in Portland's Hawthorne District.",
         "4475381",
         "David Crockett was a pioneer, soldier, politician and industrialist. He was born near the town of Limestone, Tenn. in 1786. David Crockett Birthplace State Park commemorates the birthplace of this famous Tennessean. In 1817, he moved to Lawrence County. While serving in Congress, he fought for his peopleâs right to keep land they had settled on in the new frontier of West Tennessee."
        ],
        [
         "13",
         "1002233",
         "where was david delamare born",
         "5049159",
         "David Delamare was born in Leicester, UK but has spent most of his life in Portland, Oregon where he enjoys the cloudy weather.Though he likes to travel, he has never driven a car. He sleeps late and works deep into the night.When he's not attending films, plays, or concerts he can usually be found at home or strolling in Portland's Hawthorne District.hough he likes to travel, he has never driven a car. He sleeps late and works deep into the night. When he's not attending films, plays, or concerts he can usually be found at home or strolling in Portland's Hawthorne District.",
         "4818489",
         "Some of the exciting brands within the Turner portfolio include Ben 10, Adventure Time, The Amazing World of Gumball and LazyTown. David has since moved back to Melbourne Australia to launch clip licensing agency Born Licensing.He has aligned with licensors who offer extensive property portfolios and will raise the profile of clip licensing among advertising agencies in Australia & NZ.ome of the exciting brands within the Turner portfolio include Ben 10, Adventure Time, The Amazing World of Gumball and LazyTown. David has since moved back to Melbourne Australia to launch clip licensing agency Born Licensing."
        ],
        [
         "14",
         "1002416",
         "where was gareth bale born",
         "6210209",
         "Biography. Gareth (Frank) Bale was born in Cardiff on July 16th 1989. His dadâs name is Frank (school caretaker) and his momâs name is Debbie (operations manager). He went to Eglwys Newydd Primary School at Whitchurch.",
         "1474923",
         "Bales of hay in a field. The definition of a bale is something that is bundled and bound together, often in equal measure, or the amount that is in the bundle. 1  An example of a bale is a pile of hay tied together.  An example of a bale is 100 pounds of hay."
        ],
        [
         "15",
         "1002416",
         "where was gareth bale born",
         "6210209",
         "Biography. Gareth (Frank) Bale was born in Cardiff on July 16th 1989. His dadâs name is Frank (school caretaker) and his momâs name is Debbie (operations manager). He went to Eglwys Newydd Primary School at Whitchurch.",
         "1142207",
         "to be formed into rope; to draw out or extend into a filament or thread, as by means of any glutinous or adhesive quality Rope (verb) to bind, fasten, or tie with a rope or cord; as, to rope a bale of goods Rope (verb) to connect or fasten together, as a party of mountain climbers, with a rope"
        ],
        [
         "16",
         "1002416",
         "where was gareth bale born",
         "6210209",
         "Biography. Gareth (Frank) Bale was born in Cardiff on July 16th 1989. His dadâs name is Frank (school caretaker) and his momâs name is Debbie (operations manager). He went to Eglwys Newydd Primary School at Whitchurch.",
         "1961096",
         "The favorites in the male-acting categories both were nominated, Golden Globe winners Firth as best actor for âThe Kingâs Speechâ and Christian Bale as supporting actor for âThe Fighter.â"
        ],
        [
         "17",
         "1003328",
         "where was saint dominic from",
         "3712662",
         "Saint Dominic was born in Caleruega, Spain in 1170. His parents were members of the Spanish nobility and related to the ruling family. His father was Felix Guzman, and was the royal warden of the village. His mother, Bl. Joan of Aza, was a holy woman in her own right.",
         "8581416",
         "Cities Near Saint Peters. Saint Charles; Ofallon; O Fallon; Lake Saint Louis; Wentzville; Cottleville; West Alton; Flinthill; Portage Des Sioux; Foristell; Augusta; New Melle; Saint Peters Zip Codes. 63303 63304 63366 63368 63376 Saint Peters Demographic Data Population (Census 2000): 51,381"
        ],
        [
         "18",
         "1003328",
         "where was saint dominic from",
         "3712662",
         "Saint Dominic was born in Caleruega, Spain in 1170. His parents were members of the Spanish nobility and related to the ruling family. His father was Felix Guzman, and was the royal warden of the village. His mother, Bl. Joan of Aza, was a holy woman in her own right.",
         "2170571",
         "1 Superior Fence & Rail in Saint Petersburg, FL. 2  Saint-Petersburg@superiorfenceandrail.com. 3  The City of Saint Petersburg Official Website. 4  Saint Petersburg Zoning Department.  Saint Petersburg Building Permits."
        ],
        [
         "19",
         "1003328",
         "where was saint dominic from",
         "3712662",
         "Saint Dominic was born in Caleruega, Spain in 1170. His parents were members of the Spanish nobility and related to the ruling family. His father was Felix Guzman, and was the royal warden of the village. His mother, Bl. Joan of Aza, was a holy woman in her own right.",
         "5134106",
         "Titus, SaintMGreekRELIGION: clergymanRELIGION: saint Saint. a Greek disciple and helper of Saint Paul."
        ],
        [
         "20",
         "1003418",
         "where was sommer ray born",
         "5937401",
         "Ray weighs according to her modeling profile 120 pounds and wears 32B bra size. Check out also measurements of Elizabeth Ruiz, Niykee Heaton, and Cassandre Davis. Sommer was born September 15, 1996 in Colorado, USA. She is a fitness model and maintains her body in superb shape through extensive workout routine.",
         "2702745",
         "Ray Liotta Net Worth. View Ray Liotta Net Worth and other Interesting and Rare Ray Liotta Facts You Won't Find Anywhere Else."
        ],
        [
         "21",
         "1003418",
         "where was sommer ray born",
         "5937401",
         "Ray weighs according to her modeling profile 120 pounds and wears 32B bra size. Check out also measurements of Elizabeth Ruiz, Niykee Heaton, and Cassandre Davis. Sommer was born September 15, 1996 in Colorado, USA. She is a fitness model and maintains her body in superb shape through extensive workout routine.",
         "4827730",
         "Norris was born in Ryan, Oklahoma on March 10, 1940, the son of Wilma (nee NÃ©e) scarberry And Ray, norris who was An World WAR Ii army, soldier a, mechanic bus, driver and truck. driver"
        ],
        [
         "22",
         "1003418",
         "where was sommer ray born",
         "5937401",
         "Ray weighs according to her modeling profile 120 pounds and wears 32B bra size. Check out also measurements of Elizabeth Ruiz, Niykee Heaton, and Cassandre Davis. Sommer was born September 15, 1996 in Colorado, USA. She is a fitness model and maintains her body in superb shape through extensive workout routine.",
         "4733760",
         "1 Sommer, Barbara W. Hard Work and a Good Deal: The Civilian Conservation Corps in Minnesota (2008). 2  Sommer, Barbara W. ' We Had This Opportunity': African Americans and the Civilian Conservation Corps in Minnesota in The State We're In: Reflections on Minnesota History, Annette Atkins and Deborah L. Millers, eds. Sherraden, Michael W. Military Participation in a Youth Employment Program: The Civilian Conservation Corps, Armed Forces and Society, vol. 7, no. 2, pp. 227â245, April 1981, pp. 227â245; ISSN 0095-327X available online from SAGE Publications."
        ],
        [
         "23",
         "1003840",
         "where was the lady vanishes filmed",
         "4063719",
         "The Lady Vanishes was filmed in the Gainsborough Studios at Islington, London. It was Hitchcock's last British film until the 1970s; he relocated to Hollywood soon after its release.",
         "5433200",
         "Balamory was filmed mostly in Tobermory on the Isle of Mull, with the exception of scenes at Archie's castle filmed at Fenton Tower in North Berwick and Other Scenes like the park and Nursery Filmed in Glasgow.alamory. 282 pages on this wiki. Balamory is a Scottish live action television series on British television (BBC One, BBC Two and CBeebies) for pre-school children, based around the fictional small island community of Balamory in Scotland."
        ],
        [
         "24",
         "1003840",
         "where was the lady vanishes filmed",
         "4063719",
         "The Lady Vanishes was filmed in the Gainsborough Studios at Islington, London. It was Hitchcock's last British film until the 1970s; he relocated to Hollywood soon after its release.",
         "1086244",
         "Byronic stems from Lord Byron, famed poet and notorious bad boy. From Wikipedia: The Byronic hero is an idealised but flawed character exemplified in the life and writings of Lord Byron, characterised by his ex-lover Lady Caroline Lamb as being mad, bad, and dangerous to know.eathcliff in Wuthering Heights is definitely a byronic hero, as is Rochester in Jane Eyre. Both novels have been filmed numerous times. In an offbeat way, Donnie of Donnie Darko is rather byronic~brooding, intelligent and ultimately a hero who chooses to face his dark fate to spare others."
        ],
        [
         "25",
         "1003840",
         "where was the lady vanishes filmed",
         "4063719",
         "The Lady Vanishes was filmed in the Gainsborough Studios at Islington, London. It was Hitchcock's last British film until the 1970s; he relocated to Hollywood soon after its release.",
         "7602959",
         "Lady Macbeth does not at any time see the ghost of Banquo, and that Macbeth's vision is but the fear that arises from his guilty conscience. Lady Macbeth has apparently had no part in the murder, for it is not on her conscience, but only on her lord's."
        ],
        [
         "26",
         "100386",
         "cost behavior is considered linear whenever",
         "6182295",
         "Cost behavior is said to be linear whenever a straight line is a reasonable approximation for the relation between cost and activity.ost behavior is said to be linear whenever a straight line is a reasonable approximation for the relation between cost and activity.",
         "588060",
         "Updated: January 2017. Get an INSTANT, detailed estimate of the cost to Install Gutters! Our free calculator uses up-to-date, trusted data to estimate typical subcontractor costs for a Gutter Installation project. For a basic 60 linear feet project in zip code 47474, the benchmark cost to Install Gutters ranges between $6.16 - $9.77 per linear foot."
        ],
        [
         "27",
         "100386",
         "cost behavior is considered linear whenever",
         "6182295",
         "Cost behavior is said to be linear whenever a straight line is a reasonable approximation for the relation between cost and activity.ost behavior is said to be linear whenever a straight line is a reasonable approximation for the relation between cost and activity.",
         "5955822",
         "Linear Equations. 1  A simple linear equation is of the form: y = mx + c. 2  A linear equation looks like a straight line when graphed. 3  It has a constant slope value. 4  The degree of a linear equation is always 1. 5  Superposition principle is applicable to a system characterized by a linear equation."
        ],
        [
         "28",
         "100386",
         "cost behavior is considered linear whenever",
         "6182295",
         "Cost behavior is said to be linear whenever a straight line is a reasonable approximation for the relation between cost and activity.ost behavior is said to be linear whenever a straight line is a reasonable approximation for the relation between cost and activity.",
         "3117235",
         "Tell us about your project. Use our quote calculator to get an estimate of what your asphalt driveway and/or project will cost. Please note that this calculator can only give you an indication of the cost, it should not be considered a fixed quote.ell us about your project. Use our quote calculator to get an estimate of what your asphalt driveway and/or project will cost. Please note that this calculator can only give you an indication of the cost, it should not be considered a fixed quote."
        ],
        [
         "29",
         "1003900",
         "where was the movie goonies filmed",
         "4788874",
         "The picturesque town of Astoria, in Oregon, where 1980s adventure film The Goonies was set. This scene from the famous film shows Chunk showing off the iconic 'truffle shuffle'. 'On the way to Astoria, we stopped off at Cannon Beach which you can see near the start of the movie.",
         "6105642",
         "Tanna, Vanuatuâs first ever feature movie filmed entirely in Vanuatu, has been nominated. for Best Foreign Language Film at the 89th globally renowned Academy Awards also. known as The Oscars. Based on a true story around forbidden love, Tanna was crafted in close collaboration with. the Yakel village on the island of Tanna and tells the story of a young woman and man â also. the grandson of her village chief â who fall deeply in love. However, conflict arises when the."
        ],
        [
         "30",
         "1003900",
         "where was the movie goonies filmed",
         "4788874",
         "The picturesque town of Astoria, in Oregon, where 1980s adventure film The Goonies was set. This scene from the famous film shows Chunk showing off the iconic 'truffle shuffle'. 'On the way to Astoria, we stopped off at Cannon Beach which you can see near the start of the movie.",
         "7285285",
         "Best Movies Filmed In Sacramento. Most movies are filmed in more than one location. Thatâs certainly true of the many movies and TV movies that claim Sacramento as a location. From the early 1900s to the present, the Sacramento area has provided many great spots for the movie industry to extend the wonder of film. From the very serious to the very silly, itâs all been done here."
        ],
        [
         "31",
         "1003900",
         "where was the movie goonies filmed",
         "4788874",
         "The picturesque town of Astoria, in Oregon, where 1980s adventure film The Goonies was set. This scene from the famous film shows Chunk showing off the iconic 'truffle shuffle'. 'On the way to Astoria, we stopped off at Cannon Beach which you can see near the start of the movie.",
         "3293765",
         "Sir Christopher Lee on filming a horror film with his friend Vincent Price and how working with Martin Scorsese has completed his life as an actor. I knew Vincent Price from films â he was a big movie star â but the first time I met him was when we filmed The Oblong Box."
        ],
        [
         "32",
         "1003956",
         "where was the navy panama canal zone hospital",
         "3926579",
         "However, News Busters was in error. According to subsequent investigations by the press, the Panama Canal Zone did contain a small hospital at the Coco Solo submarine base in 1936, and McCain was born in that hospital.",
         "1317168",
         "Anyone is able to do this with a few plane tickets. You can also take a ship from Central America through the Panama Canal across the Atlantic to the Middle East, through the Suez Canal, through South East Asia, across the Pacific and back to Central America all going East."
        ],
        [
         "33",
         "1003956",
         "where was the navy panama canal zone hospital",
         "3926579",
         "However, News Busters was in error. According to subsequent investigations by the press, the Panama Canal Zone did contain a small hospital at the Coco Solo submarine base in 1936, and McCain was born in that hospital.",
         "3085100",
         "Best Answer: Neither-I believe they are Eastern Time.Well most of Florida,the extreme part of the pan handle(Panama City + West) is in the Central Time zone."
        ],
        [
         "34",
         "1003956",
         "where was the navy panama canal zone hospital",
         "3926579",
         "However, News Busters was in error. According to subsequent investigations by the press, the Panama Canal Zone did contain a small hospital at the Coco Solo submarine base in 1936, and McCain was born in that hospital.",
         "3846372",
         "Born Kenneth Bancroft Clark, July 14, 1914, in the Panama Canal Zone, Panama; died of cancer, May 1, 2005, in Hastings-On-Hudson, NY. Psychologist."
        ],
        [
         "35",
         "1004080",
         "where was the trajan column built",
         "5943981",
         "Trajanâs Column. Trajanâs Column is located in Rome, Italy, and was built in 113 AD. It honors Emperor Trajan, and at that time it was situated at the new Forum of Trajan. It commemorates victories by Trajan in Dacia, which is now Romania.",
         "8247016",
         "=SUM($A1:$A3). In this first example, only the column (A) is an absolute reference, while the row is a relative reference. So when this formula is copied to another column and row, the formula will still reference column A, but it will change the row based on where it has been copied.=SUM(A$1:A$3). In this second example, only the rows (1 through 3) are an absolute reference, while the column is a relative reference.So when this formula is copied to another column and row, the formula will still reference rows 1 through 3, but it will change the column based on where it is copied.o when this formula is copied to another column and row, the formula will still reference column A, but it will change the row based on where it has been copied. =SUM(A$1:A$3). In this second example, only the rows (1 through 3) are an absolute reference, while the column is a relative reference."
        ],
        [
         "36",
         "1004080",
         "where was the trajan column built",
         "5943981",
         "Trajanâs Column. Trajanâs Column is located in Rome, Italy, and was built in 113 AD. It honors Emperor Trajan, and at that time it was situated at the new Forum of Trajan. It commemorates victories by Trajan in Dacia, which is now Romania.",
         "24666",
         "The following table lists the most important built-in date functions in MySQL: The following table lists the most important built-in date functions in SQL Server: The most difficult part when working with dates is to be sure that the format of the date you are trying to insert, matches the format of the date column in the database."
        ],
        [
         "37",
         "1004080",
         "where was the trajan column built",
         "5943981",
         "Trajanâs Column. Trajanâs Column is located in Rome, Italy, and was built in 113 AD. It honors Emperor Trajan, and at that time it was situated at the new Forum of Trajan. It commemorates victories by Trajan in Dacia, which is now Romania.",
         "2520217",
         "Research shows that that Tower of Hercules, was built between the end of the 1st century BC and the beginning of the 2nd century AD. It was finished (or rebuilt) during the reign of the Emperor Trajan. The design was possibly Phoenician in origin, but it was modeled after the Lighthouse of Alexandria."
        ],
        [
         "38",
         "1004080",
         "where was the trajan column built",
         "5943982",
         "Trajanâs Column is located in Rome, Italy, and was built in 113 AD. It honors Emperor Trajan, and at that time it was situated at the new Forum of Trajan. It commemorates victories by Trajan in Dacia, which is now Romania.",
         "8247016",
         "=SUM($A1:$A3). In this first example, only the column (A) is an absolute reference, while the row is a relative reference. So when this formula is copied to another column and row, the formula will still reference column A, but it will change the row based on where it has been copied.=SUM(A$1:A$3). In this second example, only the rows (1 through 3) are an absolute reference, while the column is a relative reference.So when this formula is copied to another column and row, the formula will still reference rows 1 through 3, but it will change the column based on where it is copied.o when this formula is copied to another column and row, the formula will still reference column A, but it will change the row based on where it has been copied. =SUM(A$1:A$3). In this second example, only the rows (1 through 3) are an absolute reference, while the column is a relative reference."
        ],
        [
         "39",
         "1004080",
         "where was the trajan column built",
         "5943982",
         "Trajanâs Column is located in Rome, Italy, and was built in 113 AD. It honors Emperor Trajan, and at that time it was situated at the new Forum of Trajan. It commemorates victories by Trajan in Dacia, which is now Romania.",
         "24666",
         "The following table lists the most important built-in date functions in MySQL: The following table lists the most important built-in date functions in SQL Server: The most difficult part when working with dates is to be sure that the format of the date you are trying to insert, matches the format of the date column in the database."
        ],
        [
         "40",
         "1004080",
         "where was the trajan column built",
         "5943982",
         "Trajanâs Column is located in Rome, Italy, and was built in 113 AD. It honors Emperor Trajan, and at that time it was situated at the new Forum of Trajan. It commemorates victories by Trajan in Dacia, which is now Romania.",
         "2520217",
         "Research shows that that Tower of Hercules, was built between the end of the 1st century BC and the beginning of the 2nd century AD. It was finished (or rebuilt) during the reign of the Emperor Trajan. The design was possibly Phoenician in origin, but it was modeled after the Lighthouse of Alexandria."
        ],
        [
         "41",
         "1004274",
         "where was what about bob filmed",
         "4383463",
         "What about Bob. This a howlingly funny movie filmed entirely at Smith Mountain Lake in Virginia. Smith Mountain Lake has a tourism motto: Closer than you think!!. There are some wonderful bed and breakfasts in this area of Virginia. One even in an historic downtown areas of a nearby town to Smith Mountain Lake.",
         "7283587",
         "Baez later toured with Dylan as a performer on his Rolling Thunder Revue in 1975â76, and sang four songs with Dylan on the live album of the tour, Bob Dylan Live 1975, The Rolling Thunder Revue. Baez appeared with Dylan in the one-hour TV special Hard Rain, filmed at Fort Collins, Colorado, in May 1976."
        ],
        [
         "42",
         "1004274",
         "where was what about bob filmed",
         "4383463",
         "What about Bob. This a howlingly funny movie filmed entirely at Smith Mountain Lake in Virginia. Smith Mountain Lake has a tourism motto: Closer than you think!!. There are some wonderful bed and breakfasts in this area of Virginia. One even in an historic downtown areas of a nearby town to Smith Mountain Lake.",
         "2938741",
         "''Don't Think Twice, It's All Right is a song written by Bob Dylan in 1962, and released on the 1963 album The Freewheelin' Bob Dylan."
        ],
        [
         "43",
         "1004274",
         "where was what about bob filmed",
         "4383463",
         "What about Bob. This a howlingly funny movie filmed entirely at Smith Mountain Lake in Virginia. Smith Mountain Lake has a tourism motto: Closer than you think!!. There are some wonderful bed and breakfasts in this area of Virginia. One even in an historic downtown areas of a nearby town to Smith Mountain Lake.",
         "6075214",
         "Bob Lutts Fulshear/Simonton Branch Library provides free WiFi access to the public throughout the building. Contact the Adult Reference Department at Bob Lutts Fulshear/Simonton for more information and connection instructions to use your personal laptop at the library."
        ],
        [
         "44",
         "1004329",
         "where we can use static members",
         "3907674",
         "They do not have names, and they can be instantiated only once. The following is an example of an anonymous class: Because an anonymous class doesn't have a normal class declaration where it's possible to use static, it cannot be declared static. 2. Local.",
         "4171719",
         "1) The static constructor for a class executes before any instance of the class is created. 2) The static constructor for a class executes before any of the static members for the class are referenced. 3) The static constructor for a class executes after the static field initializers (if any) for the class."
        ],
        [
         "45",
         "1004329",
         "where we can use static members",
         "3907674",
         "They do not have names, and they can be instantiated only once. The following is an example of an anonymous class: Because an anonymous class doesn't have a normal class declaration where it's possible to use static, it cannot be declared static. 2. Local.",
         "1617016",
         "But you don't have to get your IP Address via DHCP, and some devices will have a static IP Address, which they set. My guess is that either your doorbell or range extender is set to a static IP address of 192.168.0.2."
        ],
        [
         "46",
         "1004329",
         "where we can use static members",
         "3907674",
         "They do not have names, and they can be instantiated only once. The following is an example of an anonymous class: Because an anonymous class doesn't have a normal class declaration where it's possible to use static, it cannot be declared static. 2. Local.",
         "6661986",
         "Static routing provides some advantages over dynamic routing, including: 1  Static routes are not advertised over the network, resulting in better security. 2  Static routes use less bandwidth than dynamic routing protocols, as routers do not exchange routes.3  No CPU cycles are used to calculate and communicate routes.tatic routes are useful for smaller networks with only one path to an outside network. They also provide security in a larger network for certain types of traffic or links to other networks that need more control. It is important to understand that static and dynamic routing are not mutually exclusive."
        ],
        [
         "47",
         "1004979",
         "which airport is closest to london bridge?",
         "2741708",
         "London City Airport is the closest, approximately 6 miles from the city centre.",
         "825582",
         "What is the closest airport to Boulder in Colorado, United States of America? The closest international and non-international airports to Boulder in Colorado, United States of America are listed below in order of increasing distance."
        ],
        [
         "48",
         "1004979",
         "which airport is closest to london bridge?",
         "2741708",
         "London City Airport is the closest, approximately 6 miles from the city centre.",
         "3187053",
         "I'm flying to France from the US, with an intentional overnight layover in London. When I arrive in London, what will happen to my checked luggage until the second leg of my flight the next day? Will it be kept at the airport or will I need to retrieve it and recheck it the next day?"
        ],
        [
         "49",
         "1004979",
         "which airport is closest to london bridge?",
         "2741708",
         "London City Airport is the closest, approximately 6 miles from the city centre.",
         "2839352",
         "Best Airport Closest to Sun Life StadiumPosted by DatNotJuiceDatsGravy on 1/31/10 at 8:24 am. 00. Looking for the closest airport to Sun Life Stadium. Mapquest has an abortion when I put in the addresses of Sun Life Stadium (2269 Dan Marino Blvd) and MIA - doesn't recognize any of those parameters."
        ]
       ],
       "shape": {
        "columns": 6,
        "rows": 60057
       }
      },
      "text/html": [
       "<div>\n",
       "<style scoped>\n",
       "    .dataframe tbody tr th:only-of-type {\n",
       "        vertical-align: middle;\n",
       "    }\n",
       "\n",
       "    .dataframe tbody tr th {\n",
       "        vertical-align: top;\n",
       "    }\n",
       "\n",
       "    .dataframe thead th {\n",
       "        text-align: right;\n",
       "    }\n",
       "</style>\n",
       "<table border=\"1\" class=\"dataframe\">\n",
       "  <thead>\n",
       "    <tr style=\"text-align: right;\">\n",
       "      <th></th>\n",
       "      <th>qid</th>\n",
       "      <th>query</th>\n",
       "      <th>pos_pid</th>\n",
       "      <th>positive</th>\n",
       "      <th>neg_pid</th>\n",
       "      <th>negative</th>\n",
       "    </tr>\n",
       "  </thead>\n",
       "  <tbody>\n",
       "    <tr>\n",
       "      <th>0</th>\n",
       "      <td>1000094</td>\n",
       "      <td>where is whitemarsh island</td>\n",
       "      <td>5399011</td>\n",
       "      <td>Whitemarsh Island, Georgia. Whitemarsh Island ...</td>\n",
       "      <td>271630</td>\n",
       "      <td>Underwater Volcano Forms New South Pacific Isl...</td>\n",
       "    </tr>\n",
       "    <tr>\n",
       "      <th>1</th>\n",
       "      <td>1000094</td>\n",
       "      <td>where is whitemarsh island</td>\n",
       "      <td>5399011</td>\n",
       "      <td>Whitemarsh Island, Georgia. Whitemarsh Island ...</td>\n",
       "      <td>5534953</td>\n",
       "      <td>Komodo is one of the 17,508 islands that make ...</td>\n",
       "    </tr>\n",
       "    <tr>\n",
       "      <th>2</th>\n",
       "      <td>1000684</td>\n",
       "      <td>where is your perineum</td>\n",
       "      <td>6133670</td>\n",
       "      <td>That part of the floor of the PELVIS that lies...</td>\n",
       "      <td>54955</td>\n",
       "      <td>rule of nines (rÅ«l nÄ«nz) Method used in calc...</td>\n",
       "    </tr>\n",
       "    <tr>\n",
       "      <th>3</th>\n",
       "      <td>1000684</td>\n",
       "      <td>where is your perineum</td>\n",
       "      <td>6133670</td>\n",
       "      <td>That part of the floor of the PELVIS that lies...</td>\n",
       "      <td>5952792</td>\n",
       "      <td>This delicate triangle is important during chi...</td>\n",
       "    </tr>\n",
       "    <tr>\n",
       "      <th>4</th>\n",
       "      <td>1000684</td>\n",
       "      <td>where is your perineum</td>\n",
       "      <td>6133670</td>\n",
       "      <td>That part of the floor of the PELVIS that lies...</td>\n",
       "      <td>4455896</td>\n",
       "      <td>1 abdomen: Latin abdomen = the belly, the part...</td>\n",
       "    </tr>\n",
       "    <tr>\n",
       "      <th>...</th>\n",
       "      <td>...</td>\n",
       "      <td>...</td>\n",
       "      <td>...</td>\n",
       "      <td>...</td>\n",
       "      <td>...</td>\n",
       "      <td>...</td>\n",
       "    </tr>\n",
       "    <tr>\n",
       "      <th>60052</th>\n",
       "      <td>112246</td>\n",
       "      <td>cracking definition</td>\n",
       "      <td>5457832</td>\n",
       "      <td>( Extractive engineering : Refinery processes ...</td>\n",
       "      <td>99501</td>\n",
       "      <td>NaN</td>\n",
       "    </tr>\n",
       "    <tr>\n",
       "      <th>60053</th>\n",
       "      <td>112246</td>\n",
       "      <td>cracking definition</td>\n",
       "      <td>5457832</td>\n",
       "      <td>( Extractive engineering : Refinery processes ...</td>\n",
       "      <td>3830360</td>\n",
       "      <td>NaN</td>\n",
       "    </tr>\n",
       "    <tr>\n",
       "      <th>60054</th>\n",
       "      <td>112324</td>\n",
       "      <td>crawford county indiana population</td>\n",
       "      <td>4935331</td>\n",
       "      <td>Crawford County, Indiana. Crawford County is a...</td>\n",
       "      <td>7418714</td>\n",
       "      <td>NaN</td>\n",
       "    </tr>\n",
       "    <tr>\n",
       "      <th>60055</th>\n",
       "      <td>112324</td>\n",
       "      <td>crawford county indiana population</td>\n",
       "      <td>4935331</td>\n",
       "      <td>Crawford County, Indiana. Crawford County is a...</td>\n",
       "      <td>5445465</td>\n",
       "      <td>NaN</td>\n",
       "    </tr>\n",
       "    <tr>\n",
       "      <th>60056</th>\n",
       "      <td>112324</td>\n",
       "      <td>crawford county indiana population</td>\n",
       "      <td>4935331</td>\n",
       "      <td>Crawford County, Indiana. Crawford County is a...</td>\n",
       "      <td>1516160</td>\n",
       "      <td>NaN</td>\n",
       "    </tr>\n",
       "  </tbody>\n",
       "</table>\n",
       "<p>60057 rows × 6 columns</p>\n",
       "</div>"
      ],
      "text/plain": [
       "           qid                               query  pos_pid  \\\n",
       "0      1000094          where is whitemarsh island  5399011   \n",
       "1      1000094          where is whitemarsh island  5399011   \n",
       "2      1000684              where is your perineum  6133670   \n",
       "3      1000684              where is your perineum  6133670   \n",
       "4      1000684              where is your perineum  6133670   \n",
       "...        ...                                 ...      ...   \n",
       "60052   112246                 cracking definition  5457832   \n",
       "60053   112246                 cracking definition  5457832   \n",
       "60054   112324  crawford county indiana population  4935331   \n",
       "60055   112324  crawford county indiana population  4935331   \n",
       "60056   112324  crawford county indiana population  4935331   \n",
       "\n",
       "                                                positive  neg_pid  \\\n",
       "0      Whitemarsh Island, Georgia. Whitemarsh Island ...   271630   \n",
       "1      Whitemarsh Island, Georgia. Whitemarsh Island ...  5534953   \n",
       "2      That part of the floor of the PELVIS that lies...    54955   \n",
       "3      That part of the floor of the PELVIS that lies...  5952792   \n",
       "4      That part of the floor of the PELVIS that lies...  4455896   \n",
       "...                                                  ...      ...   \n",
       "60052  ( Extractive engineering : Refinery processes ...    99501   \n",
       "60053  ( Extractive engineering : Refinery processes ...  3830360   \n",
       "60054  Crawford County, Indiana. Crawford County is a...  7418714   \n",
       "60055  Crawford County, Indiana. Crawford County is a...  5445465   \n",
       "60056  Crawford County, Indiana. Crawford County is a...  1516160   \n",
       "\n",
       "                                                negative  \n",
       "0      Underwater Volcano Forms New South Pacific Isl...  \n",
       "1      Komodo is one of the 17,508 islands that make ...  \n",
       "2      rule of nines (rÅ«l nÄ«nz) Method used in calc...  \n",
       "3      This delicate triangle is important during chi...  \n",
       "4      1 abdomen: Latin abdomen = the belly, the part...  \n",
       "...                                                  ...  \n",
       "60052                                                NaN  \n",
       "60053                                                NaN  \n",
       "60054                                                NaN  \n",
       "60055                                                NaN  \n",
       "60056                                                NaN  \n",
       "\n",
       "[60057 rows x 6 columns]"
      ]
     },
     "execution_count": 2,
     "metadata": {},
     "output_type": "execute_result"
    }
   ],
   "source": [
    "import pandas as pd\n",
    "\n",
    "# -----------------------------\n",
    "# 1. Loading our triples file\n",
    "# -----------------------------\n",
    "df = pd.read_csv(\n",
    "    \"qidpidtriples.top3.clean.tsv\",\n",
    "    sep=\"\\t\",\n",
    "    encoding=\"utf-16\",\n",
    "    names=[\"qid\", \"query\", \"pos_pid\", \"positive\", \"neg_pid\", \"negative\"],\n",
    "    header=0  \n",
    ")\n",
    "\n",
    "df"
   ]
  },
  {
   "cell_type": "code",
   "execution_count": 11,
   "id": "71c1144e",
   "metadata": {},
   "outputs": [
    {
     "data": {
      "application/vnd.microsoft.datawrangler.viewer.v0+json": {
       "columns": [
        {
         "name": "index",
         "rawType": "int64",
         "type": "integer"
        },
        {
         "name": "query",
         "rawType": "object",
         "type": "string"
        },
        {
         "name": "passage",
         "rawType": "object",
         "type": "string"
        },
        {
         "name": "label",
         "rawType": "int64",
         "type": "integer"
        }
       ],
       "ref": "750e15c0-d7bf-47b4-af4f-10530e131631",
       "rows": [
        [
         "0",
         "who was the marshall plan named after",
         "Really big trucks are coming to Marshall Motors on Sept. 26 to show off, crush cars and give rides for charity.The ninth annual event will be from 9 a.m. to 5 p.m. at Marshall Automotive Group, Salinaâs Chrysler, Dodge, Jeep, Ram and Nissan dealer at 3500 S.",
         "0"
        ],
        [
         "1",
         "what does disclaimer mean",
         "Understanding the Causes of Acne Part 1: Hormones. Disclaimer: The information contained on this site is general in nature and for informational purposes. It is not meant to substitute for the advice... Disclaimer: The information contained on this site is general in nature and for informational purposes.",
         "0"
        ],
        [
         "2",
         "what is an epidural made of",
         "By April, they were complete. I actually had 3 sets of 4 different shots (lumbar epidural, left facet, right facet, cervical epidural). About 72 hrs ago its like someone flipped a switch, and the pain is back as bad as I remember it from before the shots. How long did they work for you?",
         "0"
        ],
        [
         "3",
         "why did the cuban missile crisis originate",
         "Introduction. During the Cuban Missile Crisis, leaders of the U.S. and the Soviet Union engaged in a tense, 13-day political and military standoff in October 1962 over the installation of nuclear-armed Soviet missiles on Cuba, just 90 miles from U.S. shores.he Cold War was far from over, though. In fact, another legacy of the crisis was that it convinced the Soviets to increase their investment in an arsenal of intercontinental ballistic missiles capable of reaching the U.S. from Soviet territory.",
         "0"
        ],
        [
         "4",
         "flat anvil definition",
         "An anvil is a heavy block of iron or steel that blacksmiths use to shape metal. It's durable enough to withstand red hot metals and repeated hammer blows, but you don't want your foot to be under if it falls off the table.",
         "1"
        ],
        [
         "5",
         "how many oscars has clint eastwood won?h",
         "Clint Eastwood has won 4 Oscars: Best Director and Best Picture (as producer) for Unforgiven and Million Dollar Baby. Clint Eastwood has won four Oscars as of 2009: In addition, he has been nominated for six other Oscars. 1  Nominated Oscar Best Actor for: Unforgiven (1992) 2  Nominated Oscar Best Director for: Mystic River (2003) 3  Nominated Best Picture for: Mystic River (2003) Shared with: Robert Lorenz and Judie Hoyt. 4  Nominated Oscar Best Actor for: Million Dollar Baby (2004)",
         "1"
        ],
        [
         "6",
         "is ben affleck filming at the minute",
         "The movie is being shot in Detroit, where the Argo star has been spotted gambling obscene amounts of money at the MotorCity Casino and the Caesars Windsor Casino. It took me a minute to realize it was Ben Affleck, said an eyewitness at the MotorCity. He looked disheveled and upset while sitting there gambling.He seemed really frazzled like he had just lost a ton of money. He was smoking a cigarette and his head was down in his arms.t took me a minute to realize it was Ben Affleck, said an eyewitness at the MotorCity. He looked disheveled and upset while sitting there gambling. He seemed really frazzled like he had just lost a ton of money.",
         "1"
        ],
        [
         "7",
         "how tall is barrett martin",
         "Barrett Martin was 6' 3 tall according to the South Carolina Law Enforcement report. Barrett Wesley Martin ( Male ) was 36 years old at the time of the arrest. MARTIN was arrested on 2017-12-04 12:00:00. The arrest number on file is 14422. The arrest was made by SC Highway Patrol . Below you can find more information about the charges of Barrett Wesley Martin (if available).",
         "1"
        ],
        [
         "8",
         "persons who are permitted to arrest without a warrant",
         "Arrest without warrant on premises. 9. (1) A police officer, or the occupier of premises, or a person authorized by the occupier may arrest without warrant any person he or she believes on reasonable and probable grounds to be on the premises in contravention of section 2.",
         "1"
        ],
        [
         "9",
         "when do withdrawal symptoms start xanax",
         "On average, withdrawal from Xanax lasts 2 months or more. A good rule of thumb I like to go by is the 90 day rule for any psychiatric medication. In most cases, withdrawal symptoms subside by the third month of not taking the medication.",
         "1"
        ],
        [
         "10",
         "what is the medical condition of yaws",
         "These medical condition or symptom topics may be relevant to medical information for Chronic ethmoidal sinusitis: 1  Ethmoidal sinusitis (6 causes) 2  Ethmoidal. 3  Sinusitis (319 causes)",
         "0"
        ],
        [
         "11",
         "is csp a microsoft agreement",
         "As with any dealing with Microsoft, or IT business, or business in general, there are contracts to sign and get signed. In the CSP, there are three. The first is between Microsoft and the CSP. Called the Microsoft Cloud Reseller Agreement (MCRA), partners sign it when accessing the Partner Center.",
         "1"
        ],
        [
         "12",
         "what is a barangay",
         "What is a barangay? 1. What is a Barangay? 2. A barangay (Brgy. or Bgy.; Fi lipino: baranggay, is the smallest administrative division in the Philippines and is the native Filipino term for a village, district or ward. (from Wikipedia) 3.",
         "1"
        ],
        [
         "13",
         "does dolomite mineral fizzes in acid",
         "3. Lemon water in the morning is a great way to get a good portion of your ess ential daily vitamin C. They are also a good source of folate and minerals like potassium, calcium and magnesium. 4. The high mineral content of lemons makes them alkalizing to the body, despite their citric acid.",
         "0"
        ],
        [
         "14",
         "what county is darwin, mn, in?",
         "Darwin is a city in Meeker County, Minnesota, United States. The population was 350 at the 2010 census. It is one of several places claiming to be home of the largest ball of twine in the world.",
         "1"
        ],
        [
         "15",
         "what does a cortisol test show",
         "A cortisol test is done to measure the level of the hormone cortisol in the blood. The cortisol level may show problems with the adrenal glands or pituitary gland. Cortisol is made by the adrenal glands. Cortisol levels go up when the pituitary gland releases another hormone called adrenocorticotropic hormone (ACTH).",
         "1"
        ],
        [
         "16",
         "define ethical factors",
         "Definition of ethical for Students. 1  1 : involving questions of right and wrong : relating to ethics ethical issues. 2  2 : following accepted rules of behavior We expect ethical treatment of animals.",
         "1"
        ],
        [
         "17",
         "what is an rpo",
         "WHAT IS RECRUITMENT PROCESS OUTSOURCING (RPO)? Recruitment Process Outsourcing is a form of business process outsourcing (BPO) where an employer transfers all or part of its recruitment processes to an external service provider. An RPO provider can provide its own or may assume the companyâs staff, technology, methodologies and reporting.",
         "1"
        ],
        [
         "18",
         "average utility cost for a studio in pgh",
         "Budget Survey. Water utility salary increases up to 2013 are represented by an average of management, supervisory, and staff-level positions from the AWWA Water Utility Compensation Survey report. Actual 2013 movements are based on average salary increases collected in this survey. As the chart illustrates, water utility industry salary increase budgets closely track all industries for 2013. Salary increases hovered around the 2.9 percent mark for water utilities in 2013 and 3.0 percent for the National Composite.",
         "0"
        ],
        [
         "19",
         "what are the pros and cons of buying an established business",
         "If you are already convinced that the Stevia brand sweetener is safe then further research probably isn't for you. If you are interested here is a jumping off point: http://safety.lovetoknow.com/Dangers_of_Stevia. This site has both pros and cons.",
         "0"
        ],
        [
         "20",
         "average commission for nj medical esthetician",
         "However, the average MCAT score of those admitted to any allopathic (M.D.) medical school in 2010 was approximately 30. And keep in mind that the average for many medical schools is significantly higher.",
         "0"
        ],
        [
         "21",
         "what is a razor in philosophy",
         "Main article: Intentionality. Brentano is best known for his reintroduction of the concept of intentionality â a concept derived from scholastic philosophy â to contemporary philosophy in his lectures and in his work Psychologie vom Empirischen Standpunkte (Psychology from an Empirical Standpoint).rentano was born at Marienberg am Rhein, near Boppard. He studied philosophy at the universities of Munich, Wuerzburg, WÃ¼rzburg (berlin With Adolf) trendelenburg And. Muenster mÃ¼nster he had a special Interest in aristotle and. scholastic philosophy",
         "0"
        ],
        [
         "22",
         "rawlins population",
         "Population of Rawlins, WY. Last official estimated population of Rawlins city (Carbon County**, Wyoming state) was 9,227 (year 2014) [1]. This was 0.003% of total US population and 1.57% of total Wyoming state population. Area of Rawlins city is 8.3 miÂ² (=21.5 kmÂ²) [6], in this year population density was 1,113.57 p/miÂ². If population growth rate would be same as in period 2010-2014 (-0.09%/yr), Rawlins city population in 2018 would be 9,195*.",
         "1"
        ],
        [
         "23",
         "what are crawfish",
         "1 Stir in the sausage; cook 5 minutes more. 2  Add the crawfish, return mixture to boil, then simmer until the crawfish shells turn bright red and the tails pull out easily, about 5 minutes. 3  Test for doneness by peeling a crawfish. 4  Be sure not to overcook, or crawfish will become tough. 5  Drain well.",
         "0"
        ],
        [
         "24",
         "where is rumba from",
         "The rumba influence came in the 16th century with the black slaves imported from Africa. The native Rumba folk dance is essentially a sex pantomime danced extremely fast with exaggerated hip movements and with a sensually aggressive attitude on the part of the man and a defensive attitude on the part of the woman.",
         "1"
        ],
        [
         "25",
         "state department who is chief",
         "The Secretary of State is the chief executive officer of the Department of State and a member of the Cabinet that answers directly to the President of the United States. The secretary organizes and supervises the entire department and its staff.",
         "1"
        ],
        [
         "26",
         "is the property tax deduction being eliminated",
         "The Itemized Deduction Phase Out. The tax changes also brought back the phase out of itemized deductions in 2013. Like the phase out of personal exemptions, this also affects taxpayers whose incomes exceed certain amounts. For these taxpayers, their deductions for things like mortgage interest, state income and sales tax, and certain other itemized deductions are reduced, but not fully eliminated.",
         "1"
        ],
        [
         "27",
         "health information technology of economic and clinical health (hitech)",
         "The information on incremental costs and benefits helps FDA management choose which controls to include and which to exclude when presented with the usual smorgasbord of ways to deal with a public health problem. The economic analysis may also point out ways to increase the cost-effectiveness of regulation. For example, the economic analysis may demonstrate that the incremental costs associated with a particular provision are very high, with little or no incremental public health effects.",
         "0"
        ],
        [
         "28",
         "causes of dysphagia in adults",
         "Dysphagia may be caused by traumatic injuries to the head, neck, or chest and result from accidents or iatrogenic causes. In the latter category, both planned and inadvertent injuries to cranial nerves are common. Many accident victims have involvement of multiple sites.",
         "1"
        ],
        [
         "29",
         "what is a tall boy drink",
         "Answer   No. You can play game boy color games on a gameboy advance however.   ---------------------------------------------------------------------------------------- â¦ ------   If you look closely at the GameBoy Color console you can see the game cartridge has to be very tall. GBA game are all short and can't play.",
         "0"
        ],
        [
         "30",
         "what are the boondocks",
         "In 2005, Little Big Town was signed to Equity Music Group, a label started and partially owned by country music singer Clint Black. Their third single,  Boondocks , was released in May, peaking at No. 9 on the country charts in January 2006.he band's first album, Little Big Town, was released that year. It produced the singles Don't Waste My Time and Everything Changes, which peaked at 33 and 42 on the Billboard Hot Country Songs chart. Westbrook's father died in 2002, just after the group's first album was released.",
         "0"
        ],
        [
         "31",
         "what is obfuscate",
         "Synonyms: obscure, confuse, cloud, blur More Synonyms of obfuscate. obfuscation (ÉbfÊskeÉªÊÉn )Word forms: plural obfuscations uncountable noun. He gave a more lucid exposition of the party's strategy than Bush has managed in months of obfuscation. Synonyms: evasiveness, shuffling, deception, fudging More Synonyms of obfuscate.",
         "0"
        ],
        [
         "32",
         "when there is no sidewalk provided on a particular road a pedestrian must walk",
         "Sec 3544(a) â¢ If no sidewalk, but shoulder is present, must walk on shoulder and may walk in either direction. Sec 3544(b) â¢ In the absence of sidewalk and shoulder, pedestrian may walk in road, as close to edge as practicable and must walk on left side of road facing traffic.",
         "1"
        ],
        [
         "33",
         "where do pearls come from",
         "Sorry, no etymologies found. But it was only a sunshower, and when Mr. Minturn, with a quizzical look, told her to take care, for she was losing some of her pearls, she laughingly wiped the glittering drops away and retorted: Katherine's Sheaves.",
         "0"
        ],
        [
         "34",
         "what weight should a cat be to be neutered",
         "The gestation period for a cat is 63-65 days. This varies between cat though, and anywhere between 60 to 70 days is normal.y the third week of pregnancy the cat's nipples will become enlarged and pink. This is known as 'pinking up'. 1  By the fourth week of pregnancy she should have gained enough weight to make her pregnancy visible. 2  By 3-4 weeks your veterinarian should be able to palpitate the abdomen and feel the babies.",
         "0"
        ],
        [
         "35",
         "how many years is veterinary school",
         "Veterinary Schools and Costs. According to the American Veterinary Medical Association, there are 30 veterinary schools in the U.S., including: Auburn University College of Veterinary Medicine. Tuskegee University School of Veterinary Medicine. University of California, Davis, School of Veterinary Medicine.",
         "0"
        ],
        [
         "36",
         "who is the original writer of tainted love",
         "Tainted Love is a song composed by Ed Cobb, formerly of American group the Four Preps, which was originally recorded by Gloria Jones in 1964. It attained worldwide fame after being covered by Soft Cell in 1981 and has since been covered by numerous groups and artists.",
         "1"
        ],
        [
         "37",
         "does beats use real leather on their headphones",
         "The Beats Pro headphones are the top-of-the-line set from the Beats brand with their over-the-ear design, 50mm oversized drivers, swivel earcups, and a very soft and plush synthetic leather covering the memory foam earpads.",
         "1"
        ],
        [
         "38",
         "what is urim and thummim",
         "Of course, one clear example of necromancy occurs in the biblical narrative: the story of Saul and the medium of Endor ( 1 Sam 28 ). Saul sought the Lord when the Philistines threatened at Shunem. He received no communication from Urim and Thummim, dreams, or prophets (v. 6).",
         "0"
        ],
        [
         "39",
         "what type of government does korea have",
         "South Korea is a PRESIDENTIAL REPUBLIC, which is a form of indirect democracy. This means that there is an elected President who serves as the head of state and the head of the government. The President has a large number of powers, but those powers are checked by the Constitutional Court and the National Assembly.",
         "1"
        ],
        [
         "40",
         "what is gastroparesis disease",
         "Noun. 1. genetic defect-a disease or disorder that is inherited genetically. congenital disease, genetic abnormality, genetic disease, genetic disorder, hereditary condition, hereditary disease, inherited disease, inherited disorder.disease-an impairment of health or a condition of abnormal functioning.oun. 1. genetic defect-a disease or disorder that is inherited genetically. congenital disease, genetic abnormality, genetic disease, genetic disorder, hereditary condition, hereditary disease, inherited disease, inherited disorder.",
         "0"
        ],
        [
         "41",
         "is an inherited roth taxable",
         "Current as of November 16, 2013. Rules for distributions from an inherited Roth IRA. We sometimes see statements like this: âOn your death, your beneficiaries receive your Roth IRA tax-free.â That statement could be a little misleading.",
         "1"
        ],
        [
         "42",
         "what is a caravan",
         "It received the second-highest ratings that year for an ABC movie. The film was also given a theatrical release in Europe under title Caravan of Courage: An Ewok Adventure, and later aired on the Disney Channel.he release was billed as Star Wars: Ewok Adventures, a double feature of Caravan of Courage and its sequel, Ewoks: The Battle for Endor. The disc itself is double-sided, featuring one film on each side.",
         "0"
        ],
        [
         "43",
         "what could cause memory loss in young adults",
         "Some causes of memory loss in young people are classified as psychogenic; also referred to as psychogenic amnesia. This type of memory loss is most often due to depression, schizophrenia or criminal behavior. Psychogenic memory loss occurs most often after a stressful and life-threatening event.",
         "1"
        ],
        [
         "44",
         "the difference between concrete and cement",
         "Any man worth his salt should know the difference between cement, concrete, and mortar. I am not that man. Theyâre all just gray sludge to me. But This Old House explains the difference between the three in a very easy to understand way. Cement is a fine powder that hardens when mixed with water and is used in many building mixes. Concrete is a mix of cement, sand, and coarse stone. When wet, itâs pretty thin. Mortar is a mix of cement, sand, and limestone and itâs much thicker than concrete. Mortar is used to hold things like bricks and stones together. Iâm probably going to forget all that and just ask the guy who works at Home Depot the next (first) time I need cement, concrete, or mortar but hey, the more you know.",
         "1"
        ],
        [
         "45",
         "positive outcomes of nationalism",
         "Daily application of a 0.05% retinaldehyde cream for 6 months was found to yield positive and statistically significant outcomes in 75% of those patients undergoing treatment. Specifically, improvements were found in erythema and telangiectasias, the vascular components of rosacea.",
         "0"
        ],
        [
         "46",
         "benefits of low glycemic diet",
         "Quick Meat Diet. 1  How the all protein diet works. 2  Meat eating health benefits. 3  Cons of the all protein diet.",
         "0"
        ],
        [
         "47",
         "salary for civil engineer in canada",
         "(Canada). The average salary for a Civil Engineer is C$61,918 per year. A skill in Project Management is associated with high pay for this job. Experience has a moderate effect on income for this job.Most people with this job move on to other positions after 20 years in this field.C$46,141 - C$98,159.he average salary for a Civil Engineer is C$61,918 per year. A skill in Project Management is associated with high pay for this job.",
         "1"
        ],
        [
         "48",
         "what is a singleton pregnancy?",
         "Those charts are available at the BCVSA[12] and BCRCP[17] web sites. The birth weight charts described above and those presented here can be supplemented by other British Columbiaâspecific charts of body length and head circumference for all births, males, females, singleton males, and singleton females.",
         "0"
        ],
        [
         "49",
         "if i starve myself for 2 days will i lose weight",
         "So if you begin to starve yourself for 2 days you will not lose much weight.. it won't be as dramatic as you think it would be. Try cleaning your colon it is more effective at dropping unwanted pounds from the fecal matter, gas and toxins that have accumulated within your intestines.",
         "1"
        ]
       ],
       "shape": {
        "columns": 3,
        "rows": 102330
       }
      },
      "text/html": [
       "<div>\n",
       "<style scoped>\n",
       "    .dataframe tbody tr th:only-of-type {\n",
       "        vertical-align: middle;\n",
       "    }\n",
       "\n",
       "    .dataframe tbody tr th {\n",
       "        vertical-align: top;\n",
       "    }\n",
       "\n",
       "    .dataframe thead th {\n",
       "        text-align: right;\n",
       "    }\n",
       "</style>\n",
       "<table border=\"1\" class=\"dataframe\">\n",
       "  <thead>\n",
       "    <tr style=\"text-align: right;\">\n",
       "      <th></th>\n",
       "      <th>query</th>\n",
       "      <th>passage</th>\n",
       "      <th>label</th>\n",
       "    </tr>\n",
       "  </thead>\n",
       "  <tbody>\n",
       "    <tr>\n",
       "      <th>0</th>\n",
       "      <td>who was the marshall plan named after</td>\n",
       "      <td>Really big trucks are coming to Marshall Motor...</td>\n",
       "      <td>0</td>\n",
       "    </tr>\n",
       "    <tr>\n",
       "      <th>1</th>\n",
       "      <td>what does disclaimer mean</td>\n",
       "      <td>Understanding the Causes of Acne Part 1: Hormo...</td>\n",
       "      <td>0</td>\n",
       "    </tr>\n",
       "    <tr>\n",
       "      <th>2</th>\n",
       "      <td>what is an epidural made of</td>\n",
       "      <td>By April, they were complete. I actually had 3...</td>\n",
       "      <td>0</td>\n",
       "    </tr>\n",
       "    <tr>\n",
       "      <th>3</th>\n",
       "      <td>why did the cuban missile crisis originate</td>\n",
       "      <td>Introduction. During the Cuban Missile Crisis,...</td>\n",
       "      <td>0</td>\n",
       "    </tr>\n",
       "    <tr>\n",
       "      <th>4</th>\n",
       "      <td>flat anvil definition</td>\n",
       "      <td>An anvil is a heavy block of iron or steel tha...</td>\n",
       "      <td>1</td>\n",
       "    </tr>\n",
       "    <tr>\n",
       "      <th>...</th>\n",
       "      <td>...</td>\n",
       "      <td>...</td>\n",
       "      <td>...</td>\n",
       "    </tr>\n",
       "    <tr>\n",
       "      <th>102325</th>\n",
       "      <td>where is antrim</td>\n",
       "      <td>3D map of Antrim in United Kingdom. You can al...</td>\n",
       "      <td>1</td>\n",
       "    </tr>\n",
       "    <tr>\n",
       "      <th>102326</th>\n",
       "      <td>how many milligrams of potassium is safe</td>\n",
       "      <td>Children should have 3,000 to 4,000 milligrams...</td>\n",
       "      <td>1</td>\n",
       "    </tr>\n",
       "    <tr>\n",
       "      <th>102327</th>\n",
       "      <td>calories in a cup of baby carrots</td>\n",
       "      <td>More from Red Grapes, 1/2 Cup. 1  Red ;Seedles...</td>\n",
       "      <td>0</td>\n",
       "    </tr>\n",
       "    <tr>\n",
       "      <th>102328</th>\n",
       "      <td>dr kate temme npi number</td>\n",
       "      <td>Kate Temme is a provider in Philadelphia, PA. ...</td>\n",
       "      <td>1</td>\n",
       "    </tr>\n",
       "    <tr>\n",
       "      <th>102329</th>\n",
       "      <td>longest baseball hitting streak</td>\n",
       "      <td>DiMaggio, in his second year with the Yankees,...</td>\n",
       "      <td>1</td>\n",
       "    </tr>\n",
       "  </tbody>\n",
       "</table>\n",
       "<p>102330 rows × 3 columns</p>\n",
       "</div>"
      ],
      "text/plain": [
       "                                             query  \\\n",
       "0            who was the marshall plan named after   \n",
       "1                        what does disclaimer mean   \n",
       "2                      what is an epidural made of   \n",
       "3       why did the cuban missile crisis originate   \n",
       "4                            flat anvil definition   \n",
       "...                                            ...   \n",
       "102325                             where is antrim   \n",
       "102326    how many milligrams of potassium is safe   \n",
       "102327           calories in a cup of baby carrots   \n",
       "102328                    dr kate temme npi number   \n",
       "102329             longest baseball hitting streak   \n",
       "\n",
       "                                                  passage  label  \n",
       "0       Really big trucks are coming to Marshall Motor...      0  \n",
       "1       Understanding the Causes of Acne Part 1: Hormo...      0  \n",
       "2       By April, they were complete. I actually had 3...      0  \n",
       "3       Introduction. During the Cuban Missile Crisis,...      0  \n",
       "4       An anvil is a heavy block of iron or steel tha...      1  \n",
       "...                                                   ...    ...  \n",
       "102325  3D map of Antrim in United Kingdom. You can al...      1  \n",
       "102326  Children should have 3,000 to 4,000 milligrams...      1  \n",
       "102327  More from Red Grapes, 1/2 Cup. 1  Red ;Seedles...      0  \n",
       "102328  Kate Temme is a provider in Philadelphia, PA. ...      1  \n",
       "102329  DiMaggio, in his second year with the Yankees,...      1  \n",
       "\n",
       "[102330 rows x 3 columns]"
      ]
     },
     "execution_count": 11,
     "metadata": {},
     "output_type": "execute_result"
    }
   ],
   "source": [
    "import pandas as pd\n",
    "\n",
    "# -----------------------------\n",
    "# 2. Add label 1 to positives\n",
    "# -----------------------------\n",
    "df_pos = df[[\"query\", \"positive\"]].copy()\n",
    "df_pos = df_pos.rename(columns={\"positive\":\"passage\"})\n",
    "df_pos[\"label\"] = 1\n",
    "\n",
    "# -----------------------------\n",
    "# 3. Add label 0 to negatives\n",
    "# -----------------------------\n",
    "df_neg = df[[\"query\", \"negative\"]].copy()\n",
    "df_neg = df_neg.rename(columns={\"negative\":\"passage\"})\n",
    "df_neg[\"label\"] = 0\n",
    "\n",
    "# -----------------------------\n",
    "# 4. Combine into single dataframe\n",
    "# -----------------------------\n",
    "cross_df = pd.concat([df_pos, df_neg], ignore_index=True)\n",
    "\n",
    "# -----------------------------\n",
    "# 5. Optional: shuffle rows\n",
    "# -----------------------------\n",
    "cross_df = cross_df.dropna().sample(frac=1, random_state=42).reset_index(drop=True)\n",
    "\n",
    "# -----------------------------\n",
    "# 6. Check\n",
    "# -----------------------------\n",
    "\n",
    "cross_df"
   ]
  },
  {
   "cell_type": "markdown",
   "id": "531d69f2",
   "metadata": {},
   "source": [
    "Training of the cross-encoder"
   ]
  },
  {
   "cell_type": "code",
   "execution_count": 12,
   "id": "5abc16a9",
   "metadata": {},
   "outputs": [
    {
     "name": "stderr",
     "output_type": "stream",
     "text": [
      "/home/zuber_purahoo2/datascience-venv/lib/python3.13/site-packages/tqdm/auto.py:21: TqdmWarning: IProgress not found. Please update jupyter and ipywidgets. See https://ipywidgets.readthedocs.io/en/stable/user_install.html\n",
      "  from .autonotebook import tqdm as notebook_tqdm\n"
     ]
    },
    {
     "name": "stdout",
     "output_type": "stream",
     "text": [
      "Torch CUDA available: True\n"
     ]
    },
    {
     "data": {
      "text/html": [
       "\n",
       "    <div>\n",
       "      \n",
       "      <progress value='19188' max='19188' style='width:300px; height:20px; vertical-align: middle;'></progress>\n",
       "      [19188/19188 12:32, Epoch 3/3]\n",
       "    </div>\n",
       "    <table border=\"1\" class=\"dataframe\">\n",
       "  <thead>\n",
       " <tr style=\"text-align: left;\">\n",
       "      <th>Step</th>\n",
       "      <th>Training Loss</th>\n",
       "    </tr>\n",
       "  </thead>\n",
       "  <tbody>\n",
       "    <tr>\n",
       "      <td>500</td>\n",
       "      <td>0.176500</td>\n",
       "    </tr>\n",
       "    <tr>\n",
       "      <td>1000</td>\n",
       "      <td>0.149400</td>\n",
       "    </tr>\n",
       "    <tr>\n",
       "      <td>1500</td>\n",
       "      <td>0.145300</td>\n",
       "    </tr>\n",
       "    <tr>\n",
       "      <td>2000</td>\n",
       "      <td>0.134500</td>\n",
       "    </tr>\n",
       "    <tr>\n",
       "      <td>2500</td>\n",
       "      <td>0.136900</td>\n",
       "    </tr>\n",
       "    <tr>\n",
       "      <td>3000</td>\n",
       "      <td>0.136900</td>\n",
       "    </tr>\n",
       "    <tr>\n",
       "      <td>3500</td>\n",
       "      <td>0.129300</td>\n",
       "    </tr>\n",
       "    <tr>\n",
       "      <td>4000</td>\n",
       "      <td>0.137100</td>\n",
       "    </tr>\n",
       "    <tr>\n",
       "      <td>4500</td>\n",
       "      <td>0.134800</td>\n",
       "    </tr>\n",
       "    <tr>\n",
       "      <td>5000</td>\n",
       "      <td>0.128300</td>\n",
       "    </tr>\n",
       "    <tr>\n",
       "      <td>5500</td>\n",
       "      <td>0.119600</td>\n",
       "    </tr>\n",
       "    <tr>\n",
       "      <td>6000</td>\n",
       "      <td>0.116800</td>\n",
       "    </tr>\n",
       "    <tr>\n",
       "      <td>6500</td>\n",
       "      <td>0.111500</td>\n",
       "    </tr>\n",
       "    <tr>\n",
       "      <td>7000</td>\n",
       "      <td>0.077800</td>\n",
       "    </tr>\n",
       "    <tr>\n",
       "      <td>7500</td>\n",
       "      <td>0.082000</td>\n",
       "    </tr>\n",
       "    <tr>\n",
       "      <td>8000</td>\n",
       "      <td>0.086200</td>\n",
       "    </tr>\n",
       "    <tr>\n",
       "      <td>8500</td>\n",
       "      <td>0.083800</td>\n",
       "    </tr>\n",
       "    <tr>\n",
       "      <td>9000</td>\n",
       "      <td>0.087100</td>\n",
       "    </tr>\n",
       "    <tr>\n",
       "      <td>9500</td>\n",
       "      <td>0.082100</td>\n",
       "    </tr>\n",
       "    <tr>\n",
       "      <td>10000</td>\n",
       "      <td>0.081100</td>\n",
       "    </tr>\n",
       "    <tr>\n",
       "      <td>10500</td>\n",
       "      <td>0.081300</td>\n",
       "    </tr>\n",
       "    <tr>\n",
       "      <td>11000</td>\n",
       "      <td>0.085100</td>\n",
       "    </tr>\n",
       "    <tr>\n",
       "      <td>11500</td>\n",
       "      <td>0.083000</td>\n",
       "    </tr>\n",
       "    <tr>\n",
       "      <td>12000</td>\n",
       "      <td>0.075300</td>\n",
       "    </tr>\n",
       "    <tr>\n",
       "      <td>12500</td>\n",
       "      <td>0.087800</td>\n",
       "    </tr>\n",
       "    <tr>\n",
       "      <td>13000</td>\n",
       "      <td>0.068800</td>\n",
       "    </tr>\n",
       "    <tr>\n",
       "      <td>13500</td>\n",
       "      <td>0.068000</td>\n",
       "    </tr>\n",
       "    <tr>\n",
       "      <td>14000</td>\n",
       "      <td>0.050800</td>\n",
       "    </tr>\n",
       "    <tr>\n",
       "      <td>14500</td>\n",
       "      <td>0.058300</td>\n",
       "    </tr>\n",
       "    <tr>\n",
       "      <td>15000</td>\n",
       "      <td>0.062900</td>\n",
       "    </tr>\n",
       "    <tr>\n",
       "      <td>15500</td>\n",
       "      <td>0.055000</td>\n",
       "    </tr>\n",
       "    <tr>\n",
       "      <td>16000</td>\n",
       "      <td>0.060800</td>\n",
       "    </tr>\n",
       "    <tr>\n",
       "      <td>16500</td>\n",
       "      <td>0.067000</td>\n",
       "    </tr>\n",
       "    <tr>\n",
       "      <td>17000</td>\n",
       "      <td>0.064800</td>\n",
       "    </tr>\n",
       "    <tr>\n",
       "      <td>17500</td>\n",
       "      <td>0.057000</td>\n",
       "    </tr>\n",
       "    <tr>\n",
       "      <td>18000</td>\n",
       "      <td>0.057500</td>\n",
       "    </tr>\n",
       "    <tr>\n",
       "      <td>18500</td>\n",
       "      <td>0.057000</td>\n",
       "    </tr>\n",
       "    <tr>\n",
       "      <td>19000</td>\n",
       "      <td>0.056200</td>\n",
       "    </tr>\n",
       "  </tbody>\n",
       "</table><p>"
      ],
      "text/plain": [
       "<IPython.core.display.HTML object>"
      ]
     },
     "metadata": {},
     "output_type": "display_data"
    }
   ],
   "source": [
    "from sentence_transformers import CrossEncoder, InputExample\n",
    "from torch.utils.data import DataLoader\n",
    "import torch\n",
    "\n",
    "print(\"Torch CUDA available:\", torch.cuda.is_available())\n",
    "\n",
    "# Convert dataframe rows into InputExamples\n",
    "train_samples = [\n",
    "    InputExample(texts=[row['query'], row['passage']], label=float(row['label']))\n",
    "    for _, row in cross_df.iterrows()\n",
    "]\n",
    "\n",
    "# Wrap them in a DataLoader\n",
    "train_dataloader = DataLoader(train_samples, shuffle=True, batch_size=16)\n",
    "\n",
    "# Initialize cross encoder\n",
    "model = CrossEncoder(\n",
    "    'cross-encoder/ms-marco-MiniLM-L-6-v2',\n",
    "    num_labels=1   # binary (0/1) regression-style output\n",
    ")\n",
    "\n",
    "# Train the model\n",
    "model.fit(\n",
    "    train_dataloader=train_dataloader,\n",
    "    epochs=3,\n",
    "    warmup_steps=100,\n",
    "    output_path=\"./cross-encoder-model\",\n",
    "    use_amp=True # for mixed precision training which uses float16 and is faster on modern GPUs\n",
    ")\n",
    "model.save(\"./cross-encoder-model\")"
   ]
  },
  {
   "cell_type": "code",
   "execution_count": null,
   "id": "515e93fd",
   "metadata": {},
   "outputs": [],
   "source": []
  }
 ],
 "metadata": {
  "kernelspec": {
   "display_name": "datascience-venv",
   "language": "python",
   "name": "python3"
  },
  "language_info": {
   "codemirror_mode": {
    "name": "ipython",
    "version": 3
   },
   "file_extension": ".py",
   "mimetype": "text/x-python",
   "name": "python",
   "nbconvert_exporter": "python",
   "pygments_lexer": "ipython3",
   "version": "3.13.3"
  }
 },
 "nbformat": 4,
 "nbformat_minor": 5
}
