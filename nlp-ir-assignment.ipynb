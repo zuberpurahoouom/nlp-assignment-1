{
 "cells": [
  {
   "metadata": {
    "ExecuteTime": {
     "end_time": "2025-09-01T16:48:51.798364Z",
     "start_time": "2025-09-01T16:48:49.837900Z"
    },
    "trusted": false
   },
   "cell_type": "code",
   "source": "import os\nimport tarfile\n\nimport requests\n%load_ext autoreload\n%autoreload 2\nfiles = [\n    {\n        \"url\": \"https://msmarco.z22.web.core.windows.net/msmarcoranking/collection.tar.gz\",\n        \"name\": \"collection.tar.gz\"\n    },\n    {\n        \"url\": \"https://msmarco.z22.web.core.windows.net/msmarcoranking/queries.tar.gz\",\n        \"name\": \"queries.tar.gz\"\n    },\n    {\n        \"url\": \"https://msmarco.z22.web.core.windows.net/msmarcoranking/qrels.dev.tsv\",\n        \"name\": \"qrels.dev.tsv\"\n    }\n]\n\nfor file in files:\n    if not os.path.exists(file[\"name\"].replace('.tar.gz', '.tsv')):\n        response = requests.get(file[\"url\"])\n        with open(file[\"name\"], 'wb') as f:\n            f.write(response.content)\n        if file[\"name\"].endswith('.tar.gz'):\n            with tarfile.open(file[\"name\"], 'r:gz') as tar:\n                tar.extractall(path='.')",
   "id": "3f14894a96679470",
   "outputs": [
    {
     "name": "stderr",
     "output_type": "stream",
     "text": "/tmp/ipykernel_1220/930549068.py:29: DeprecationWarning: Python 3.14 will, by default, filter extracted tar archives and reject files or modify their metadata. Use the filter argument to control this behavior.\n  tar.extractall(path='.')\n"
    }
   ],
   "execution_count": 2
  },
  {
   "metadata": {
    "ExecuteTime": {
     "end_time": "2025-09-01T16:48:58.224372Z",
     "start_time": "2025-09-01T16:48:55.030266Z"
    },
    "trusted": false
   },
   "cell_type": "code",
   "source": "from load_corpus import read_collection, read_queries_dev\nimport pandas as pd\n\ndf = read_collection(limit=1000000)\nqueries = read_queries_dev()\nqrels = pd.read_csv(\"qrels.dev.tsv\", sep=\"\\t\", names=[\"qid\",\"_\",\"pid\",\"rel\"], dtype={\"qid\":str,\"pid\":str,\"rel\":int})\nqueries_with_pids = queries.merge(qrels[[\"qid\",\"pid\"]], on=\"qid\", how=\"inner\").drop_duplicates([\"qid\",\"pid\"])\n\nmerged_df: pd.DataFrame = queries_with_pids[queries_with_pids[\"pid\"].astype(str).isin(df[\"pid\"].astype(str))].copy()\nmerged_df.head()",
   "id": "b398fba6e11e16cb",
   "outputs": [
    {
     "name": "stderr",
     "output_type": "stream",
     "text": "Reading collection: 100%|███████████████████████████████████████████████████████████████████████████████████████████████████████████████████████████████████████████████████████████████████████████| 1000000/1000000 [00:02<00:00, 453496.17it/s]\n"
    },
    {
     "data": {
      "text/plain": "        qid                                          query     pid\n11   524318                              treating diabetes  132459\n12   524332  treating tension headaches without medication  740662\n15  1048625               what is parkland near in florida  143101\n60      184                   +is biology a social science  765726\n72  1048811                       what is organic insomnia  465790",
      "text/html": "<div>\n<style scoped>\n    .dataframe tbody tr th:only-of-type {\n        vertical-align: middle;\n    }\n\n    .dataframe tbody tr th {\n        vertical-align: top;\n    }\n\n    .dataframe thead th {\n        text-align: right;\n    }\n</style>\n<table border=\"1\" class=\"dataframe\">\n  <thead>\n    <tr style=\"text-align: right;\">\n      <th></th>\n      <th>qid</th>\n      <th>query</th>\n      <th>pid</th>\n    </tr>\n  </thead>\n  <tbody>\n    <tr>\n      <th>11</th>\n      <td>524318</td>\n      <td>treating diabetes</td>\n      <td>132459</td>\n    </tr>\n    <tr>\n      <th>12</th>\n      <td>524332</td>\n      <td>treating tension headaches without medication</td>\n      <td>740662</td>\n    </tr>\n    <tr>\n      <th>15</th>\n      <td>1048625</td>\n      <td>what is parkland near in florida</td>\n      <td>143101</td>\n    </tr>\n    <tr>\n      <th>60</th>\n      <td>184</td>\n      <td>+is biology a social science</td>\n      <td>765726</td>\n    </tr>\n    <tr>\n      <th>72</th>\n      <td>1048811</td>\n      <td>what is organic insomnia</td>\n      <td>465790</td>\n    </tr>\n  </tbody>\n</table>\n</div>"
     },
     "execution_count": 3,
     "metadata": {},
     "output_type": "execute_result"
    }
   ],
   "execution_count": 3
  },
  {
   "metadata": {
    "ExecuteTime": {
     "end_time": "2025-08-31T16:58:19.442161Z",
     "start_time": "2025-08-31T16:45:27.818408Z"
    },
    "trusted": false
   },
   "cell_type": "code",
   "source": "from index_bm25 import build_bm25\n\nbuild_bm25(df)",
   "id": "eb91bd4b79ebf4c8",
   "outputs": [
    {
     "name": "stderr",
     "output_type": "stream",
     "text": "Indexing (Whoosh BM25): 100%|█████████████████████████████████████████████████████████████████████████████████████████████████████████████████████████████████████████████████████████████████████████| 1000000/1000000 [06:36<00:00, 2522.13it/s]\n"
    }
   ],
   "execution_count": 24
  },
  {
   "metadata": {
    "ExecuteTime": {
     "end_time": "2025-09-01T16:52:45.778607Z",
     "start_time": "2025-09-01T16:48:59.755486Z"
    },
    "trusted": false
   },
   "cell_type": "code",
   "source": [
    "from bm25_metrics import evaluate_bm25_in_memory, qrels_df_to_dict\n",
    "\n",
    "queries = queries[queries[\"qid\"].isin(merged_df[\"qid\"])].sample(n=1000, random_state=42)\n",
    "qrels = qrels[qrels[\"qid\"].isin(merged_df[\"qid\"]) & qrels[\"pid\"].isin(merged_df[\"pid\"])]\n",
    "\n",
    "# We need to ensure topk_run >= k_rec to make recall@k meaningful\n",
    "metrics = evaluate_bm25_in_memory(queries, qrels_df_to_dict(qrels), topk_run=1000, k_ndcg=10, k_map=10, k_rec=100)\n",
    "print(metrics)"
   ],
   "id": "d631c62113455287",
   "outputs": [
    {
     "name": "stderr",
     "output_type": "stream",
     "text": "Evaluating: 100%|██████████████████████████████████████████████████████████████████████████████████████████████████████████████████████████████████████████████████████████████████████████████████████████████| 1000/1000 [03:42<00:00,  4.50q/s]"
    },
    {
     "name": "stdout",
     "output_type": "stream",
     "text": "{'ndcg@10': 0.17415298146754304, 'map@10': 0.1332015873015873, 'recall@100': 0.656}\n"
    },
    {
     "name": "stderr",
     "output_type": "stream",
     "text": "\n"
    }
   ],
   "execution_count": 4
  },
  {
   "metadata": {
    "trusted": false
   },
   "cell_type": "code",
   "outputs": [],
   "execution_count": null,
   "source": "",
   "id": "873d1bfa70999f3b"
  }
 ],
 "metadata": {
  "kernelspec": {
   "display_name": "Python 3 (ipykernel)",
   "language": "python",
   "name": "python3"
  },
  "language_info": {
   "codemirror_mode": {
    "name": "ipython",
    "version": 2
   },
   "file_extension": ".py",
   "mimetype": "text/x-python",
   "name": "python",
   "nbconvert_exporter": "python",
   "pygments_lexer": "ipython2",
   "version": "2.7.6"
  }
 },
 "nbformat": 4,
 "nbformat_minor": 5
}
