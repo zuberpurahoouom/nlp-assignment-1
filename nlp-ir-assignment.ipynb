{
 "cells": [
  {
   "cell_type": "code",
   "execution_count": 7,
   "id": "3f14894a96679470",
   "metadata": {
    "ExecuteTime": {
     "end_time": "2025-09-02T04:01:43.474417Z",
     "start_time": "2025-09-02T04:01:40.966467Z"
    },
    "trusted": false
   },
   "outputs": [
    {
     "name": "stderr",
     "output_type": "stream",
     "text": [
      "/tmp/ipykernel_5452/1337084789.py:29: DeprecationWarning: Python 3.14 will, by default, filter extracted tar archives and reject files or modify their metadata. Use the filter argument to control this behavior.\n",
      "  tar.extractall(path='.')\n"
     ]
    }
   ],
   "source": [
    "import os\n",
    "import tarfile\n",
    "\n",
    "import requests\n",
    "%load_ext autoreload\n",
    "%autoreload 2\n",
    "files = [\n",
    "    {\n",
    "        \"url\": \"https://msmarco.z22.web.core.windows.net/msmarcoranking/collection.tar.gz\",\n",
    "        \"name\": \"collection.tar.gz\"\n",
    "    },\n",
    "    {\n",
    "        \"url\": \"https://msmarco.z22.web.core.windows.net/msmarcoranking/queries.tar.gz\",\n",
    "        \"name\": \"queries.tar.gz\"\n",
    "    },\n",
    "    {\n",
    "        \"url\": \"https://msmarco.z22.web.core.windows.net/msmarcoranking/qrels.dev.tsv\",\n",
    "        \"name\": \"qrels.dev.tsv\"\n",
    "    }\n",
    "]\n",
    "\n",
    "for file in files:\n",
    "    if not os.path.exists(file[\"name\"].replace('.tar.gz', '.tsv')):\n",
    "        response = requests.get(file[\"url\"])\n",
    "        with open(file[\"name\"], 'wb') as f:\n",
    "            f.write(response.content)\n",
    "        if file[\"name\"].endswith('.tar.gz'):\n",
    "            with tarfile.open(file[\"name\"], 'r:gz') as tar:\n",
    "                tar.extractall(path='.')"
   ]
  },
  {
   "cell_type": "code",
   "execution_count": 8,
   "id": "b398fba6e11e16cb",
   "metadata": {
    "ExecuteTime": {
     "end_time": "2025-09-06T07:15:05.981110Z",
     "start_time": "2025-09-06T07:14:42.145306Z"
    },
    "trusted": false
   },
   "outputs": [],
   "source": [
    "import pandas as pd\n",
    "\n",
    "merged_queries_csv_path = \"common_dataset_80k.tsv\"\n",
    "queries = pd.read_csv(\"queries.dev.tsv\", sep=\"\\t\", names=[\"qid\", \"query\"], dtype={\"qid\": str, \"query\": str})\n",
    "qrels = pd.read_csv(\"qrels.dev.tsv\", sep=\"\\t\", names=[\"qid\",\"_\",\"pid\",\"rel\"], dtype={\"qid\":str,\"pid\":str,\"rel\":int})\n",
    "\n",
    "merged_df = pd.read_csv(merged_queries_csv_path, sep=\"\\t\", names=[\"pid\", \"text\"], dtype={\"pid\": str, \"text\":str})"
   ]
  },
  {
   "cell_type": "code",
   "execution_count": 9,
   "id": "fc67658aa2ef4c65",
   "metadata": {
    "ExecuteTime": {
     "end_time": "2025-09-06T07:15:08.940833Z",
     "start_time": "2025-09-06T07:15:08.935524Z"
    },
    "trusted": false
   },
   "outputs": [
    {
     "name": "stdout",
     "output_type": "stream",
     "text": [
      "(80000, 2)\n",
      "    pid                                               text\n",
      "0   448  A postal code (also known locally in various E...\n",
      "1   466  Therefore, all pathologists must have complete...\n",
      "2   646  Obesity is a complex disorder involving an exc...\n",
      "3  1212  Which president appointed FBI Director James C...\n",
      "4  1213  Comey was confirmed by the Senate on July 29, ...\n"
     ]
    }
   ],
   "source": [
    "print(merged_df.shape)\n",
    "print(merged_df.head())"
   ]
  },
  {
   "cell_type": "code",
   "execution_count": 10,
   "id": "eb91bd4b79ebf4c8",
   "metadata": {
    "ExecuteTime": {
     "end_time": "2025-09-06T07:16:06.312420Z",
     "start_time": "2025-09-06T07:15:53.588400Z"
    },
    "trusted": false
   },
   "outputs": [
    {
     "name": "stderr",
     "output_type": "stream",
     "text": [
      "Indexing (Whoosh BM25):   3%|▎         | 2200/80000 [00:00<00:06, 11596.84it/s]"
     ]
    },
    {
     "name": "stderr",
     "output_type": "stream",
     "text": [
      "Indexing (Whoosh BM25): 100%|██████████| 80000/80000 [00:09<00:00, 8481.31it/s] \n"
     ]
    },
    {
     "name": "stdout",
     "output_type": "stream",
     "text": [
      "CPU times: user 41.8 s, sys: 2.87 s, total: 44.7 s\n",
      "Wall time: 1min\n"
     ]
    }
   ],
   "source": [
    "%%time\n",
    "from index_bm25 import build_bm25\n",
    "import pandas as pd\n",
    "\n",
    "build_bm25(merged_df)"
   ]
  },
  {
   "cell_type": "code",
   "execution_count": 11,
   "id": "d631c62113455287",
   "metadata": {
    "ExecuteTime": {
     "end_time": "2025-09-02T04:10:06.448167Z",
     "start_time": "2025-09-02T04:06:29.892144Z"
    },
    "trusted": false
   },
   "outputs": [
    {
     "name": "stdout",
     "output_type": "stream",
     "text": [
      "CPU times: user 50.3 ms, sys: 9.03 ms, total: 59.3 ms\n",
      "Wall time: 58.2 ms\n"
     ]
    },
    {
     "data": {
      "text/html": [
       "<div>\n",
       "<style scoped>\n",
       "    .dataframe tbody tr th:only-of-type {\n",
       "        vertical-align: middle;\n",
       "    }\n",
       "\n",
       "    .dataframe tbody tr th {\n",
       "        vertical-align: top;\n",
       "    }\n",
       "\n",
       "    .dataframe thead th {\n",
       "        text-align: right;\n",
       "    }\n",
       "</style>\n",
       "<table border=\"1\" class=\"dataframe\">\n",
       "  <thead>\n",
       "    <tr style=\"text-align: right;\">\n",
       "      <th></th>\n",
       "      <th>qid</th>\n",
       "      <th>query</th>\n",
       "    </tr>\n",
       "  </thead>\n",
       "  <tbody>\n",
       "    <tr>\n",
       "      <th>0</th>\n",
       "      <td>507646</td>\n",
       "      <td>symptoms of flu a &amp; b in children</td>\n",
       "    </tr>\n",
       "    <tr>\n",
       "      <th>1</th>\n",
       "      <td>915913</td>\n",
       "      <td>what types of volcanoes</td>\n",
       "    </tr>\n",
       "    <tr>\n",
       "      <th>2</th>\n",
       "      <td>460162</td>\n",
       "      <td>mri what to expect</td>\n",
       "    </tr>\n",
       "    <tr>\n",
       "      <th>3</th>\n",
       "      <td>1098570</td>\n",
       "      <td>how long did barack obama be president</td>\n",
       "    </tr>\n",
       "    <tr>\n",
       "      <th>4</th>\n",
       "      <td>841551</td>\n",
       "      <td>what is the proper name for a cartilage cell?</td>\n",
       "    </tr>\n",
       "    <tr>\n",
       "      <th>...</th>\n",
       "      <td>...</td>\n",
       "      <td>...</td>\n",
       "    </tr>\n",
       "    <tr>\n",
       "      <th>995</th>\n",
       "      <td>418423</td>\n",
       "      <td>is monarch bank owned by townebank?</td>\n",
       "    </tr>\n",
       "    <tr>\n",
       "      <th>996</th>\n",
       "      <td>993480</td>\n",
       "      <td>which president was the first to have air forc...</td>\n",
       "    </tr>\n",
       "    <tr>\n",
       "      <th>997</th>\n",
       "      <td>1037744</td>\n",
       "      <td>crestor common symptoms</td>\n",
       "    </tr>\n",
       "    <tr>\n",
       "      <th>998</th>\n",
       "      <td>986936</td>\n",
       "      <td>who was carlomagno</td>\n",
       "    </tr>\n",
       "    <tr>\n",
       "      <th>999</th>\n",
       "      <td>136585</td>\n",
       "      <td>definition of new hire</td>\n",
       "    </tr>\n",
       "  </tbody>\n",
       "</table>\n",
       "<p>1000 rows × 2 columns</p>\n",
       "</div>"
      ],
      "text/plain": [
       "         qid                                              query\n",
       "0     507646                  symptoms of flu a & b in children\n",
       "1     915913                            what types of volcanoes\n",
       "2     460162                                 mri what to expect\n",
       "3    1098570             how long did barack obama be president\n",
       "4     841551      what is the proper name for a cartilage cell?\n",
       "..       ...                                                ...\n",
       "995   418423                is monarch bank owned by townebank?\n",
       "996   993480  which president was the first to have air forc...\n",
       "997  1037744                            crestor common symptoms\n",
       "998   986936                                 who was carlomagno\n",
       "999   136585                             definition of new hire\n",
       "\n",
       "[1000 rows x 2 columns]"
      ]
     },
     "execution_count": 11,
     "metadata": {},
     "output_type": "execute_result"
    }
   ],
   "source": [
    "%%time\n",
    "import pandas as pd\n",
    "\n",
    "qrels_for_eval = pd.read_csv(\"qrels_for_eval.tsv\", sep=\"\\t\", dtype=str)\n",
    "\n",
    "sampled_queries = pd.read_csv(f\"sampled_queries_1k.tsv\", sep=\"\\t\", dtype=str)\n",
    "sampled_queries"
   ]
  },
  {
   "cell_type": "code",
   "execution_count": 12,
   "id": "840b1f35",
   "metadata": {},
   "outputs": [],
   "source": [
    "from tqdm.auto import tqdm\n",
    "from whoosh import index\n",
    "from whoosh.qparser import QueryParser, OrGroup\n",
    "from whoosh.scoring import BM25F\n",
    "from pre_process import tokenize\n",
    "from eval_metrics import ndcg_at_k, average_precision_at_k, recall_at_k\n",
    "\n",
    "IDX_DIR = \"indexes/whoosh\"\n",
    "K1, B = 1.2, 0.75\n",
    "\n",
    "def evaluate_bm25(queries_df,\n",
    "                             qrels_df,\n",
    "                             topk_run=1000,\n",
    "                             k_ndcg=10,\n",
    "                             k_map=10,\n",
    "                             k_rec=100):\n",
    "    \"\"\"Evaluate BM25 retrieval using Whoosh index.\n",
    "\n",
    "    Parameters\n",
    "    ----------\n",
    "    queries_df : DataFrame with columns ['qid','query'].\n",
    "    qrels_df : DataFrame with columns ['qid','pid','rel']; rel>0 indicates relevance.\n",
    "    topk_run : number of documents to retrieve per query.\n",
    "    k_ndcg, k_map, k_rec : cutoffs for metrics.\n",
    "    \"\"\"\n",
    "    qr = qrels_df.astype({\"qid\":str,\"pid\":str,\"rel\":int})\n",
    "    grouped = qr.groupby(\"qid\", sort=False)\n",
    "    qrels_dict = {\n",
    "        qid: {pid: rel for pid, rel in zip(g[\"pid\"], g[\"rel\"]) if rel > 0}\n",
    "        for qid, g in grouped\n",
    "    }\n",
    "\n",
    "    ix = index.open_dir(IDX_DIR)\n",
    "    ndcgs, maps, recalls = [], [], []\n",
    "    with ix.searcher(weighting=BM25F(k1=K1, b=B)) as searcher:\n",
    "        qp = QueryParser(\"text\", schema=ix.schema, group=OrGroup)\n",
    "        it = queries_df[[\"qid\",\"query\"]].itertuples(index=False, name=None)\n",
    "        it = tqdm(it, total=len(queries_df), desc=\"Evaluating\", unit=\"q\")\n",
    "\n",
    "        for qid, query in it:\n",
    "            q = qp.parse(\" \".join(tokenize(query)))\n",
    "            results = searcher.search(q, limit=topk_run)\n",
    "            ranked_pids = [r[\"pid\"] for r in results]\n",
    "\n",
    "            rel_dict = qrels_dict.get(str(qid), {})\n",
    "            rel_set  = {pid for pid, rel in rel_dict.items() if rel > 0}\n",
    "\n",
    "            ndcgs.append(ndcg_at_k(ranked_pids, rel_dict, k=k_ndcg))\n",
    "            maps.append(average_precision_at_k(ranked_pids, rel_set, k=k_map))\n",
    "            recalls.append(recall_at_k(ranked_pids, rel_set, k=k_rec))\n",
    "\n",
    "    return {\n",
    "        f\"ndcg@{k_ndcg}\": float(sum(ndcgs)/len(ndcgs)) if ndcgs else 0.0,\n",
    "        f\"map@{k_map}\":   float(sum(maps)/len(maps))   if maps  else 0.0,\n",
    "        f\"recall@{k_rec}\":float(sum(recalls)/len(recalls)) if recalls else 0.0,\n",
    "        \"num_queries\": queries_df.shape[0]\n",
    "    }\n"
   ]
  },
  {
   "cell_type": "code",
   "execution_count": 13,
   "id": "79c4eb42",
   "metadata": {},
   "outputs": [
    {
     "name": "stderr",
     "output_type": "stream",
     "text": [
      "Evaluating: 100%|██████████| 1000/1000 [00:13<00:00, 73.57q/s]"
     ]
    },
    {
     "name": "stdout",
     "output_type": "stream",
     "text": [
      "metrics: {'ndcg@10': 0.702554385721152, 'map@10': 0.6631271825396825, 'recall@10': 0.8185, 'num_queries': 1000}\n"
     ]
    },
    {
     "name": "stderr",
     "output_type": "stream",
     "text": [
      "\n"
     ]
    }
   ],
   "source": [
    "metrics = evaluate_bm25(\n",
    "    sampled_queries,\n",
    "    qrels_for_eval,\n",
    "    topk_run=10,\n",
    "    k_ndcg=10,\n",
    "    k_map=10,\n",
    "    k_rec=10\n",
    ")\n",
    "print('metrics:', metrics)"
   ]
  },
  {
   "cell_type": "code",
   "execution_count": null,
   "id": "32c3c441",
   "metadata": {},
   "outputs": [],
   "source": []
  },
  {
   "cell_type": "code",
   "execution_count": null,
   "id": "ec4affb8",
   "metadata": {},
   "outputs": [],
   "source": []
  }
 ],
 "metadata": {
  "kernelspec": {
   "display_name": "datascience-venv",
   "language": "python",
   "name": "python3"
  },
  "language_info": {
   "codemirror_mode": {
    "name": "ipython",
    "version": 3
   },
   "file_extension": ".py",
   "mimetype": "text/x-python",
   "name": "python",
   "nbconvert_exporter": "python",
   "pygments_lexer": "ipython3",
   "version": "3.13.3"
  }
 },
 "nbformat": 4,
 "nbformat_minor": 5
}
