{
 "cells": [
  {
   "cell_type": "code",
   "execution_count": 1,
   "id": "3f14894a96679470",
   "metadata": {
    "ExecuteTime": {
     "end_time": "2025-09-02T04:01:43.474417Z",
     "start_time": "2025-09-02T04:01:40.966467Z"
    },
    "trusted": false
   },
   "outputs": [
    {
     "name": "stderr",
     "output_type": "stream",
     "text": [
      "/tmp/ipykernel_2251/1337084789.py:29: DeprecationWarning: Python 3.14 will, by default, filter extracted tar archives and reject files or modify their metadata. Use the filter argument to control this behavior.\n",
      "  tar.extractall(path='.')\n"
     ]
    }
   ],
   "source": [
    "import os\n",
    "import tarfile\n",
    "\n",
    "import requests\n",
    "%load_ext autoreload\n",
    "%autoreload 2\n",
    "files = [\n",
    "    {\n",
    "        \"url\": \"https://msmarco.z22.web.core.windows.net/msmarcoranking/collection.tar.gz\",\n",
    "        \"name\": \"collection.tar.gz\"\n",
    "    },\n",
    "    {\n",
    "        \"url\": \"https://msmarco.z22.web.core.windows.net/msmarcoranking/queries.tar.gz\",\n",
    "        \"name\": \"queries.tar.gz\"\n",
    "    },\n",
    "    {\n",
    "        \"url\": \"https://msmarco.z22.web.core.windows.net/msmarcoranking/qrels.dev.tsv\",\n",
    "        \"name\": \"qrels.dev.tsv\"\n",
    "    }\n",
    "]\n",
    "\n",
    "for file in files:\n",
    "    if not os.path.exists(file[\"name\"].replace('.tar.gz', '.tsv')):\n",
    "        response = requests.get(file[\"url\"])\n",
    "        with open(file[\"name\"], 'wb') as f:\n",
    "            f.write(response.content)\n",
    "        if file[\"name\"].endswith('.tar.gz'):\n",
    "            with tarfile.open(file[\"name\"], 'r:gz') as tar:\n",
    "                tar.extractall(path='.')"
   ]
  },
  {
   "cell_type": "code",
   "execution_count": 2,
   "id": "b398fba6e11e16cb",
   "metadata": {
    "ExecuteTime": {
     "end_time": "2025-09-06T07:15:05.981110Z",
     "start_time": "2025-09-06T07:14:42.145306Z"
    },
    "trusted": false
   },
   "outputs": [],
   "source": [
    "import pandas as pd\n",
    "\n",
    "merged_queries_csv_path = \"common_dataset_80k.tsv\"\n",
    "queries = pd.read_csv(\"queries.dev.tsv\", sep=\"\\t\", names=[\"qid\", \"query\"], dtype={\"qid\": str, \"query\": str})\n",
    "qrels = pd.read_csv(\"qrels.dev.tsv\", sep=\"\\t\", names=[\"qid\",\"_\",\"pid\",\"rel\"], dtype={\"qid\":str,\"pid\":str,\"rel\":int})\n",
    "\n",
    "merged_df = pd.read_csv(merged_queries_csv_path, sep=\"\\t\", names=[\"pid\", \"text\"], dtype={\"pid\": str, \"text\":str})"
   ]
  },
  {
   "cell_type": "code",
   "execution_count": 3,
   "id": "fc67658aa2ef4c65",
   "metadata": {
    "ExecuteTime": {
     "end_time": "2025-09-06T07:15:08.940833Z",
     "start_time": "2025-09-06T07:15:08.935524Z"
    },
    "trusted": false
   },
   "outputs": [
    {
     "name": "stdout",
     "output_type": "stream",
     "text": [
      "(80000, 2)\n",
      "    pid                                               text\n",
      "0   448  A postal code (also known locally in various E...\n",
      "1   466  Therefore, all pathologists must have complete...\n",
      "2   646  Obesity is a complex disorder involving an exc...\n",
      "3  1212  Which president appointed FBI Director James C...\n",
      "4  1213  Comey was confirmed by the Senate on July 29, ...\n"
     ]
    }
   ],
   "source": [
    "print(merged_df.shape)\n",
    "print(merged_df.head())"
   ]
  },
  {
   "cell_type": "code",
   "execution_count": 4,
   "id": "eb91bd4b79ebf4c8",
   "metadata": {
    "ExecuteTime": {
     "end_time": "2025-09-06T07:16:06.312420Z",
     "start_time": "2025-09-06T07:15:53.588400Z"
    },
    "trusted": false
   },
   "outputs": [
    {
     "name": "stderr",
     "output_type": "stream",
     "text": [
      "Indexing (Whoosh BM25): 100%|██████████| 80000/80000 [00:06<00:00, 11946.61it/s]\n"
     ]
    },
    {
     "name": "stdout",
     "output_type": "stream",
     "text": [
      "CPU times: user 35.9 s, sys: 2.81 s, total: 38.7 s\n",
      "Wall time: 47.4 s\n"
     ]
    }
   ],
   "source": [
    "%%time\n",
    "from index_bm25 import build_bm25\n",
    "import pandas as pd\n",
    "\n",
    "build_bm25(merged_df)"
   ]
  },
  {
   "cell_type": "code",
   "execution_count": 1,
   "id": "d631c62113455287",
   "metadata": {
    "ExecuteTime": {
     "end_time": "2025-09-02T04:10:06.448167Z",
     "start_time": "2025-09-02T04:06:29.892144Z"
    },
    "trusted": false
   },
   "outputs": [
    {
     "name": "stdout",
     "output_type": "stream",
     "text": [
      "CPU times: user 725 ms, sys: 70.4 ms, total: 796 ms\n",
      "Wall time: 551 ms\n"
     ]
    },
    {
     "data": {
      "text/html": [
       "<div>\n",
       "<style scoped>\n",
       "    .dataframe tbody tr th:only-of-type {\n",
       "        vertical-align: middle;\n",
       "    }\n",
       "\n",
       "    .dataframe tbody tr th {\n",
       "        vertical-align: top;\n",
       "    }\n",
       "\n",
       "    .dataframe thead th {\n",
       "        text-align: right;\n",
       "    }\n",
       "</style>\n",
       "<table border=\"1\" class=\"dataframe\">\n",
       "  <thead>\n",
       "    <tr style=\"text-align: right;\">\n",
       "      <th></th>\n",
       "      <th>qid</th>\n",
       "      <th>query</th>\n",
       "    </tr>\n",
       "  </thead>\n",
       "  <tbody>\n",
       "    <tr>\n",
       "      <th>0</th>\n",
       "      <td>524318</td>\n",
       "      <td>treating diabetes</td>\n",
       "    </tr>\n",
       "    <tr>\n",
       "      <th>1</th>\n",
       "      <td>524341</td>\n",
       "      <td>treatment and prognosis for lung cancer</td>\n",
       "    </tr>\n",
       "    <tr>\n",
       "      <th>2</th>\n",
       "      <td>524447</td>\n",
       "      <td>treatment of varicose veins in legs</td>\n",
       "    </tr>\n",
       "    <tr>\n",
       "      <th>3</th>\n",
       "      <td>524569</td>\n",
       "      <td>trend what does it means</td>\n",
       "    </tr>\n",
       "    <tr>\n",
       "      <th>4</th>\n",
       "      <td>362</td>\n",
       "      <td>. what are the president's main duties? explai...</td>\n",
       "    </tr>\n",
       "    <tr>\n",
       "      <th>...</th>\n",
       "      <td>...</td>\n",
       "      <td>...</td>\n",
       "    </tr>\n",
       "    <tr>\n",
       "      <th>995</th>\n",
       "      <td>576078</td>\n",
       "      <td>what are traditional new year's eve meals</td>\n",
       "    </tr>\n",
       "    <tr>\n",
       "      <th>996</th>\n",
       "      <td>523224</td>\n",
       "      <td>toxic lithium effects</td>\n",
       "    </tr>\n",
       "    <tr>\n",
       "      <th>997</th>\n",
       "      <td>523248</td>\n",
       "      <td>toxoplasmosis symptoms</td>\n",
       "    </tr>\n",
       "    <tr>\n",
       "      <th>998</th>\n",
       "      <td>523645</td>\n",
       "      <td>transaction finance definition</td>\n",
       "    </tr>\n",
       "    <tr>\n",
       "      <th>999</th>\n",
       "      <td>523851</td>\n",
       "      <td>transition of care defined</td>\n",
       "    </tr>\n",
       "  </tbody>\n",
       "</table>\n",
       "<p>1000 rows × 2 columns</p>\n",
       "</div>"
      ],
      "text/plain": [
       "        qid                                              query\n",
       "0    524318                                  treating diabetes\n",
       "1    524341            treatment and prognosis for lung cancer\n",
       "2    524447                treatment of varicose veins in legs\n",
       "3    524569                           trend what does it means\n",
       "4       362  . what are the president's main duties? explai...\n",
       "..      ...                                                ...\n",
       "995  576078          what are traditional new year's eve meals\n",
       "996  523224                              toxic lithium effects\n",
       "997  523248                             toxoplasmosis symptoms\n",
       "998  523645                     transaction finance definition\n",
       "999  523851                         transition of care defined\n",
       "\n",
       "[1000 rows x 2 columns]"
      ]
     },
     "execution_count": 1,
     "metadata": {},
     "output_type": "execute_result"
    }
   ],
   "source": [
    "%%time\n",
    "from load_corpus import read_queries_dev\n",
    "import pandas as pd\n",
    "\n",
    "qrels_for_eval = pd.read_csv(\"qrels_for_eval.tsv\", sep=\"\\t\", dtype=str)\n",
    "\n",
    "sampled_queries = pd.read_csv(f\"sampled_queries_1k.tsv\", sep=\"\\t\", dtype=str)\n",
    "sampled_queries"
   ]
  },
  {
   "cell_type": "code",
   "execution_count": 2,
   "id": "840b1f35",
   "metadata": {},
   "outputs": [
    {
     "name": "stderr",
     "output_type": "stream",
     "text": [
      "/home/zuber_purahoo2/datascience-venv/lib/python3.13/site-packages/tqdm/auto.py:21: TqdmWarning: IProgress not found. Please update jupyter and ipywidgets. See https://ipywidgets.readthedocs.io/en/stable/user_install.html\n",
      "  from .autonotebook import tqdm as notebook_tqdm\n"
     ]
    }
   ],
   "source": [
    "from tqdm.auto import tqdm\n",
    "from whoosh import index\n",
    "from whoosh.qparser import QueryParser, OrGroup\n",
    "from whoosh.scoring import BM25F\n",
    "from pre_process import tokenize\n",
    "from eval_metrics import ndcg_at_k, average_precision_at_k, recall_at_k\n",
    "\n",
    "IDX_DIR = \"indexes/whoosh\"\n",
    "K1, B = 1.2, 0.75\n",
    "\n",
    "def evaluate_bm25(queries_df,\n",
    "                             qrels_df,\n",
    "                             topk_run=1000,\n",
    "                             k_ndcg=10,\n",
    "                             k_map=10,\n",
    "                             k_rec=100):\n",
    "    \"\"\"Evaluate BM25 retrieval using Whoosh index.\n",
    "\n",
    "    Parameters\n",
    "    ----------\n",
    "    queries_df : DataFrame with columns ['qid','query'].\n",
    "    qrels_df : DataFrame with columns ['qid','pid','rel']; rel>0 indicates relevance.\n",
    "    topk_run : number of documents to retrieve per query.\n",
    "    k_ndcg, k_map, k_rec : cutoffs for metrics.\n",
    "    \"\"\"\n",
    "    qr = qrels_df.astype({\"qid\":str,\"pid\":str,\"rel\":int})\n",
    "    grouped = qr.groupby(\"qid\", sort=False)\n",
    "    qrels_dict = {\n",
    "        qid: {pid: rel for pid, rel in zip(g[\"pid\"], g[\"rel\"]) if rel > 0}\n",
    "        for qid, g in grouped\n",
    "    }\n",
    "\n",
    "    ix = index.open_dir(IDX_DIR)\n",
    "    ndcgs, maps, recalls = [], [], []\n",
    "    with ix.searcher(weighting=BM25F(k1=K1, b=B)) as searcher:\n",
    "        qp = QueryParser(\"text\", schema=ix.schema, group=OrGroup)\n",
    "        it = queries_df[[\"qid\",\"query\"]].itertuples(index=False, name=None)\n",
    "        it = tqdm(it, total=len(queries_df), desc=\"Evaluating\", unit=\"q\")\n",
    "\n",
    "        for qid, query in it:\n",
    "            q = qp.parse(\" \".join(tokenize(query)))\n",
    "            results = searcher.search(q, limit=topk_run)\n",
    "            ranked_pids = [r[\"pid\"] for r in results]\n",
    "\n",
    "            rel_dict = qrels_dict.get(str(qid), {})\n",
    "            rel_set  = {pid for pid, rel in rel_dict.items() if rel > 0}\n",
    "\n",
    "            ndcgs.append(ndcg_at_k(ranked_pids, rel_dict, k=k_ndcg))\n",
    "            maps.append(average_precision_at_k(ranked_pids, rel_set, k=k_map))\n",
    "            recalls.append(recall_at_k(ranked_pids, rel_set, k=k_rec))\n",
    "\n",
    "    return {\n",
    "        f\"ndcg@{k_ndcg}\": float(sum(ndcgs)/len(ndcgs)) if ndcgs else 0.0,\n",
    "        f\"map@{k_map}\":   float(sum(maps)/len(maps))   if maps  else 0.0,\n",
    "        f\"recall@{k_rec}\":float(sum(recalls)/len(recalls)) if recalls else 0.0,\n",
    "        \"num_queries\": queries_df.shape[0]\n",
    "    }\n"
   ]
  },
  {
   "cell_type": "code",
   "execution_count": 3,
   "id": "79c4eb42",
   "metadata": {},
   "outputs": [
    {
     "name": "stderr",
     "output_type": "stream",
     "text": [
      "Evaluating: 100%|██████████| 1000/1000 [00:13<00:00, 75.10q/s]"
     ]
    },
    {
     "name": "stdout",
     "output_type": "stream",
     "text": [
      "metrics: {'ndcg@10': 0.5652072388151415, 'map@10': 0.47834767857142857, 'recall@10': 0.6480833333333333, 'num_queries': 1000}\n"
     ]
    },
    {
     "name": "stderr",
     "output_type": "stream",
     "text": [
      "\n"
     ]
    }
   ],
   "source": [
    "metrics = evaluate_bm25(\n",
    "    sampled_queries,\n",
    "    qrels_for_eval,\n",
    "    topk_run=10,\n",
    "    k_ndcg=10,\n",
    "    k_map=10,\n",
    "    k_rec=10\n",
    ")\n",
    "print('metrics:', metrics)"
   ]
  },
  {
   "cell_type": "code",
   "execution_count": null,
   "id": "32c3c441",
   "metadata": {},
   "outputs": [],
   "source": []
  }
 ],
 "metadata": {
  "kernelspec": {
   "display_name": "datascience-venv",
   "language": "python",
   "name": "python3"
  },
  "language_info": {
   "codemirror_mode": {
    "name": "ipython",
    "version": 3
   },
   "file_extension": ".py",
   "mimetype": "text/x-python",
   "name": "python",
   "nbconvert_exporter": "python",
   "pygments_lexer": "ipython3",
   "version": "3.13.3"
  }
 },
 "nbformat": 4,
 "nbformat_minor": 5
}
