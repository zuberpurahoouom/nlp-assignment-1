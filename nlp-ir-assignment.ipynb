{
 "cells": [
  {
   "cell_type": "code",
   "execution_count": 1,
   "id": "3f14894a96679470",
   "metadata": {
    "ExecuteTime": {
     "end_time": "2025-09-02T04:01:43.474417Z",
     "start_time": "2025-09-02T04:01:40.966467Z"
    },
    "trusted": false
   },
   "outputs": [
    {
     "name": "stderr",
     "output_type": "stream",
     "text": [
      "/tmp/ipykernel_1732/1337084789.py:29: DeprecationWarning: Python 3.14 will, by default, filter extracted tar archives and reject files or modify their metadata. Use the filter argument to control this behavior.\n",
      "  tar.extractall(path='.')\n"
     ]
    }
   ],
   "source": [
    "import os\n",
    "import tarfile\n",
    "\n",
    "import requests\n",
    "%load_ext autoreload\n",
    "%autoreload 2\n",
    "files = [\n",
    "    {\n",
    "        \"url\": \"https://msmarco.z22.web.core.windows.net/msmarcoranking/collection.tar.gz\",\n",
    "        \"name\": \"collection.tar.gz\"\n",
    "    },\n",
    "    {\n",
    "        \"url\": \"https://msmarco.z22.web.core.windows.net/msmarcoranking/queries.tar.gz\",\n",
    "        \"name\": \"queries.tar.gz\"\n",
    "    },\n",
    "    {\n",
    "        \"url\": \"https://msmarco.z22.web.core.windows.net/msmarcoranking/qrels.dev.tsv\",\n",
    "        \"name\": \"qrels.dev.tsv\"\n",
    "    }\n",
    "]\n",
    "\n",
    "for file in files:\n",
    "    if not os.path.exists(file[\"name\"].replace('.tar.gz', '.tsv')):\n",
    "        response = requests.get(file[\"url\"])\n",
    "        with open(file[\"name\"], 'wb') as f:\n",
    "            f.write(response.content)\n",
    "        if file[\"name\"].endswith('.tar.gz'):\n",
    "            with tarfile.open(file[\"name\"], 'r:gz') as tar:\n",
    "                tar.extractall(path='.')"
   ]
  },
  {
   "cell_type": "code",
   "execution_count": 7,
   "id": "b398fba6e11e16cb",
   "metadata": {
    "ExecuteTime": {
     "end_time": "2025-09-06T07:15:05.981110Z",
     "start_time": "2025-09-06T07:14:42.145306Z"
    },
    "trusted": false
   },
   "outputs": [
    {
     "name": "stderr",
     "output_type": "stream",
     "text": [
      "Reading collection:  88%|████████▊ | 8841823/10000000 [00:11<00:01, 740875.26it/s]\n"
     ]
    }
   ],
   "source": [
    "from load_corpus import read_collection, read_queries_dev\n",
    "import pandas as pd\n",
    "import os\n",
    "\n",
    "merged_queries_csv_path = \"merged_queries.csv\"\n",
    "queries = read_queries_dev()\n",
    "qrels = pd.read_csv(\"qrels.dev.tsv\", sep=\"\\t\", names=[\"qid\",\"_\",\"pid\",\"rel\"], dtype={\"qid\":str,\"pid\":str,\"rel\":int})\n",
    "\n",
    "if os.path.exists(merged_queries_csv_path):\n",
    "    merged_df = pd.read_csv(merged_queries_csv_path)\n",
    "else:\n",
    "    df = read_collection(limit=10000000)\n",
    "    merged_df: pd.DataFrame = qrels[qrels[\"pid\"].astype(str).isin(df[\"pid\"].astype(str))].copy()\n",
    "\n",
    "    merged_df = merged_df.sample(n=10000, random_state=42)\n",
    "    merged_df[\"text\"] = merged_df[\"pid\"].map(df.set_index(\"pid\")[\"text\"])\n",
    "    merged_df = merged_df.dropna(subset=[\"text\"])\n",
    "    merged_df.to_csv(\"merged_queries.csv\", index=False)"
   ]
  },
  {
   "cell_type": "code",
   "execution_count": 8,
   "id": "fc67658aa2ef4c65",
   "metadata": {
    "ExecuteTime": {
     "end_time": "2025-09-06T07:15:08.940833Z",
     "start_time": "2025-09-06T07:15:08.935524Z"
    },
    "trusted": false
   },
   "outputs": [
    {
     "name": "stdout",
     "output_type": "stream",
     "text": [
      "(10000, 5)\n",
      "           qid  _      pid  rel  \\\n",
      "4503   1084031  0  7132043    1   \n",
      "54613   332830  0  5789735    1   \n",
      "1554   1088785  0  7091207    1   \n",
      "10113  1033718  0  7212203    1   \n",
      "41148   617167  0  7713540    1   \n",
      "\n",
      "                                                    text  \n",
      "4503   Definition of constructivism - a style or move...  \n",
      "54613  You have to be 18 years old to get a tattoo. I...  \n",
      "1554   WatchGuard Vista WatchGuard Vista: WatchGuard ...  \n",
      "10113  More detail on some of the traits crops are ge...  \n",
      "41148  It was the warning an old seer woman gave Caes...  \n"
     ]
    }
   ],
   "source": [
    "print(merged_df.shape)\n",
    "print(merged_df.head())"
   ]
  },
  {
   "cell_type": "code",
   "execution_count": 9,
   "id": "eb91bd4b79ebf4c8",
   "metadata": {
    "ExecuteTime": {
     "end_time": "2025-09-06T07:16:06.312420Z",
     "start_time": "2025-09-06T07:15:53.588400Z"
    },
    "trusted": false
   },
   "outputs": [
    {
     "name": "stderr",
     "output_type": "stream",
     "text": [
      "Indexing (Whoosh BM25): 100%|██████████| 10000/10000 [00:01<00:00, 6760.71it/s]\n"
     ]
    }
   ],
   "source": [
    "from index_bm25 import build_bm25\n",
    "import pandas as pd\n",
    "\n",
    "bm25_df = pd.read_csv(merged_queries_csv_path)[[\"pid\", \"text\"]]\n",
    "\n",
    "build_bm25(bm25_df)"
   ]
  },
  {
   "cell_type": "code",
   "execution_count": 16,
   "id": "d631c62113455287",
   "metadata": {
    "ExecuteTime": {
     "end_time": "2025-09-02T04:10:06.448167Z",
     "start_time": "2025-09-02T04:06:29.892144Z"
    },
    "trusted": false
   },
   "outputs": [
    {
     "name": "stdout",
     "output_type": "stream",
     "text": [
      "queries_eval shape: (9867, 2)\n",
      "        qid                                          query\n",
      "0   1048578                 cost of endless pools/swim spa\n",
      "10   262156              how long is a college hockey game\n",
      "23   524332  treating tension headaches without medication\n",
      "26  1048624           what is pascal's law in simple terms\n",
      "36  1048636                         what is parcel service\n"
     ]
    },
    {
     "name": "stderr",
     "output_type": "stream",
     "text": [
      "Evaluating: 100%|██████████| 9867/9867 [01:10<00:00, 140.38q/s]"
     ]
    },
    {
     "name": "stdout",
     "output_type": "stream",
     "text": [
      "metrics: {'ndcg@10': 0.8260072199480895, 'map@10': 0.7990030098725751, 'recall@100': 0.9621803317455492}\n"
     ]
    },
    {
     "name": "stderr",
     "output_type": "stream",
     "text": [
      "\n"
     ]
    }
   ],
   "source": [
    "from bm25_metrics import evaluate_bm25_in_memory\n",
    "from load_corpus import read_queries_dev\n",
    "import pandas as pd\n",
    "\n",
    "# Reload merged sample (contains qid, pid, text, rel)\n",
    "merged_df = pd.read_csv(merged_queries_csv_path, dtype={\"qid\":str,\"pid\":str})\n",
    "\n",
    "# Build queries_eval: only keep queries whose qid appears in merged_df\n",
    "all_queries = read_queries_dev().astype({\"qid\":str})\n",
    "queries_eval = (all_queries[all_queries['qid'].isin(merged_df['qid'])]\n",
    "                .drop_duplicates('qid')\n",
    "                [['qid','query']])\n",
    "\n",
    "# Ensure qrels frame has required columns\n",
    "qrels_for_eval = merged_df[['qid','pid','rel']].astype({\"qid\":str,\"pid\":str,\"rel\":int})\n",
    "\n",
    "# Compute metrics\n",
    "metrics = evaluate_bm25_in_memory(\n",
    "    queries_eval,\n",
    "    qrels_for_eval,\n",
    "    topk_run=1000,\n",
    "    k_ndcg=10,\n",
    "    k_map=10,\n",
    "    k_rec=100\n",
    ")\n",
    "print('metrics:', metrics)"
   ]
  },
  {
   "cell_type": "code",
   "execution_count": null,
   "id": "873d1bfa70999f3b",
   "metadata": {
    "trusted": false
   },
   "outputs": [],
   "source": []
  }
 ],
 "metadata": {
  "kernelspec": {
   "display_name": "datascience-venv",
   "language": "python",
   "name": "python3"
  },
  "language_info": {
   "codemirror_mode": {
    "name": "ipython",
    "version": 3
   },
   "file_extension": ".py",
   "mimetype": "text/x-python",
   "name": "python",
   "nbconvert_exporter": "python",
   "pygments_lexer": "ipython3",
   "version": "3.13.3"
  }
 },
 "nbformat": 4,
 "nbformat_minor": 5
}
