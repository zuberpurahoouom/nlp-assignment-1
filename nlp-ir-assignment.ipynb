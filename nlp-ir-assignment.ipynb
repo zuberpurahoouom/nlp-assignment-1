{
 "cells": [
  {
   "metadata": {
    "ExecuteTime": {
     "end_time": "2025-08-31T05:40:03.298027Z",
     "start_time": "2025-08-31T05:40:00.367299Z"
    },
    "trusted": false
   },
   "cell_type": "code",
   "source": "import os\nimport tarfile\nimport requests\n%load_ext autoreload\n%autoreload 2\nfiles = [\n    {\n        \"url\": \"https://msmarco.z22.web.core.windows.net/msmarcoranking/collection.tar.gz\",\n        \"name\": \"collection.tar.gz\"\n    },\n    {\n        \"url\": \"https://msmarco.z22.web.core.windows.net/msmarcoranking/queries.tar.gz\",\n        \"name\": \"queries.tar.gz\"\n    },\n    {\n        \"url\": \"https://msmarco.z22.web.core.windows.net/msmarcoranking/qrels.dev.tsv\",\n        \"name\": \"qrels.dev.tsv\"\n    }\n]\n\nfor file in files:\n    if not os.path.exists(file[\"name\"].replace('.tar.gz', '.tsv')):\n        response = requests.get(file[\"url\"])\n        with open(file[\"name\"], 'wb') as f:\n            f.write(response.content)\n        if file[\"name\"].endswith('.tar.gz'):\n            with tarfile.open(file[\"name\"], 'r:gz') as tar:\n                tar.extractall(path='.')",
   "id": "3f14894a96679470",
   "outputs": [
    {
     "name": "stderr",
     "output_type": "stream",
     "text": "/tmp/ipykernel_2700/2838203614.py:28: DeprecationWarning: Python 3.14 will, by default, filter extracted tar archives and reject files or modify their metadata. Use the filter argument to control this behavior.\n  tar.extractall(path='.')\n"
    }
   ],
   "execution_count": 18
  },
  {
   "metadata": {
    "ExecuteTime": {
     "end_time": "2025-08-31T05:43:46.053586Z",
     "start_time": "2025-08-31T05:43:44.523186Z"
    },
    "trusted": false
   },
   "cell_type": "code",
   "source": "from load_corpus import read_collection, read_queries_dev\nimport pandas as pd\n\ndf = read_collection(limit=500000)\ndev = read_queries_dev()\nqrels = pd.read_csv(\"qrels.dev.tsv\", sep=\"\\t\", names=[\"qid\",\"_\",\"pid\",\"rel\"], dtype={\"qid\":str,\"pid\":str,\"rel\":int})\ndev_with_pids = dev.merge(qrels[[\"qid\",\"pid\"]], on=\"qid\", how=\"inner\").drop_duplicates([\"qid\",\"pid\"])\n\ndev_filtered: pd.DataFrame = dev_with_pids[dev_with_pids[\"pid\"].astype(str).isin(df[\"pid\"].astype(str))].copy()\ndev_filtered.head()",
   "id": "b398fba6e11e16cb",
   "outputs": [
    {
     "name": "stderr",
     "output_type": "stream",
     "text": "Reading collection: 100%|█████████████████████████████████████████████████████████████████████████████████████████████████████████████████████████████████████████████████████████████████████████████| 500000/500000 [00:00<00:00, 587624.69it/s]\n"
    }
   ],
   "execution_count": 5
  },
  {
   "metadata": {
    "ExecuteTime": {
     "end_time": "2025-08-31T05:41:17.599641Z",
     "start_time": "2025-08-31T05:40:08.191684Z"
    },
    "trusted": false
   },
   "cell_type": "code",
   "source": "from index_bm25 import build_bm25\n\nbuild_bm25(df)",
   "id": "eb91bd4b79ebf4c8",
   "outputs": [
    {
     "name": "stderr",
     "output_type": "stream",
     "text": "Tokenizing: 100%|██████████████████████████████████████████████████████████████████████████████████████████████████████████████████████████████████████████████████████████████████████████████████████| 500000/500000 [00:40<00:00, 12372.02it/s]\n"
    }
   ],
   "execution_count": 19
  },
  {
   "metadata": {
    "ExecuteTime": {
     "end_time": "2025-08-31T05:51:21.248262Z",
     "start_time": "2025-08-31T05:43:56.112259Z"
    },
    "trusted": false
   },
   "cell_type": "code",
   "source": "from index_bm25 import write_trec_run\n\nwrite_trec_run(dev_filtered, \"runs/bm25.dev.trec\", topk=1000)",
   "id": "398c17eb130919e7",
   "outputs": [
    {
     "name": "stderr",
     "output_type": "stream",
     "text": "Processing queries: 100%|█████████████████████████████████████████████████████████████████████████████████████████████████████████████████████████████████████████████████████████████████████████████████████| 1014/1014 [07:24<00:00,  2.28it/s]\n"
    }
   ],
   "execution_count": 6
  },
  {
   "metadata": {
    "trusted": false,
    "ExecuteTime": {
     "end_time": "2025-08-31T06:07:44.198642Z",
     "start_time": "2025-08-31T06:07:21.377063Z"
    }
   },
   "cell_type": "code",
   "source": [
    "from ranx import Qrels, Run, evaluate\n",
    "qrels = Qrels.from_file(\"qrels.dev.tsv\", kind=\"trec\")\n",
    "run   = Run.from_file(\"runs/bm25.dev.trec\", kind=\"trec\")\n",
    "print(evaluate(qrels, run, metrics=[\"ndcg@10\",\"map@10\",\"recall@100\"], make_comparable=True))"
   ],
   "id": "d631c62113455287",
   "outputs": [
    {
     "name": "stderr",
     "output_type": "stream",
     "text": [
      "/home/zuber_purahoo2/datascience-venv/lib/python3.13/site-packages/ranx/metrics/ndcg.py:72: NumbaTypeSafetyWarning: unsafe cast from uint64 to int64. Precision may be lost.\n",
      "  scores[i] = _ndcg(qrels[i], run[i], k, rel_lvl, jarvelin)\n"
     ]
    },
    {
     "name": "stdout",
     "output_type": "stream",
     "text": [
      "{'ndcg@10': np.float64(0.003570830233922889), 'map@10': np.float64(0.0027275552105520797), 'recall@100': np.float64(0.012281538258543548)}\n"
     ]
    }
   ],
   "execution_count": 3
  },
  {
   "metadata": {
    "trusted": false
   },
   "cell_type": "code",
   "outputs": [],
   "execution_count": null,
   "source": "",
   "id": "873d1bfa70999f3b"
  }
 ],
 "metadata": {
  "kernelspec": {
   "display_name": "Python 3 (ipykernel)",
   "language": "python",
   "name": "python3"
  },
  "language_info": {
   "codemirror_mode": {
    "name": "ipython",
    "version": 2
   },
   "file_extension": ".py",
   "mimetype": "text/x-python",
   "name": "python",
   "nbconvert_exporter": "python",
   "pygments_lexer": "ipython2",
   "version": "2.7.6"
  }
 },
 "nbformat": 4,
 "nbformat_minor": 5
}
