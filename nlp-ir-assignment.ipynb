{
 "cells": [
  {
   "cell_type": "code",
   "execution_count": 1,
   "id": "3f14894a96679470",
   "metadata": {
    "ExecuteTime": {
     "end_time": "2025-09-02T04:01:43.474417Z",
     "start_time": "2025-09-02T04:01:40.966467Z"
    },
    "trusted": false
   },
   "outputs": [
    {
     "name": "stderr",
     "output_type": "stream",
     "text": [
      "/tmp/ipykernel_2063/1337084789.py:29: DeprecationWarning: Python 3.14 will, by default, filter extracted tar archives and reject files or modify their metadata. Use the filter argument to control this behavior.\n",
      "  tar.extractall(path='.')\n"
     ]
    }
   ],
   "source": [
    "import os\n",
    "import tarfile\n",
    "\n",
    "import requests\n",
    "%load_ext autoreload\n",
    "%autoreload 2\n",
    "files = [\n",
    "    {\n",
    "        \"url\": \"https://msmarco.z22.web.core.windows.net/msmarcoranking/collection.tar.gz\",\n",
    "        \"name\": \"collection.tar.gz\"\n",
    "    },\n",
    "    {\n",
    "        \"url\": \"https://msmarco.z22.web.core.windows.net/msmarcoranking/queries.tar.gz\",\n",
    "        \"name\": \"queries.tar.gz\"\n",
    "    },\n",
    "    {\n",
    "        \"url\": \"https://msmarco.z22.web.core.windows.net/msmarcoranking/qrels.dev.tsv\",\n",
    "        \"name\": \"qrels.dev.tsv\"\n",
    "    }\n",
    "]\n",
    "\n",
    "for file in files:\n",
    "    if not os.path.exists(file[\"name\"].replace('.tar.gz', '.tsv')):\n",
    "        response = requests.get(file[\"url\"])\n",
    "        with open(file[\"name\"], 'wb') as f:\n",
    "            f.write(response.content)\n",
    "        if file[\"name\"].endswith('.tar.gz'):\n",
    "            with tarfile.open(file[\"name\"], 'r:gz') as tar:\n",
    "                tar.extractall(path='.')"
   ]
  },
  {
   "cell_type": "code",
   "execution_count": 12,
   "id": "b398fba6e11e16cb",
   "metadata": {
    "ExecuteTime": {
     "end_time": "2025-09-06T07:15:05.981110Z",
     "start_time": "2025-09-06T07:14:42.145306Z"
    },
    "trusted": false
   },
   "outputs": [],
   "source": [
    "from load_corpus import read_collection, read_queries_dev\n",
    "import pandas as pd\n",
    "import os\n",
    "\n",
    "merged_queries_csv_path = \"common_dataset.tsv\"\n",
    "queries = read_queries_dev()\n",
    "qrels = pd.read_csv(\"qrels.dev.tsv\", sep=\"\\t\", names=[\"qid\",\"_\",\"pid\",\"rel\"], dtype={\"qid\":str,\"pid\":str,\"rel\":int})\n",
    "\n",
    "if os.path.exists(merged_queries_csv_path):\n",
    "    merged_df = pd.read_csv(merged_queries_csv_path, sep=\"\\t\", names=[\"pid\", \"text\"], dtype={\"pid\": str, \"text\":str})\n",
    "else:\n",
    "    df = read_collection(limit=10000000)\n",
    "    merged_df: pd.DataFrame = qrels[qrels[\"pid\"].astype(str).isin(df[\"pid\"].astype(str))].copy()\n",
    "\n",
    "    merged_df = merged_df.sample(n=10000, random_state=42)\n",
    "    merged_df[\"text\"] = merged_df[\"pid\"].map(df.set_index(\"pid\")[\"text\"])\n",
    "    merged_df.to_csv(\"merged_queries.csv\", index=False)"
   ]
  },
  {
   "cell_type": "code",
   "execution_count": 13,
   "id": "fc67658aa2ef4c65",
   "metadata": {
    "ExecuteTime": {
     "end_time": "2025-09-06T07:15:08.940833Z",
     "start_time": "2025-09-06T07:15:08.935524Z"
    },
    "trusted": false
   },
   "outputs": [
    {
     "name": "stdout",
     "output_type": "stream",
     "text": [
      "(40000, 2)\n",
      "    pid                                               text\n",
      "0   448  A postal code (also known locally in various E...\n",
      "1   466  Therefore, all pathologists must have complete...\n",
      "2   646  Obesity is a complex disorder involving an exc...\n",
      "3  1212  Which president appointed FBI Director James C...\n",
      "4  1213  Comey was confirmed by the Senate on July 29, ...\n"
     ]
    }
   ],
   "source": [
    "print(merged_df.shape)\n",
    "print(merged_df.head())"
   ]
  },
  {
   "cell_type": "code",
   "execution_count": 14,
   "id": "eb91bd4b79ebf4c8",
   "metadata": {
    "ExecuteTime": {
     "end_time": "2025-09-06T07:16:06.312420Z",
     "start_time": "2025-09-06T07:15:53.588400Z"
    },
    "trusted": false
   },
   "outputs": [
    {
     "name": "stderr",
     "output_type": "stream",
     "text": [
      "Indexing (Whoosh BM25):   5%|▍         | 1988/40000 [00:00<00:03, 10529.02it/s]"
     ]
    },
    {
     "name": "stderr",
     "output_type": "stream",
     "text": [
      "Indexing (Whoosh BM25): 100%|██████████| 40000/40000 [00:03<00:00, 10853.67it/s]\n"
     ]
    },
    {
     "name": "stdout",
     "output_type": "stream",
     "text": [
      "CPU times: user 20.3 s, sys: 1.45 s, total: 21.8 s\n",
      "Wall time: 26.3 s\n"
     ]
    }
   ],
   "source": [
    "%%time\n",
    "from index_bm25 import build_bm25\n",
    "import pandas as pd\n",
    "\n",
    "build_bm25(merged_df)"
   ]
  },
  {
   "cell_type": "code",
   "execution_count": 15,
   "id": "d631c62113455287",
   "metadata": {
    "ExecuteTime": {
     "end_time": "2025-09-02T04:10:06.448167Z",
     "start_time": "2025-09-02T04:06:29.892144Z"
    },
    "trusted": false
   },
   "outputs": [
    {
     "name": "stdout",
     "output_type": "stream",
     "text": [
      "queries_eval shape: (19229, 2)\n"
     ]
    },
    {
     "name": "stderr",
     "output_type": "stream",
     "text": [
      "Evaluating: 100%|██████████| 1000/1000 [00:13<00:00, 75.69q/s]"
     ]
    },
    {
     "name": "stdout",
     "output_type": "stream",
     "text": [
      "metrics: {'ndcg@10': 0.6869677779749187, 'map@10': 0.6453674603174603, 'recall@100': 0.9203333333333333}\n",
      "CPU times: user 14.4 s, sys: 75.6 ms, total: 14.4 s\n",
      "Wall time: 14.4 s\n"
     ]
    },
    {
     "name": "stderr",
     "output_type": "stream",
     "text": [
      "\n"
     ]
    }
   ],
   "source": [
    "%%time\n",
    "from bm25_metrics import evaluate_bm25\n",
    "from load_corpus import read_queries_dev\n",
    "import pandas as pd\n",
    "\n",
    "# We only keep queries whose qid appears in merged_df\n",
    "all_queries = read_queries_dev().astype({\"qid\":str})\n",
    "merged_queries_df: pd.DataFrame = qrels[qrels[\"pid\"].astype(str).isin(merged_df[\"pid\"].astype(str))].copy()\n",
    "queries_eval = (all_queries[all_queries['qid'].isin(merged_queries_df['qid'])]\n",
    "                .drop_duplicates('qid')\n",
    "                [['qid','query']])\n",
    "print('queries_eval shape:', queries_eval.shape)\n",
    "\n",
    "qrels_for_eval = merged_queries_df[['qid','pid','rel']].astype({\"qid\":str,\"pid\":str,\"rel\":int})\n",
    "sampled_queries = queries_eval.sample(n=1000, random_state=42)\n",
    "\n",
    "metrics = evaluate_bm25(\n",
    "    sampled_queries,\n",
    "    qrels_for_eval,\n",
    "    topk_run=1000,\n",
    "    k_ndcg=10,\n",
    "    k_map=10,\n",
    "    k_rec=100\n",
    ")\n",
    "print('metrics:', metrics)"
   ]
  },
  {
   "cell_type": "code",
   "execution_count": null,
   "id": "7061d7ad",
   "metadata": {},
   "outputs": [],
   "source": []
  }
 ],
 "metadata": {
  "kernelspec": {
   "display_name": "datascience-venv",
   "language": "python",
   "name": "python3"
  },
  "language_info": {
   "codemirror_mode": {
    "name": "ipython",
    "version": 3
   },
   "file_extension": ".py",
   "mimetype": "text/x-python",
   "name": "python",
   "nbconvert_exporter": "python",
   "pygments_lexer": "ipython3",
   "version": "3.13.3"
  }
 },
 "nbformat": 4,
 "nbformat_minor": 5
}
