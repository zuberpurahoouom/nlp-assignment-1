{
 "cells": [
  {
   "cell_type": "code",
   "execution_count": 3,
   "id": "46bbf587",
   "metadata": {},
   "outputs": [
    {
     "data": {
      "text/plain": [
       "(0, 4)"
      ]
     },
     "execution_count": 3,
     "metadata": {},
     "output_type": "execute_result"
    }
   ],
   "source": [
    "import pandas as pd\n",
    "qrels_dev = \"qrels.dev.tsv\"\n",
    "collection_tsv = \"collection.tsv\"\n",
    "\n",
    "# Read qrels (judged passages)\n",
    "qrels = pd.read_csv(\n",
    "    qrels_dev,\n",
    "    sep=\"\\t\",\n",
    "    names=[\"qid\", \"_\", \"pid\", \"rel\"],\n",
    "    dtype={\"qid\": str, \"pid\": str, \"rel\": int}\n",
    ")\n",
    "qrels[qrels.isna().any(axis=1)].shape  # Check for NaN values"
   ]
  },
  {
   "cell_type": "code",
   "execution_count": 5,
   "id": "1df7c0e5",
   "metadata": {},
   "outputs": [
    {
     "data": {
      "text/plain": [
       "(0, 2)"
      ]
     },
     "execution_count": 5,
     "metadata": {},
     "output_type": "execute_result"
    }
   ],
   "source": [
    "out_tsv = f\"common_dataset_80k.tsv\"\n",
    "common_dataset = pd.read_csv(out_tsv, sep=\"\\t\", names=[\"pid\", \"text\"], dtype={\"pid\": str, \"text\": str})\n",
    "common_dataset[common_dataset.isna().any(axis=1)].shape  # Check for NaN values"
   ]
  },
  {
   "cell_type": "code",
   "execution_count": 6,
   "id": "ee62efc2",
   "metadata": {},
   "outputs": [
    {
     "data": {
      "text/plain": [
       "(0, 2)"
      ]
     },
     "execution_count": 6,
     "metadata": {},
     "output_type": "execute_result"
    }
   ],
   "source": [
    "queries = pd.read_csv(\"queries.train.tsv\", sep=\"\\t\", header=None, names=[\"qid\", \"query\"])\n",
    "queries[queries.isna().any(axis=1)].shape  # Check for NaN values"
   ]
  },
  {
   "cell_type": "code",
   "execution_count": null,
   "id": "e89722ad",
   "metadata": {},
   "outputs": [
    {
     "data": {
      "text/plain": [
       "(0, 3)"
      ]
     },
     "execution_count": 11,
     "metadata": {},
     "output_type": "execute_result"
    }
   ],
   "source": [
    "qidpidtriples = pd.read_csv(\"qidpidtriples.top3.tsv\",\n",
    "                            sep=\"\\t\",\n",
    "                            header=None,\n",
    "                            names=[\"qid\",\"pid_pos\",\"pid_neg\"],\n",
    "                            dtype={\"qid\":\"int32\",\"pid_pos\":\"int32\",\"pid_neg\":\"int32\"})\n",
    "qidpidtriples[qidpidtriples.isna().any(axis=1)].shape  # Check for NaN values\n"
   ]
  },
  {
   "cell_type": "code",
   "execution_count": 15,
   "id": "dfa63251",
   "metadata": {},
   "outputs": [
    {
     "data": {
      "text/plain": [
       "((60058,), (60058, 3))"
      ]
     },
     "execution_count": 15,
     "metadata": {},
     "output_type": "execute_result"
    }
   ],
   "source": [
    "pid_pos = (qidpidtriples[\"pid_pos\"].astype(int)\n",
    "           .dropna()\n",
    "           .astype(int))\n",
    "pid_pos.shape, qidpidtriples.shape"
   ]
  },
  {
   "cell_type": "code",
   "execution_count": null,
   "id": "f0413db3",
   "metadata": {},
   "outputs": [],
   "source": []
  }
 ],
 "metadata": {
  "kernelspec": {
   "display_name": "datascience-venv",
   "language": "python",
   "name": "python3"
  },
  "language_info": {
   "codemirror_mode": {
    "name": "ipython",
    "version": 3
   },
   "file_extension": ".py",
   "mimetype": "text/x-python",
   "name": "python",
   "nbconvert_exporter": "python",
   "pygments_lexer": "ipython3",
   "version": "3.13.3"
  }
 },
 "nbformat": 4,
 "nbformat_minor": 5
}
