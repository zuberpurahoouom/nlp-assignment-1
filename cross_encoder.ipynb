{
 "cells": [
  {
   "cell_type": "markdown",
   "id": "cbfbe267-b989-4c7f-91fc-7ca3f81e60e5",
   "metadata": {},
   "source": [
    "Data Loading"
   ]
  },
  {
   "cell_type": "code",
   "execution_count": 1,
   "id": "791c3d05-72f0-44b8-890c-d04e201a75c1",
   "metadata": {},
   "outputs": [],
   "source": [
    "from transformers import AutoTokenizer, AutoModelForSequenceClassification, Trainer, TrainingArguments\n",
    "from torch.utils.data import Dataset\n",
    "import pandas as pd\n",
    "\n",
    "# ---- Load Data ----\n",
    "queries = pd.read_csv(\"queries.train.tsv\", sep=\"\\t\", names=[\"qid\", \"query\"])\n",
    "collection = pd.read_csv(\"collection.tsv\", sep=\"\\t\", names=[\"pid\", \"passage\"])\n",
    "qrels = pd.read_csv(\"qrels.train.tsv\", sep=\"\\t\", names=[\"qid\", \"pid\", \"relevance\"])"
   ]
  },
  {
   "cell_type": "markdown",
   "id": "fc15fa7a-f30b-42a3-90e6-abc4635073a0",
   "metadata": {},
   "source": [
    "Formatting for the cross encoder"
   ]
  },
  {
   "cell_type": "code",
   "execution_count": 2,
   "id": "c9afe4b0-6a44-48f0-a5d6-dcc18a55f685",
   "metadata": {},
   "outputs": [],
   "source": [
    "# Merge to get (query, passage, label)\n",
    "df = qrels.merge(queries, on=\"qid\").merge(collection, on=\"pid\")\n",
    "df[\"label\"] = (df[\"relevance\"] > 0).astype(int)  # convert to binary relevance"
   ]
  },
  {
   "cell_type": "markdown",
   "id": "c8fb8f16-c3b7-46d5-9593-f35bf0bbfa71",
   "metadata": {},
   "source": [
    "Model Training"
   ]
  },
  {
   "cell_type": "markdown",
   "id": "3864a2b8-7054-40d8-9d9f-9efc474caf51",
   "metadata": {},
   "source": [
    "For cross encoder training, you need (query, passage, label) triplet"
   ]
  },
  {
   "cell_type": "code",
   "execution_count": 3,
   "id": "d34bd1b6-ef25-48cc-96b5-8ed9a2ea0c47",
   "metadata": {},
   "outputs": [
    {
     "name": "stdout",
     "output_type": "stream",
     "text": [
      "Training pairs: (2000, 3)\n"
     ]
    },
    {
     "data": {
      "text/html": [
       "<div>\n",
       "<style scoped>\n",
       "    .dataframe tbody tr th:only-of-type {\n",
       "        vertical-align: middle;\n",
       "    }\n",
       "\n",
       "    .dataframe tbody tr th {\n",
       "        vertical-align: top;\n",
       "    }\n",
       "\n",
       "    .dataframe thead th {\n",
       "        text-align: right;\n",
       "    }\n",
       "</style>\n",
       "<table border=\"1\" class=\"dataframe\">\n",
       "  <thead>\n",
       "    <tr style=\"text-align: right;\">\n",
       "      <th></th>\n",
       "      <th>query</th>\n",
       "      <th>passage</th>\n",
       "      <th>label</th>\n",
       "    </tr>\n",
       "  </thead>\n",
       "  <tbody>\n",
       "    <tr>\n",
       "      <th>0</th>\n",
       "      <td>is a little caffeine ok during pregnancy</td>\n",
       "      <td>We donât know a lot about the effects of caf...</td>\n",
       "      <td>1</td>\n",
       "    </tr>\n",
       "    <tr>\n",
       "      <th>1</th>\n",
       "      <td>what fruit is native to australia</td>\n",
       "      <td>Passiflora herbertiana. A rare passion fruit n...</td>\n",
       "      <td>1</td>\n",
       "    </tr>\n",
       "    <tr>\n",
       "      <th>2</th>\n",
       "      <td>how large is the canadian military</td>\n",
       "      <td>The Canadian Armed Forces. 1  The first large-...</td>\n",
       "      <td>1</td>\n",
       "    </tr>\n",
       "    <tr>\n",
       "      <th>3</th>\n",
       "      <td>types of fruit trees</td>\n",
       "      <td>Cherry. Cherry trees are found throughout the ...</td>\n",
       "      <td>1</td>\n",
       "    </tr>\n",
       "    <tr>\n",
       "      <th>4</th>\n",
       "      <td>how many calories a day are lost breastfeeding</td>\n",
       "      <td>Not only is breastfeeding better for the baby,...</td>\n",
       "      <td>1</td>\n",
       "    </tr>\n",
       "  </tbody>\n",
       "</table>\n",
       "</div>"
      ],
      "text/plain": [
       "                                            query  \\\n",
       "0        is a little caffeine ok during pregnancy   \n",
       "1               what fruit is native to australia   \n",
       "2              how large is the canadian military   \n",
       "3                            types of fruit trees   \n",
       "4  how many calories a day are lost breastfeeding   \n",
       "\n",
       "                                             passage  label  \n",
       "0  We donât know a lot about the effects of caf...      1  \n",
       "1  Passiflora herbertiana. A rare passion fruit n...      1  \n",
       "2  The Canadian Armed Forces. 1  The first large-...      1  \n",
       "3  Cherry. Cherry trees are found throughout the ...      1  \n",
       "4  Not only is breastfeeding better for the baby,...      1  "
      ]
     },
     "execution_count": 3,
     "metadata": {},
     "output_type": "execute_result"
    }
   ],
   "source": [
    "import pandas as pd\n",
    "\n",
    "# Load 1000 samples\n",
    "triples = pd.read_csv(\n",
    "    \"triples.train.small.tsv\",\n",
    "    sep=\"\\t\",\n",
    "    names=[\"query\", \"pos\", \"neg\"],\n",
    "    nrows=1000\n",
    ")\n",
    "\n",
    "# Convert to (query, passage, label)\n",
    "pos_df = triples[[\"query\", \"pos\"]].rename(columns={\"pos\": \"passage\"})\n",
    "pos_df[\"label\"] = 1\n",
    "\n",
    "neg_df = triples[[\"query\", \"neg\"]].rename(columns={\"neg\": \"passage\"})\n",
    "neg_df[\"label\"] = 0\n",
    "\n",
    "df = pd.concat([pos_df, neg_df]).reset_index(drop=True)\n",
    "\n",
    "print(\"Training pairs:\", df.shape)\n",
    "df.head()"
   ]
  },
  {
   "cell_type": "code",
   "execution_count": 4,
   "id": "4efd9555-b17a-4e4b-bfb0-2589189b026d",
   "metadata": {},
   "outputs": [],
   "source": [
    "from torch.utils.data import Dataset\n",
    "\n",
    "class CrossEncoderDataset(Dataset):\n",
    "    def __init__(self, df, tokenizer, max_length=256):\n",
    "        self.df = df\n",
    "        self.tokenizer = tokenizer\n",
    "        self.max_length = max_length\n",
    "\n",
    "    def __len__(self):\n",
    "        return len(self.df)\n",
    "\n",
    "    def __getitem__(self, idx):\n",
    "        row = self.df.iloc[idx]\n",
    "        enc = self.tokenizer(\n",
    "            row[\"query\"], row[\"passage\"],\n",
    "            truncation=True,\n",
    "            padding=\"max_length\",\n",
    "            max_length=self.max_length,\n",
    "            return_tensors=\"pt\"\n",
    "        )\n",
    "        item = {key: val.squeeze(0) for key, val in enc.items()}\n",
    "        item[\"labels\"] = row[\"label\"]\n",
    "        return item"
   ]
  },
  {
   "cell_type": "code",
   "execution_count": 5,
   "id": "dd68d18d-217c-449e-9709-d22a673c8b0c",
   "metadata": {},
   "outputs": [
    {
     "name": "stdout",
     "output_type": "stream",
     "text": [
      "Dataset length: 2000\n"
     ]
    }
   ],
   "source": [
    "from transformers import AutoTokenizer\n",
    "\n",
    "tokenizer = AutoTokenizer.from_pretrained(\"bert-base-uncased\")\n",
    "train_dataset = CrossEncoderDataset(df, tokenizer)\n",
    "print(\"Dataset length:\", len(train_dataset))  # should print 2000"
   ]
  },
  {
   "cell_type": "code",
   "execution_count": 6,
   "id": "eafcd139-7095-4e35-93c3-d380f3e95c3d",
   "metadata": {},
   "outputs": [
    {
     "name": "stdout",
     "output_type": "stream",
     "text": [
      "Dataset length: 2000\n"
     ]
    }
   ],
   "source": [
    "train_dataset = CrossEncoderDataset(df, tokenizer)\n",
    "print(\"Dataset length:\", len(train_dataset))  # should print 2000"
   ]
  },
  {
   "cell_type": "code",
   "execution_count": 12,
   "id": "38acd2ec-584b-4fe7-a4fa-63461ccd38e5",
   "metadata": {},
   "outputs": [
    {
     "name": "stderr",
     "output_type": "stream",
     "text": [
      "Some weights of BertForSequenceClassification were not initialized from the model checkpoint at bert-base-uncased and are newly initialized: ['classifier.bias', 'classifier.weight']\n",
      "You should probably TRAIN this model on a down-stream task to be able to use it for predictions and inference.\n"
     ]
    },
    {
     "data": {
      "text/html": [
       "\n",
       "    <div>\n",
       "      \n",
       "      <progress value='250' max='250' style='width:300px; height:20px; vertical-align: middle;'></progress>\n",
       "      [250/250 00:48, Epoch 2/2]\n",
       "    </div>\n",
       "    <table border=\"1\" class=\"dataframe\">\n",
       "  <thead>\n",
       " <tr style=\"text-align: left;\">\n",
       "      <th>Step</th>\n",
       "      <th>Training Loss</th>\n",
       "      <th>Validation Loss</th>\n",
       "    </tr>\n",
       "  </thead>\n",
       "  <tbody>\n",
       "  </tbody>\n",
       "</table><p>"
      ],
      "text/plain": [
       "<IPython.core.display.HTML object>"
      ]
     },
     "metadata": {},
     "output_type": "display_data"
    },
    {
     "data": {
      "text/plain": [
       "TrainOutput(global_step=250, training_loss=0.36691259765625, metrics={'train_runtime': 49.5668, 'train_samples_per_second': 80.699, 'train_steps_per_second': 5.044, 'total_flos': 526222110720000.0, 'train_loss': 0.36691259765625, 'epoch': 2.0})"
      ]
     },
     "execution_count": 12,
     "metadata": {},
     "output_type": "execute_result"
    }
   ],
   "source": [
    "model = AutoModelForSequenceClassification.from_pretrained(\"bert-base-uncased\", num_labels=2)\n",
    "\n",
    "training_args = TrainingArguments(\n",
    "    output_dir=\"./cross-encoder-msmarco\",\n",
    "    eval_strategy=\"steps\",\n",
    "    save_strategy=\"steps\",\n",
    "    save_total_limit=2,\n",
    "    num_train_epochs=2,\n",
    "    per_device_train_batch_size=16,\n",
    "    per_device_eval_batch_size=16,\n",
    "    learning_rate=2e-5,\n",
    "    weight_decay=0.01,\n",
    "    logging_steps=500,\n",
    "    eval_steps=5000,\n",
    "    save_steps=5000,\n",
    "    load_best_model_at_end=True,\n",
    "    fp16=True\n",
    ")\n",
    "\n",
    "trainer = Trainer(\n",
    "    model=model,\n",
    "    args=training_args,\n",
    "    train_dataset=train_dataset,\n",
    "    eval_dataset=test_df,  # you can create a dev set with qrels.dev.tsv\n",
    ")\n",
    "\n",
    "# ---- Train ----\n",
    "trainer.train()"
   ]
  },
  {
   "cell_type": "markdown",
   "id": "60219144-1f61-4f10-b20f-5acf4ab5d18e",
   "metadata": {},
   "source": [
    "Save the model"
   ]
  },
  {
   "cell_type": "code",
   "execution_count": 15,
   "id": "7253c573-93db-42ba-bb78-10ad2597a06e",
   "metadata": {},
   "outputs": [
    {
     "data": {
      "text/plain": [
       "('./cross-encoder-msmarco/tokenizer_config.json',\n",
       " './cross-encoder-msmarco/special_tokens_map.json',\n",
       " './cross-encoder-msmarco/vocab.txt',\n",
       " './cross-encoder-msmarco/added_tokens.json',\n",
       " './cross-encoder-msmarco/tokenizer.json')"
      ]
     },
     "execution_count": 15,
     "metadata": {},
     "output_type": "execute_result"
    }
   ],
   "source": [
    "# Save the model\n",
    "trainer.model.save_pretrained(\"./cross-encoder-msmarco\")\n",
    "# Save the tokenizer\n",
    "tokenizer.save_pretrained(\"./cross-encoder-msmarco\")"
   ]
  },
  {
   "cell_type": "markdown",
   "id": "7b104886-97f2-440a-ba54-7103625db825",
   "metadata": {},
   "source": [
    "Sampling a test set (different from the training set) to pass in the trainer function"
   ]
  },
  {
   "cell_type": "code",
   "execution_count": 11,
   "id": "cdf6b1d0-bc32-489a-8997-dfae24877478",
   "metadata": {},
   "outputs": [
    {
     "name": "stdout",
     "output_type": "stream",
     "text": [
      "Test pairs: (200, 3)\n"
     ]
    },
    {
     "data": {
      "text/html": [
       "<div>\n",
       "<style scoped>\n",
       "    .dataframe tbody tr th:only-of-type {\n",
       "        vertical-align: middle;\n",
       "    }\n",
       "\n",
       "    .dataframe tbody tr th {\n",
       "        vertical-align: top;\n",
       "    }\n",
       "\n",
       "    .dataframe thead th {\n",
       "        text-align: right;\n",
       "    }\n",
       "</style>\n",
       "<table border=\"1\" class=\"dataframe\">\n",
       "  <thead>\n",
       "    <tr style=\"text-align: right;\">\n",
       "      <th></th>\n",
       "      <th>query</th>\n",
       "      <th>passage</th>\n",
       "      <th>label</th>\n",
       "    </tr>\n",
       "  </thead>\n",
       "  <tbody>\n",
       "    <tr>\n",
       "      <th>0</th>\n",
       "      <td>does long term heat harm bottled water</td>\n",
       "      <td>IBWA advises consumers to store bottled water ...</td>\n",
       "      <td>1</td>\n",
       "    </tr>\n",
       "    <tr>\n",
       "      <th>1</th>\n",
       "      <td>closehandle function</td>\n",
       "      <td>CloseHandle. The CloseHandle function closes a...</td>\n",
       "      <td>1</td>\n",
       "    </tr>\n",
       "    <tr>\n",
       "      <th>2</th>\n",
       "      <td>how to get fitbit cheaper</td>\n",
       "      <td>Amazon release this product on May 1, 2013. Th...</td>\n",
       "      <td>1</td>\n",
       "    </tr>\n",
       "    <tr>\n",
       "      <th>3</th>\n",
       "      <td>bastrop jail</td>\n",
       "      <td>Here is jail inmate information for the Bastro...</td>\n",
       "      <td>1</td>\n",
       "    </tr>\n",
       "    <tr>\n",
       "      <th>4</th>\n",
       "      <td>wiley x customer service phone number</td>\n",
       "      <td>Wiley X Customer Service Phone Numbers The Cus...</td>\n",
       "      <td>1</td>\n",
       "    </tr>\n",
       "  </tbody>\n",
       "</table>\n",
       "</div>"
      ],
      "text/plain": [
       "                                    query  \\\n",
       "0  does long term heat harm bottled water   \n",
       "1                    closehandle function   \n",
       "2               how to get fitbit cheaper   \n",
       "3                            bastrop jail   \n",
       "4   wiley x customer service phone number   \n",
       "\n",
       "                                             passage  label  \n",
       "0  IBWA advises consumers to store bottled water ...      1  \n",
       "1  CloseHandle. The CloseHandle function closes a...      1  \n",
       "2  Amazon release this product on May 1, 2013. Th...      1  \n",
       "3  Here is jail inmate information for the Bastro...      1  \n",
       "4  Wiley X Customer Service Phone Numbers The Cus...      1  "
      ]
     },
     "execution_count": 11,
     "metadata": {},
     "output_type": "execute_result"
    }
   ],
   "source": [
    "# Load 100 triples for testing (not overlapping with training if you like)\n",
    "test_triples = pd.read_csv(\n",
    "    \"triples.train.small.tsv\",\n",
    "    sep=\"\\t\",\n",
    "    names=[\"query\", \"pos\", \"neg\"],\n",
    "    skiprows=1000,  # skip the first 1000 used for training\n",
    "    nrows=100\n",
    ")\n",
    "\n",
    "# Convert to (query, passage, label)\n",
    "pos_test = test_triples[[\"query\", \"pos\"]].rename(columns={\"pos\": \"passage\"})\n",
    "pos_test[\"label\"] = 1\n",
    "\n",
    "neg_test = test_triples[[\"query\", \"neg\"]].rename(columns={\"neg\": \"passage\"})\n",
    "neg_test[\"label\"] = 0\n",
    "\n",
    "test_df = pd.concat([pos_test, neg_test]).reset_index(drop=True)\n",
    "\n",
    "print(\"Test pairs:\", test_df.shape)\n",
    "test_df.head()"
   ]
  },
  {
   "cell_type": "markdown",
   "id": "f5226cba-d80a-4a00-a535-474d0e747963",
   "metadata": {},
   "source": [
    "Saving the test data for cross encoder"
   ]
  },
  {
   "cell_type": "code",
   "execution_count": null,
   "id": "39c777a5-c887-4028-b448-5d7e429fb90a",
   "metadata": {},
   "outputs": [],
   "source": [
    "# Save test dataset to a TSV file\n",
    "test_df.to_csv(\"test_cross_encoder.tsv\", sep=\"\\t\", index=False)\n",
    "\n",
    "print(\"Saved test dataset to test_cross_encoder.tsv\")"
   ]
  },
  {
   "cell_type": "markdown",
   "id": "3da3871d-9661-4b98-bf6e-39965ff4faa9",
   "metadata": {},
   "source": [
    "Load the trained model for evaluation"
   ]
  },
  {
   "cell_type": "code",
   "execution_count": 16,
   "id": "1ff15e89-d985-46e4-ae56-1743fb5df622",
   "metadata": {},
   "outputs": [
    {
     "data": {
      "text/plain": [
       "BertForSequenceClassification(\n",
       "  (bert): BertModel(\n",
       "    (embeddings): BertEmbeddings(\n",
       "      (word_embeddings): Embedding(30522, 768, padding_idx=0)\n",
       "      (position_embeddings): Embedding(512, 768)\n",
       "      (token_type_embeddings): Embedding(2, 768)\n",
       "      (LayerNorm): LayerNorm((768,), eps=1e-12, elementwise_affine=True)\n",
       "      (dropout): Dropout(p=0.1, inplace=False)\n",
       "    )\n",
       "    (encoder): BertEncoder(\n",
       "      (layer): ModuleList(\n",
       "        (0-11): 12 x BertLayer(\n",
       "          (attention): BertAttention(\n",
       "            (self): BertSdpaSelfAttention(\n",
       "              (query): Linear(in_features=768, out_features=768, bias=True)\n",
       "              (key): Linear(in_features=768, out_features=768, bias=True)\n",
       "              (value): Linear(in_features=768, out_features=768, bias=True)\n",
       "              (dropout): Dropout(p=0.1, inplace=False)\n",
       "            )\n",
       "            (output): BertSelfOutput(\n",
       "              (dense): Linear(in_features=768, out_features=768, bias=True)\n",
       "              (LayerNorm): LayerNorm((768,), eps=1e-12, elementwise_affine=True)\n",
       "              (dropout): Dropout(p=0.1, inplace=False)\n",
       "            )\n",
       "          )\n",
       "          (intermediate): BertIntermediate(\n",
       "            (dense): Linear(in_features=768, out_features=3072, bias=True)\n",
       "            (intermediate_act_fn): GELUActivation()\n",
       "          )\n",
       "          (output): BertOutput(\n",
       "            (dense): Linear(in_features=3072, out_features=768, bias=True)\n",
       "            (LayerNorm): LayerNorm((768,), eps=1e-12, elementwise_affine=True)\n",
       "            (dropout): Dropout(p=0.1, inplace=False)\n",
       "          )\n",
       "        )\n",
       "      )\n",
       "    )\n",
       "    (pooler): BertPooler(\n",
       "      (dense): Linear(in_features=768, out_features=768, bias=True)\n",
       "      (activation): Tanh()\n",
       "    )\n",
       "  )\n",
       "  (dropout): Dropout(p=0.1, inplace=False)\n",
       "  (classifier): Linear(in_features=768, out_features=2, bias=True)\n",
       ")"
      ]
     },
     "execution_count": 16,
     "metadata": {},
     "output_type": "execute_result"
    }
   ],
   "source": [
    "from transformers import AutoTokenizer, AutoModelForSequenceClassification\n",
    "import torch\n",
    "\n",
    "# Load saved model and tokenizer\n",
    "tokenizer = AutoTokenizer.from_pretrained(\"./cross-encoder-msmarco\")\n",
    "model = AutoModelForSequenceClassification.from_pretrained(\"./cross-encoder-msmarco\")\n",
    "model.eval()  # set to evaluation mode"
   ]
  },
  {
   "cell_type": "code",
   "execution_count": 17,
   "id": "ff00bc2c-5b1f-4163-ae7d-7e4d420659f7",
   "metadata": {},
   "outputs": [],
   "source": [
    "import pandas as pd\n",
    "\n",
    "test_df = pd.read_csv(\"test_cross_encoder.tsv\", sep=\"\\t\")"
   ]
  },
  {
   "cell_type": "markdown",
   "id": "fd718052-4728-4ecc-a7b1-f68fd35f79db",
   "metadata": {},
   "source": [
    "Score passages for a query and rank them"
   ]
  },
  {
   "cell_type": "code",
   "execution_count": 18,
   "id": "d003cd0b-76e8-4778-9663-a96c13f79b9b",
   "metadata": {},
   "outputs": [
    {
     "name": "stdout",
     "output_type": "stream",
     "text": [
      "Ranking:\n",
      "1.2381 | label=1 | IBWA advises consumers to store bottled water at room temperature or cooler, out of direct sunlight ...\n",
      "0.8556 | label=0 | According to the International Bottled Water Association, âBottled water can be used indefinitely ...\n"
     ]
    }
   ],
   "source": [
    "query = \"does long term heat harm bottled water\"\n",
    "candidates = test_df[test_df[\"query\"] == query]\n",
    "passages = candidates[\"passage\"].tolist()\n",
    "labels = candidates[\"label\"].tolist()\n",
    "\n",
    "# Tokenize query-passage pairs\n",
    "inputs = tokenizer([query]*len(passages), passages, padding=True, truncation=True, return_tensors=\"pt\")\n",
    "\n",
    "# Score\n",
    "with torch.no_grad():\n",
    "    outputs = model(**inputs)\n",
    "    scores = outputs.logits[:, 1].tolist()  # relevance score for label=1\n",
    "\n",
    "# Rank passages by score descending\n",
    "ranked = sorted(zip(passages, labels, scores), key=lambda x: x[2], reverse=True)\n",
    "print(\"Ranking:\")\n",
    "for passage, label, score in ranked:\n",
    "    print(f\"{score:.4f} | label={label} | {passage[:100]}...\")"
   ]
  },
  {
   "cell_type": "markdown",
   "id": "44bc13e5-9382-4f24-91d5-4f9344d1b72b",
   "metadata": {},
   "source": [
    "Compute ranking metrics"
   ]
  },
  {
   "cell_type": "code",
   "execution_count": 20,
   "id": "751f226d-f91e-4748-820d-33d9f7137746",
   "metadata": {},
   "outputs": [
    {
     "name": "stdout",
     "output_type": "stream",
     "text": [
      "MAP: 1.0\n",
      "Precision@3: 0.3333333333333333\n",
      "nDCG@3: 1.0\n"
     ]
    }
   ],
   "source": [
    "import numpy as np\n",
    "from sklearn.metrics import average_precision_score\n",
    "\n",
    "y_true = [label for _, label, _ in ranked]\n",
    "y_score = [score for _, _, score in ranked]\n",
    "\n",
    "# Mean Average Precision (MAP)\n",
    "map_score = average_precision_score(y_true, y_score)\n",
    "print(\"MAP:\", map_score)\n",
    "\n",
    "# Precision@k\n",
    "k = 3\n",
    "precision_at_k = sum(y_true[:k])/k\n",
    "print(f\"Precision@{k}:\", precision_at_k)\n",
    "\n",
    "# nDCG@k\n",
    "def dcg(rels):\n",
    "    return sum((2**r - 1)/np.log2(i+2) for i,r in enumerate(rels))\n",
    "\n",
    "ideal = sorted(y_true, reverse=True)[:k]\n",
    "ndcg_score = dcg(y_true[:k])/dcg(ideal) if dcg(ideal) > 0 else 0\n",
    "print(f\"nDCG@{k}:\", ndcg_score)"
   ]
  }
 ],
 "metadata": {
  "kernelspec": {
   "display_name": "Python 3",
   "language": "python",
   "name": "python3"
  },
  "language_info": {
   "codemirror_mode": {
    "name": "ipython",
    "version": 3
   },
   "file_extension": ".py",
   "mimetype": "text/x-python",
   "name": "python",
   "nbconvert_exporter": "python",
   "pygments_lexer": "ipython3",
   "version": "3.10.10"
  }
 },
 "nbformat": 4,
 "nbformat_minor": 5
}
